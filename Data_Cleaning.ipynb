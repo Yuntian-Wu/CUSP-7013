{
 "cells": [
  {
   "cell_type": "markdown",
   "id": "26f1fbaf",
   "metadata": {},
   "source": [
    "# Data clean\n",
    "data:\n",
    "1. NYPD Complaint Data Historic\n",
    "https://data.cityofnewyork.us/resource/qgea-i56i.csv\n",
    "2. Local Area Unemployment Statistics\n",
    "https://data.ny.gov/resource/5hyu-bdh8.csv\n",
    "3. Shapefiles of NYC zip codes \n",
    "https://data.cityofnewyork.us/Business/Zip-Code-Boundaries/i8iw-xf4u/data?no_mobile=true .\n",
    "\n",
    "- Downlowad the NYPD Complaint Data Historic and Local Area Unemployment Statistics first, using the given links\n"
   ]
  },
  {
   "cell_type": "code",
   "execution_count": 1,
   "id": "06247caa",
   "metadata": {},
   "outputs": [],
   "source": [
    "import pandas as pd\n",
    "from sklearn.datasets import make_classification\n",
    "from sklearn.datasets import make_blobs\n",
    "from matplotlib.pylab import plt\n",
    "import numpy as np\n",
    "%matplotlib inline\n",
    "import warnings\n",
    "import geopandas as gpd\n",
    "from urllib.request import urlopen \n",
    "import json\n",
    "import urllib\n",
    "warnings.filterwarnings('ignore')\n",
    "from zipfile import ZipFile"
   ]
  },
  {
   "cell_type": "markdown",
   "id": "fd75e910",
   "metadata": {},
   "source": [
    "# Local Area Unemployment Statistics"
   ]
  },
  {
   "cell_type": "code",
   "execution_count": 2,
   "id": "0bf1ea36",
   "metadata": {},
   "outputs": [],
   "source": [
    "# Using ZipFile to read large csv file\n",
    "#zip_file = ZipFile('Local_Area_Unemployment_Statistics__Beginning_1976.csv.zip')\n",
    "#Unemployment_data = pd.read_csv(zip_file.open('Local_Area_Unemployment_Statistics__Beginning_1976.csv'))\n",
    "Unemployment_data = pd.read_csv('Local_Area_Unemployment_Statistics__Beginning_1976.csv')"
   ]
  },
  {
   "cell_type": "code",
   "execution_count": 3,
   "id": "d9bc2fa0",
   "metadata": {},
   "outputs": [
    {
     "data": {
      "text/plain": [
       "(89078, 7)"
      ]
     },
     "execution_count": 3,
     "metadata": {},
     "output_type": "execute_result"
    }
   ],
   "source": [
    "Unemployment_data.shape"
   ]
  },
  {
   "cell_type": "code",
   "execution_count": 4,
   "id": "519cb96d",
   "metadata": {},
   "outputs": [
    {
     "data": {
      "text/html": [
       "<div>\n",
       "<style scoped>\n",
       "    .dataframe tbody tr th:only-of-type {\n",
       "        vertical-align: middle;\n",
       "    }\n",
       "\n",
       "    .dataframe tbody tr th {\n",
       "        vertical-align: top;\n",
       "    }\n",
       "\n",
       "    .dataframe thead th {\n",
       "        text-align: right;\n",
       "    }\n",
       "</style>\n",
       "<table border=\"1\" class=\"dataframe\">\n",
       "  <thead>\n",
       "    <tr style=\"text-align: right;\">\n",
       "      <th></th>\n",
       "      <th>Area</th>\n",
       "      <th>Year</th>\n",
       "      <th>Month</th>\n",
       "      <th>Labor Force</th>\n",
       "      <th>Employed</th>\n",
       "      <th>Unemployed</th>\n",
       "      <th>Unemployment Rate</th>\n",
       "    </tr>\n",
       "  </thead>\n",
       "  <tbody>\n",
       "    <tr>\n",
       "      <th>0</th>\n",
       "      <td>New York State</td>\n",
       "      <td>2023</td>\n",
       "      <td>1</td>\n",
       "      <td>9594400</td>\n",
       "      <td>9155000</td>\n",
       "      <td>439400</td>\n",
       "      <td>4.6</td>\n",
       "    </tr>\n",
       "    <tr>\n",
       "      <th>1</th>\n",
       "      <td>New York State</td>\n",
       "      <td>2023</td>\n",
       "      <td>2</td>\n",
       "      <td>9664000</td>\n",
       "      <td>9232800</td>\n",
       "      <td>431200</td>\n",
       "      <td>4.5</td>\n",
       "    </tr>\n",
       "    <tr>\n",
       "      <th>2</th>\n",
       "      <td>New York State</td>\n",
       "      <td>2023</td>\n",
       "      <td>3</td>\n",
       "      <td>9687400</td>\n",
       "      <td>9295600</td>\n",
       "      <td>391900</td>\n",
       "      <td>4.0</td>\n",
       "    </tr>\n",
       "    <tr>\n",
       "      <th>3</th>\n",
       "      <td>New York State</td>\n",
       "      <td>2023</td>\n",
       "      <td>4</td>\n",
       "      <td>9652700</td>\n",
       "      <td>9296800</td>\n",
       "      <td>355900</td>\n",
       "      <td>3.7</td>\n",
       "    </tr>\n",
       "    <tr>\n",
       "      <th>4</th>\n",
       "      <td>New York State</td>\n",
       "      <td>2023</td>\n",
       "      <td>5</td>\n",
       "      <td>9720600</td>\n",
       "      <td>9349700</td>\n",
       "      <td>370900</td>\n",
       "      <td>3.8</td>\n",
       "    </tr>\n",
       "  </tbody>\n",
       "</table>\n",
       "</div>"
      ],
      "text/plain": [
       "             Area  Year  Month  Labor Force  Employed  Unemployed  \\\n",
       "0  New York State  2023      1      9594400   9155000      439400   \n",
       "1  New York State  2023      2      9664000   9232800      431200   \n",
       "2  New York State  2023      3      9687400   9295600      391900   \n",
       "3  New York State  2023      4      9652700   9296800      355900   \n",
       "4  New York State  2023      5      9720600   9349700      370900   \n",
       "\n",
       "   Unemployment Rate                                                                                                                                                                        \n",
       "0                                                4.6                                                                                                                                        \n",
       "1                                                4.5                                                                                                                                        \n",
       "2                                                4.0                                                                                                                                        \n",
       "3                                                3.7                                                                                                                                        \n",
       "4                                                3.8                                                                                                                                        "
      ]
     },
     "execution_count": 4,
     "metadata": {},
     "output_type": "execute_result"
    }
   ],
   "source": [
    "Unemployment_data.head()"
   ]
  },
  {
   "cell_type": "markdown",
   "id": "994e50b6",
   "metadata": {},
   "source": [
    "## Data Cleaning Tasks\n",
    "1. Data year from 2013 to 2022\n",
    "2. area within New York City\n",
    "The boroughs are the Bronx, Brooklyn, Manhattan, Queens, and Staten Island. \n",
    "Each borough is coextensive with a respective county of the State of New York: The Bronx is Bronx County, Brooklyn is Kings County, Manhattan is New York County, Queens is Queens County, and Staten Island is Richmond County.\n",
    "3. Converting an Datetime feild"
   ]
  },
  {
   "cell_type": "code",
   "execution_count": 5,
   "id": "be33e93e",
   "metadata": {},
   "outputs": [
    {
     "data": {
      "text/plain": [
       "(26520, 7)"
      ]
     },
     "execution_count": 5,
     "metadata": {},
     "output_type": "execute_result"
    }
   ],
   "source": [
    "# Keep data only from year 2012 to 2022\n",
    "sanityindex = ((Unemployment_data['Year'] >=2013) & (Unemployment_data['Year'] <=2022))\n",
    "Unemployment_data = Unemployment_data.loc[sanityindex]\n",
    "Unemployment_data.shape"
   ]
  },
  {
   "cell_type": "code",
   "execution_count": 6,
   "id": "339bda82",
   "metadata": {},
   "outputs": [
    {
     "data": {
      "text/plain": [
       "array(['New York State', 'Albany County', 'Allegany County',\n",
       "       'Bronx County', 'Broome County', 'Cattaraugus County',\n",
       "       'Cayuga County', 'Chautauqua County', 'Chemung County',\n",
       "       'Chenango County', 'Clinton County', 'Columbia County',\n",
       "       'Cortland County', 'Delaware County', 'Dutchess County',\n",
       "       'Erie County', 'Essex County', 'Franklin County', 'Fulton County',\n",
       "       'Genesee County', 'Greene County', 'Hamilton County',\n",
       "       'Herkimer County', 'Jefferson County', 'Kings County',\n",
       "       'Lewis County', 'Livingston County', 'Madison County',\n",
       "       'Monroe County', 'Montgomery County', 'Nassau County',\n",
       "       'New York County', 'Niagara County', 'Oneida County',\n",
       "       'Onondaga County', 'Ontario County', 'Orange County',\n",
       "       'Orleans County', 'Oswego County', 'Otsego County',\n",
       "       'Putnam County', 'Queens County', 'Rensselaer County',\n",
       "       'Richmond County', 'Rockland County', 'Saratoga County',\n",
       "       'Schenectady County', 'Schoharie County', 'Schuyler County',\n",
       "       'Seneca County', 'St. Lawrence County', 'Steuben County',\n",
       "       'Suffolk County', 'Sullivan County', 'Tioga County',\n",
       "       'Tompkins County', 'Ulster County', 'Warren County',\n",
       "       'Washington County', 'Wayne County', 'Westchester County',\n",
       "       'Wyoming County', 'Yates County', 'Capital Region',\n",
       "       'Central New York', 'Finger Lakes', 'Hudson Valley', 'Long Island',\n",
       "       'Mohawk Valley', 'New York City', 'North Country', 'Southern Tier',\n",
       "       'Western New York', 'Albany-Rensselaer-Schenectady Counties',\n",
       "       'Allegany-Cattaraugus', 'Broome-Tioga', 'Cayuga-Cortland',\n",
       "       'Chautauqua', 'Chemung-Schuyler-Steuben',\n",
       "       'Chenango-Delaware-Otsego', 'Clinton-Essex-Franklin-Hamilton',\n",
       "       'Columbia-Greene', 'Dutchess', 'Erie',\n",
       "       'Fulton-Montgomery-Schoharie',\n",
       "       'Genesee-Livingston-Orleans-Wyoming', 'Hempstead-Long Beach',\n",
       "       'Herkimer-Madison-Oneida', 'Jefferson-Lewis', 'Monroe', 'Niagara',\n",
       "       'Onondaga', 'Ontario-Seneca-Wayne-Yates', 'Orange', 'Oswego',\n",
       "       'Oyster Bay-North Hempstead-Glen Cove',\n",
       "       'Putnam-Balance Of Westchester', 'Rockland',\n",
       "       'Saratoga-Warren-Washington', 'St. Lawrence', 'Suffolk',\n",
       "       'Sullivan', 'Tompkins', 'Ulster', 'Yonkers',\n",
       "       'Albany-Schenectady-Troy Metro Area', 'Binghamton Metro Area',\n",
       "       'Buffalo-Niagara Falls Metro Area', 'Elmira Metro Area',\n",
       "       'Glens Falls Metro Area', 'Ithaca Metro Area',\n",
       "       'Kingston Metro Area', 'Orange-Rockland-Westchester Metro Area',\n",
       "       'Rochester Metro Area', 'Syracuse Metro Area',\n",
       "       'Utica-Rome Metro Area', 'Watertown-Fort Drum Metro Area',\n",
       "       'Dutchess-Putnam Metropolitan Division',\n",
       "       'Nassau-Suffolk Metropolitan Division', 'Balance of State',\n",
       "       'Albany City', 'Amherst Town', 'Auburn City', 'Babylon Town',\n",
       "       'Bethlehem Town', 'Binghamton City', 'Brighton Town',\n",
       "       'Brookhaven Town', 'Buffalo City', 'Carmel Town',\n",
       "       'Cheektowaga Town', 'Chili Town', 'Cicero Town', 'Clarence Town',\n",
       "       'Clarkstown Town', 'Clay Town', 'Clifton Park Town',\n",
       "       'Colonie Town', 'Cortlandt Town', 'De Witt Town',\n",
       "       'East Fishkill Town Ny', 'Eastchester Town', 'Elmira City',\n",
       "       'Freeport Village', 'Gates Town', 'Glen Cove City',\n",
       "       'Glenville Town', 'Greece Town', 'Greenburgh Town',\n",
       "       'Guilderland Town', 'Hamburg Town', 'Harrison Village',\n",
       "       'Haverstraw Town', 'Hempstead Town', 'Hempstead Village',\n",
       "       'Henrietta Town', 'Huntington Town', 'Irondequoit Town',\n",
       "       'Islip Town', 'Ithaca City', 'Jamestown City', 'Lancaster Town',\n",
       "       'Lindenhurst', 'Lockport City', 'Long Beach City',\n",
       "       'Mamaroneck Town', 'Manlius Town', 'Middletown City',\n",
       "       'Monroe Town', 'Mount Pleasant Town', 'Mount Vernon City',\n",
       "       'New Rochelle City', 'New Windsor Town', 'Newburgh City',\n",
       "       'Newburgh Town', 'Niagara Falls City', 'North Hempstead Town',\n",
       "       'North Tonawanda City', 'Orangetown Town', 'Orchard Park Town',\n",
       "       'Ossining Town', 'Ossining Village', 'Oyster Bay Town',\n",
       "       'Penfield Town', 'Perinton Town', 'Pittsford Town',\n",
       "       'Port Chester Village Ny', 'Poughkeepsie City',\n",
       "       'Poughkeepsie Town', 'Queensbury Town', 'Ramapo Town',\n",
       "       'Riverhead Town Ny', 'Rochester City', 'Rockville Centre',\n",
       "       'Rome City', 'Rotterdam Town', 'Rye Town', 'Salina Town',\n",
       "       'Saratoga Springs City', 'Schenectady City', 'Smithtown Town',\n",
       "       'Southampton', 'Spring Valley Village', 'Syracuse City',\n",
       "       'Tonawanda Town', 'Troy City', 'Union Town', 'Utica City',\n",
       "       'Valley Stream', 'Vestal Town', 'Wallkill Town Ny',\n",
       "       'Wappinger Town', 'Warwick Town', 'Watertown City', 'Webster Town',\n",
       "       'West Seneca Town', 'White Plains City', 'Yonkers City',\n",
       "       'Yorktown Town'], dtype=object)"
      ]
     },
     "execution_count": 6,
     "metadata": {},
     "output_type": "execute_result"
    }
   ],
   "source": [
    "# Unique Area \n",
    "Unemployment_data.Area.unique()"
   ]
  },
  {
   "cell_type": "code",
   "execution_count": 7,
   "id": "e8e50464",
   "metadata": {},
   "outputs": [
    {
     "data": {
      "text/plain": [
       "(600, 7)"
      ]
     },
     "execution_count": 7,
     "metadata": {},
     "output_type": "execute_result"
    }
   ],
   "source": [
    "# Bronx, Brooklyn, Manhattan, Queens, and Staten Island\n",
    "NYC_counties = ['Bronx County','Kings County','New York County','Queens County','Richmond County']\n",
    "Unemployment_data = Unemployment_data[Unemployment_data['Area'].isin(NYC_counties)]\n",
    "Unemployment_data.shape"
   ]
  },
  {
   "cell_type": "code",
   "execution_count": 8,
   "id": "1736c7ce",
   "metadata": {},
   "outputs": [],
   "source": [
    "# Combine Year and Month, convert to Datetime\n",
    "Unemployment_data['YearMonth'] = pd.to_datetime(Unemployment_data['Year'].astype(str) + '-' +\n",
    "                                           Unemployment_data['Month'].astype(str).str.zfill(2))\n",
    "Unemployment_data['YearMonth'] = Unemployment_data['YearMonth'].dt.to_period('M')"
   ]
  },
  {
   "cell_type": "code",
   "execution_count": 9,
   "id": "cde7c0e7",
   "metadata": {},
   "outputs": [],
   "source": [
    "Unemployment_data.reset_index(inplace = True, drop = True)"
   ]
  },
  {
   "cell_type": "code",
   "execution_count": 10,
   "id": "1a1ee4ff",
   "metadata": {},
   "outputs": [
    {
     "data": {
      "text/html": [
       "<div>\n",
       "<style scoped>\n",
       "    .dataframe tbody tr th:only-of-type {\n",
       "        vertical-align: middle;\n",
       "    }\n",
       "\n",
       "    .dataframe tbody tr th {\n",
       "        vertical-align: top;\n",
       "    }\n",
       "\n",
       "    .dataframe thead th {\n",
       "        text-align: right;\n",
       "    }\n",
       "</style>\n",
       "<table border=\"1\" class=\"dataframe\">\n",
       "  <thead>\n",
       "    <tr style=\"text-align: right;\">\n",
       "      <th></th>\n",
       "      <th>Area</th>\n",
       "      <th>Year</th>\n",
       "      <th>Month</th>\n",
       "      <th>Labor Force</th>\n",
       "      <th>Employed</th>\n",
       "      <th>Unemployed</th>\n",
       "      <th>Unemployment Rate</th>\n",
       "      <th>YearMonth</th>\n",
       "    </tr>\n",
       "  </thead>\n",
       "  <tbody>\n",
       "    <tr>\n",
       "      <th>0</th>\n",
       "      <td>Bronx County</td>\n",
       "      <td>2022</td>\n",
       "      <td>1</td>\n",
       "      <td>612200</td>\n",
       "      <td>546100</td>\n",
       "      <td>66100</td>\n",
       "      <td>10.8</td>\n",
       "      <td>2022-01</td>\n",
       "    </tr>\n",
       "    <tr>\n",
       "      <th>1</th>\n",
       "      <td>Bronx County</td>\n",
       "      <td>2022</td>\n",
       "      <td>2</td>\n",
       "      <td>612400</td>\n",
       "      <td>551600</td>\n",
       "      <td>60800</td>\n",
       "      <td>9.9</td>\n",
       "      <td>2022-02</td>\n",
       "    </tr>\n",
       "    <tr>\n",
       "      <th>2</th>\n",
       "      <td>Bronx County</td>\n",
       "      <td>2022</td>\n",
       "      <td>3</td>\n",
       "      <td>607800</td>\n",
       "      <td>555000</td>\n",
       "      <td>52800</td>\n",
       "      <td>8.7</td>\n",
       "      <td>2022-03</td>\n",
       "    </tr>\n",
       "    <tr>\n",
       "      <th>3</th>\n",
       "      <td>Bronx County</td>\n",
       "      <td>2022</td>\n",
       "      <td>4</td>\n",
       "      <td>600700</td>\n",
       "      <td>552800</td>\n",
       "      <td>47900</td>\n",
       "      <td>8.0</td>\n",
       "      <td>2022-04</td>\n",
       "    </tr>\n",
       "    <tr>\n",
       "      <th>4</th>\n",
       "      <td>Bronx County</td>\n",
       "      <td>2022</td>\n",
       "      <td>5</td>\n",
       "      <td>599000</td>\n",
       "      <td>554700</td>\n",
       "      <td>44300</td>\n",
       "      <td>7.4</td>\n",
       "      <td>2022-05</td>\n",
       "    </tr>\n",
       "  </tbody>\n",
       "</table>\n",
       "</div>"
      ],
      "text/plain": [
       "           Area  Year  Month  Labor Force  Employed  Unemployed  \\\n",
       "0  Bronx County  2022      1       612200    546100       66100   \n",
       "1  Bronx County  2022      2       612400    551600       60800   \n",
       "2  Bronx County  2022      3       607800    555000       52800   \n",
       "3  Bronx County  2022      4       600700    552800       47900   \n",
       "4  Bronx County  2022      5       599000    554700       44300   \n",
       "\n",
       "   Unemployment Rate                                                                                                                                                                        \\\n",
       "0                                               10.8                                                                                                                                         \n",
       "1                                                9.9                                                                                                                                         \n",
       "2                                                8.7                                                                                                                                         \n",
       "3                                                8.0                                                                                                                                         \n",
       "4                                                7.4                                                                                                                                         \n",
       "\n",
       "  YearMonth  \n",
       "0   2022-01  \n",
       "1   2022-02  \n",
       "2   2022-03  \n",
       "3   2022-04  \n",
       "4   2022-05  "
      ]
     },
     "execution_count": 10,
     "metadata": {},
     "output_type": "execute_result"
    }
   ],
   "source": [
    "Unemployment_data.head()"
   ]
  },
  {
   "cell_type": "code",
   "execution_count": 11,
   "id": "08e51854",
   "metadata": {},
   "outputs": [],
   "source": [
    "# Save the cleaned data\n",
    "Unemployment_data.to_csv(\"Unemployment_data_cleaned.csv\",index=False)"
   ]
  },
  {
   "cell_type": "markdown",
   "id": "a7f3411c",
   "metadata": {},
   "source": [
    "## NYPD Complaint Data Historic"
   ]
  },
  {
   "cell_type": "markdown",
   "id": "331141ac",
   "metadata": {},
   "source": [
    "The data disctionary is here:https://data.cityofnewyork.us/api/views/qgea-i56i/files/b21ec89f-4d7b-494e-b2e9-f69ae7f4c228?download=true&filename=NYPD_Complaint_Incident_Level_Data_Footnotes.pdf"
   ]
  },
  {
   "cell_type": "markdown",
   "id": "9ac6af3c",
   "metadata": {},
   "source": [
    "The focus of this notebook would be on following columns - 'CMPLNT_NUM','BORO_NM','CMPLNT_FR_DT','CMPLNT_FR_TM','OFNS_DESC','PARKS_NM','Latitude', 'Longitude'"
   ]
  },
  {
   "cell_type": "markdown",
   "id": "ab6dd78c",
   "metadata": {},
   "source": [
    "'CMPLNT_NUM' is a unique id for each complaint, \n",
    "'BORO' is name of borough where complaint was reported,\n",
    "'CMPLNT_FR_DT' and 'CMPLNT_FR_TM' are date and time of complaint respectively, \n",
    "'OFNS_DESC' is the type of offence reported, \n",
    "'PARKS_NM' is name of park where complaint recorded (if any) and \n",
    "'Latitude', 'Longitude' are location of complaint."
   ]
  },
  {
   "cell_type": "code",
   "execution_count": 12,
   "id": "4fe8f76c",
   "metadata": {},
   "outputs": [],
   "source": [
    "# NYPD Complaint Data Historic \n",
    "# Using ZipFile to read large csv file\n",
    "#zip_file = ZipFile('NYPD_Complaint_Data_Historic_20231206.csv.zip')\n",
    "#Complaint_data = pd.read_csv(zip_file.open('NYPD_Complaint_Data_Historic_20231206.csv'))\n",
    "Complaint_data = pd.read_csv('NYPD_Complaint_Data_Historic_20231206.csv')"
   ]
  },
  {
   "cell_type": "code",
   "execution_count": 13,
   "id": "ccf7271c",
   "metadata": {},
   "outputs": [
    {
     "data": {
      "text/plain": [
       "(8353049, 35)"
      ]
     },
     "execution_count": 13,
     "metadata": {},
     "output_type": "execute_result"
    }
   ],
   "source": [
    "Complaint_data.shape"
   ]
  },
  {
   "cell_type": "code",
   "execution_count": 14,
   "id": "db799141",
   "metadata": {},
   "outputs": [
    {
     "data": {
      "text/plain": [
       "Index(['CMPLNT_NUM', 'CMPLNT_FR_DT', 'CMPLNT_FR_TM', 'CMPLNT_TO_DT',\n",
       "       'CMPLNT_TO_TM', 'ADDR_PCT_CD', 'RPT_DT', 'KY_CD', 'OFNS_DESC', 'PD_CD',\n",
       "       'PD_DESC', 'CRM_ATPT_CPTD_CD', 'LAW_CAT_CD', 'BORO_NM',\n",
       "       'LOC_OF_OCCUR_DESC', 'PREM_TYP_DESC', 'JURIS_DESC', 'JURISDICTION_CODE',\n",
       "       'PARKS_NM', 'HADEVELOPT', 'HOUSING_PSA', 'X_COORD_CD', 'Y_COORD_CD',\n",
       "       'SUSP_AGE_GROUP', 'SUSP_RACE', 'SUSP_SEX', 'TRANSIT_DISTRICT',\n",
       "       'Latitude', 'Longitude', 'Lat_Lon', 'PATROL_BORO', 'STATION_NAME',\n",
       "       'VIC_AGE_GROUP', 'VIC_RACE', 'VIC_SEX'],\n",
       "      dtype='object')"
      ]
     },
     "execution_count": 14,
     "metadata": {},
     "output_type": "execute_result"
    }
   ],
   "source": [
    "Complaint_data.columns"
   ]
  },
  {
   "cell_type": "markdown",
   "id": "c98dc204",
   "metadata": {},
   "source": [
    "## Select the interested columns"
   ]
  },
  {
   "cell_type": "code",
   "execution_count": 15,
   "id": "8040ce7d",
   "metadata": {},
   "outputs": [
    {
     "data": {
      "text/plain": [
       "(8353049, 9)"
      ]
     },
     "execution_count": 15,
     "metadata": {},
     "output_type": "execute_result"
    }
   ],
   "source": [
    "selectedCol = ['CMPLNT_NUM','BORO_NM','CMPLNT_FR_DT','CMPLNT_FR_TM','LAW_CAT_CD','OFNS_DESC','PARKS_NM','Latitude', 'Longitude']\n",
    "Complaint_data = Complaint_data[selectedCol]\n",
    "Complaint_data.shape"
   ]
  },
  {
   "cell_type": "code",
   "execution_count": 16,
   "id": "ffa89b7f",
   "metadata": {},
   "outputs": [
    {
     "data": {
      "text/html": [
       "<div>\n",
       "<style scoped>\n",
       "    .dataframe tbody tr th:only-of-type {\n",
       "        vertical-align: middle;\n",
       "    }\n",
       "\n",
       "    .dataframe tbody tr th {\n",
       "        vertical-align: top;\n",
       "    }\n",
       "\n",
       "    .dataframe thead th {\n",
       "        text-align: right;\n",
       "    }\n",
       "</style>\n",
       "<table border=\"1\" class=\"dataframe\">\n",
       "  <thead>\n",
       "    <tr style=\"text-align: right;\">\n",
       "      <th></th>\n",
       "      <th>CMPLNT_NUM</th>\n",
       "      <th>BORO_NM</th>\n",
       "      <th>CMPLNT_FR_DT</th>\n",
       "      <th>CMPLNT_FR_TM</th>\n",
       "      <th>LAW_CAT_CD</th>\n",
       "      <th>OFNS_DESC</th>\n",
       "      <th>PARKS_NM</th>\n",
       "      <th>Latitude</th>\n",
       "      <th>Longitude</th>\n",
       "    </tr>\n",
       "  </thead>\n",
       "  <tbody>\n",
       "    <tr>\n",
       "      <th>0</th>\n",
       "      <td>10600119</td>\n",
       "      <td>MANHATTAN</td>\n",
       "      <td>01/01/2002</td>\n",
       "      <td>11:00:00</td>\n",
       "      <td>FELONY</td>\n",
       "      <td>RAPE</td>\n",
       "      <td>(null)</td>\n",
       "      <td>NaN</td>\n",
       "      <td>NaN</td>\n",
       "    </tr>\n",
       "    <tr>\n",
       "      <th>1</th>\n",
       "      <td>11052575</td>\n",
       "      <td>BRONX</td>\n",
       "      <td>04/22/2005</td>\n",
       "      <td>02:00:00</td>\n",
       "      <td>FELONY</td>\n",
       "      <td>GRAND LARCENY OF MOTOR VEHICLE</td>\n",
       "      <td>(null)</td>\n",
       "      <td>NaN</td>\n",
       "      <td>NaN</td>\n",
       "    </tr>\n",
       "    <tr>\n",
       "      <th>2</th>\n",
       "      <td>10832306</td>\n",
       "      <td>BROOKLYN</td>\n",
       "      <td>07/11/2005</td>\n",
       "      <td>20:00:00</td>\n",
       "      <td>MISDEMEANOR</td>\n",
       "      <td>UNAUTHORIZED USE OF A VEHICLE</td>\n",
       "      <td>(null)</td>\n",
       "      <td>NaN</td>\n",
       "      <td>NaN</td>\n",
       "    </tr>\n",
       "    <tr>\n",
       "      <th>3</th>\n",
       "      <td>10107192</td>\n",
       "      <td>BRONX</td>\n",
       "      <td>10/19/2005</td>\n",
       "      <td>20:30:00</td>\n",
       "      <td>FELONY</td>\n",
       "      <td>MISCELLANEOUS PENAL LAW</td>\n",
       "      <td>(null)</td>\n",
       "      <td>NaN</td>\n",
       "      <td>NaN</td>\n",
       "    </tr>\n",
       "    <tr>\n",
       "      <th>4</th>\n",
       "      <td>23893731</td>\n",
       "      <td>BRONX</td>\n",
       "      <td>12/04/2005</td>\n",
       "      <td>09:00:00</td>\n",
       "      <td>FELONY</td>\n",
       "      <td>GRAND LARCENY</td>\n",
       "      <td>(null)</td>\n",
       "      <td>NaN</td>\n",
       "      <td>NaN</td>\n",
       "    </tr>\n",
       "  </tbody>\n",
       "</table>\n",
       "</div>"
      ],
      "text/plain": [
       "  CMPLNT_NUM    BORO_NM CMPLNT_FR_DT CMPLNT_FR_TM   LAW_CAT_CD  \\\n",
       "0   10600119  MANHATTAN   01/01/2002     11:00:00       FELONY   \n",
       "1   11052575      BRONX   04/22/2005     02:00:00       FELONY   \n",
       "2   10832306   BROOKLYN   07/11/2005     20:00:00  MISDEMEANOR   \n",
       "3   10107192      BRONX   10/19/2005     20:30:00       FELONY   \n",
       "4   23893731      BRONX   12/04/2005     09:00:00       FELONY   \n",
       "\n",
       "                        OFNS_DESC PARKS_NM  Latitude  Longitude  \n",
       "0                            RAPE   (null)       NaN        NaN  \n",
       "1  GRAND LARCENY OF MOTOR VEHICLE   (null)       NaN        NaN  \n",
       "2   UNAUTHORIZED USE OF A VEHICLE   (null)       NaN        NaN  \n",
       "3         MISCELLANEOUS PENAL LAW   (null)       NaN        NaN  \n",
       "4                   GRAND LARCENY   (null)       NaN        NaN  "
      ]
     },
     "execution_count": 16,
     "metadata": {},
     "output_type": "execute_result"
    }
   ],
   "source": [
    "Complaint_data.head()"
   ]
  },
  {
   "cell_type": "markdown",
   "id": "0723b135",
   "metadata": {},
   "source": [
    "## Data Cleaning task"
   ]
  },
  {
   "cell_type": "markdown",
   "id": "f111d368",
   "metadata": {},
   "source": [
    "### 1. Filter out missing/wrong date and times, missing borough name and duplicate complaints from the data"
   ]
  },
  {
   "cell_type": "code",
   "execution_count": 17,
   "id": "2e1b01e9",
   "metadata": {},
   "outputs": [],
   "source": [
    "# Ensure date as datetime\n",
    "Complaint_data['CMPLNT_FR_DT'] = pd.to_datetime(Complaint_data['CMPLNT_FR_DT'],errors = 'coerce')"
   ]
  },
  {
   "cell_type": "code",
   "execution_count": 18,
   "id": "6ddbcf9c",
   "metadata": {},
   "outputs": [
    {
     "data": {
      "text/plain": [
       "array(['MANHATTAN', 'BRONX', 'BROOKLYN', 'QUEENS', 'STATEN ISLAND',\n",
       "       '(null)'], dtype=object)"
      ]
     },
     "execution_count": 18,
     "metadata": {},
     "output_type": "execute_result"
    }
   ],
   "source": [
    "# Check borough names\n",
    "Complaint_data['BORO_NM'].unique()"
   ]
  },
  {
   "cell_type": "code",
   "execution_count": 19,
   "id": "84186309",
   "metadata": {},
   "outputs": [
    {
     "data": {
      "text/html": [
       "<div>\n",
       "<style scoped>\n",
       "    .dataframe tbody tr th:only-of-type {\n",
       "        vertical-align: middle;\n",
       "    }\n",
       "\n",
       "    .dataframe tbody tr th {\n",
       "        vertical-align: top;\n",
       "    }\n",
       "\n",
       "    .dataframe thead th {\n",
       "        text-align: right;\n",
       "    }\n",
       "</style>\n",
       "<table border=\"1\" class=\"dataframe\">\n",
       "  <thead>\n",
       "    <tr style=\"text-align: right;\">\n",
       "      <th></th>\n",
       "      <th>CMPLNT_NUM</th>\n",
       "      <th>BORO_NM</th>\n",
       "      <th>CMPLNT_FR_DT</th>\n",
       "      <th>CMPLNT_FR_TM</th>\n",
       "      <th>LAW_CAT_CD</th>\n",
       "      <th>OFNS_DESC</th>\n",
       "      <th>PARKS_NM</th>\n",
       "      <th>Latitude</th>\n",
       "      <th>Longitude</th>\n",
       "    </tr>\n",
       "  </thead>\n",
       "  <tbody>\n",
       "    <tr>\n",
       "      <th>397</th>\n",
       "      <td>146577202</td>\n",
       "      <td>QUEENS</td>\n",
       "      <td>NaT</td>\n",
       "      <td>12:00:00</td>\n",
       "      <td>MISDEMEANOR</td>\n",
       "      <td>SEX CRIMES</td>\n",
       "      <td>(null)</td>\n",
       "      <td>40.769495</td>\n",
       "      <td>-73.915024</td>\n",
       "    </tr>\n",
       "    <tr>\n",
       "      <th>749</th>\n",
       "      <td>148451238</td>\n",
       "      <td>MANHATTAN</td>\n",
       "      <td>NaT</td>\n",
       "      <td>16:45:00</td>\n",
       "      <td>FELONY</td>\n",
       "      <td>FELONY ASSAULT</td>\n",
       "      <td>(null)</td>\n",
       "      <td>40.765024</td>\n",
       "      <td>-73.984836</td>\n",
       "    </tr>\n",
       "    <tr>\n",
       "      <th>3012</th>\n",
       "      <td>148017249</td>\n",
       "      <td>MANHATTAN</td>\n",
       "      <td>NaT</td>\n",
       "      <td>12:11:00</td>\n",
       "      <td>FELONY</td>\n",
       "      <td>GRAND LARCENY</td>\n",
       "      <td>(null)</td>\n",
       "      <td>40.800930</td>\n",
       "      <td>-73.941098</td>\n",
       "    </tr>\n",
       "    <tr>\n",
       "      <th>3183</th>\n",
       "      <td>148457236</td>\n",
       "      <td>QUEENS</td>\n",
       "      <td>NaT</td>\n",
       "      <td>12:30:00</td>\n",
       "      <td>MISDEMEANOR</td>\n",
       "      <td>ASSAULT 3 &amp; RELATED OFFENSES</td>\n",
       "      <td>(null)</td>\n",
       "      <td>40.743125</td>\n",
       "      <td>-73.956068</td>\n",
       "    </tr>\n",
       "    <tr>\n",
       "      <th>5517</th>\n",
       "      <td>147212244</td>\n",
       "      <td>BRONX</td>\n",
       "      <td>NaT</td>\n",
       "      <td>16:00:00</td>\n",
       "      <td>FELONY</td>\n",
       "      <td>MISCELLANEOUS PENAL LAW</td>\n",
       "      <td>(null)</td>\n",
       "      <td>40.816206</td>\n",
       "      <td>-73.896001</td>\n",
       "    </tr>\n",
       "  </tbody>\n",
       "</table>\n",
       "</div>"
      ],
      "text/plain": [
       "     CMPLNT_NUM    BORO_NM CMPLNT_FR_DT CMPLNT_FR_TM   LAW_CAT_CD  \\\n",
       "397   146577202     QUEENS          NaT     12:00:00  MISDEMEANOR   \n",
       "749   148451238  MANHATTAN          NaT     16:45:00       FELONY   \n",
       "3012  148017249  MANHATTAN          NaT     12:11:00       FELONY   \n",
       "3183  148457236     QUEENS          NaT     12:30:00  MISDEMEANOR   \n",
       "5517  147212244      BRONX          NaT     16:00:00       FELONY   \n",
       "\n",
       "                         OFNS_DESC PARKS_NM   Latitude  Longitude  \n",
       "397                     SEX CRIMES   (null)  40.769495 -73.915024  \n",
       "749                 FELONY ASSAULT   (null)  40.765024 -73.984836  \n",
       "3012                 GRAND LARCENY   (null)  40.800930 -73.941098  \n",
       "3183  ASSAULT 3 & RELATED OFFENSES   (null)  40.743125 -73.956068  \n",
       "5517       MISCELLANEOUS PENAL LAW   (null)  40.816206 -73.896001  "
      ]
     },
     "execution_count": 19,
     "metadata": {},
     "output_type": "execute_result"
    }
   ],
   "source": [
    "# 'CMPLNT_FR_DT' using NaT indicating missing data\n",
    "Complaint_data[Complaint_data['CMPLNT_FR_DT'].isna() == True ].head()"
   ]
  },
  {
   "cell_type": "code",
   "execution_count": 20,
   "id": "046bc0af",
   "metadata": {},
   "outputs": [
    {
     "data": {
      "text/html": [
       "<div>\n",
       "<style scoped>\n",
       "    .dataframe tbody tr th:only-of-type {\n",
       "        vertical-align: middle;\n",
       "    }\n",
       "\n",
       "    .dataframe tbody tr th {\n",
       "        vertical-align: top;\n",
       "    }\n",
       "\n",
       "    .dataframe thead th {\n",
       "        text-align: right;\n",
       "    }\n",
       "</style>\n",
       "<table border=\"1\" class=\"dataframe\">\n",
       "  <thead>\n",
       "    <tr style=\"text-align: right;\">\n",
       "      <th></th>\n",
       "      <th>CMPLNT_NUM</th>\n",
       "      <th>BORO_NM</th>\n",
       "      <th>CMPLNT_FR_DT</th>\n",
       "      <th>CMPLNT_FR_TM</th>\n",
       "      <th>LAW_CAT_CD</th>\n",
       "      <th>OFNS_DESC</th>\n",
       "      <th>PARKS_NM</th>\n",
       "      <th>Latitude</th>\n",
       "      <th>Longitude</th>\n",
       "    </tr>\n",
       "  </thead>\n",
       "  <tbody>\n",
       "    <tr>\n",
       "      <th>722862</th>\n",
       "      <td>29289078</td>\n",
       "      <td>MANHATTAN</td>\n",
       "      <td>2007-05-07</td>\n",
       "      <td>(null)</td>\n",
       "      <td>MISDEMEANOR</td>\n",
       "      <td>PETIT LARCENY</td>\n",
       "      <td>(null)</td>\n",
       "      <td>40.814803</td>\n",
       "      <td>-73.956284</td>\n",
       "    </tr>\n",
       "    <tr>\n",
       "      <th>859572</th>\n",
       "      <td>33603135</td>\n",
       "      <td>MANHATTAN</td>\n",
       "      <td>2007-08-04</td>\n",
       "      <td>(null)</td>\n",
       "      <td>MISDEMEANOR</td>\n",
       "      <td>CRIMINAL MISCHIEF &amp; RELATED OF</td>\n",
       "      <td>(null)</td>\n",
       "      <td>40.851213</td>\n",
       "      <td>-73.935216</td>\n",
       "    </tr>\n",
       "    <tr>\n",
       "      <th>863369</th>\n",
       "      <td>33622397</td>\n",
       "      <td>MANHATTAN</td>\n",
       "      <td>2007-08-05</td>\n",
       "      <td>(null)</td>\n",
       "      <td>MISDEMEANOR</td>\n",
       "      <td>PETIT LARCENY</td>\n",
       "      <td>(null)</td>\n",
       "      <td>40.765024</td>\n",
       "      <td>-73.984836</td>\n",
       "    </tr>\n",
       "    <tr>\n",
       "      <th>1001018</th>\n",
       "      <td>35482822</td>\n",
       "      <td>BROOKLYN</td>\n",
       "      <td>2007-11-03</td>\n",
       "      <td>(null)</td>\n",
       "      <td>MISDEMEANOR</td>\n",
       "      <td>CRIMINAL MISCHIEF &amp; RELATED OF</td>\n",
       "      <td>(null)</td>\n",
       "      <td>40.664121</td>\n",
       "      <td>-73.947765</td>\n",
       "    </tr>\n",
       "    <tr>\n",
       "      <th>1037872</th>\n",
       "      <td>36133966</td>\n",
       "      <td>QUEENS</td>\n",
       "      <td>2007-12-02</td>\n",
       "      <td>(null)</td>\n",
       "      <td>MISDEMEANOR</td>\n",
       "      <td>CRIMINAL MISCHIEF &amp; RELATED OF</td>\n",
       "      <td>(null)</td>\n",
       "      <td>40.743481</td>\n",
       "      <td>-73.874004</td>\n",
       "    </tr>\n",
       "  </tbody>\n",
       "</table>\n",
       "</div>"
      ],
      "text/plain": [
       "        CMPLNT_NUM    BORO_NM CMPLNT_FR_DT CMPLNT_FR_TM   LAW_CAT_CD  \\\n",
       "722862    29289078  MANHATTAN   2007-05-07       (null)  MISDEMEANOR   \n",
       "859572    33603135  MANHATTAN   2007-08-04       (null)  MISDEMEANOR   \n",
       "863369    33622397  MANHATTAN   2007-08-05       (null)  MISDEMEANOR   \n",
       "1001018   35482822   BROOKLYN   2007-11-03       (null)  MISDEMEANOR   \n",
       "1037872   36133966     QUEENS   2007-12-02       (null)  MISDEMEANOR   \n",
       "\n",
       "                              OFNS_DESC PARKS_NM   Latitude  Longitude  \n",
       "722862                    PETIT LARCENY   (null)  40.814803 -73.956284  \n",
       "859572   CRIMINAL MISCHIEF & RELATED OF   (null)  40.851213 -73.935216  \n",
       "863369                    PETIT LARCENY   (null)  40.765024 -73.984836  \n",
       "1001018  CRIMINAL MISCHIEF & RELATED OF   (null)  40.664121 -73.947765  \n",
       "1037872  CRIMINAL MISCHIEF & RELATED OF   (null)  40.743481 -73.874004  "
      ]
     },
     "execution_count": 20,
     "metadata": {},
     "output_type": "execute_result"
    }
   ],
   "source": [
    "# 'CMPLNT_FR_TM' using '(null)' indicating missing data\n",
    "Complaint_data[Complaint_data['CMPLNT_FR_TM'] ==  '(null)'].head()"
   ]
  },
  {
   "cell_type": "code",
   "execution_count": 21,
   "id": "2f74cdd4",
   "metadata": {},
   "outputs": [
    {
     "data": {
      "text/html": [
       "<div>\n",
       "<style scoped>\n",
       "    .dataframe tbody tr th:only-of-type {\n",
       "        vertical-align: middle;\n",
       "    }\n",
       "\n",
       "    .dataframe tbody tr th {\n",
       "        vertical-align: top;\n",
       "    }\n",
       "\n",
       "    .dataframe thead th {\n",
       "        text-align: right;\n",
       "    }\n",
       "</style>\n",
       "<table border=\"1\" class=\"dataframe\">\n",
       "  <thead>\n",
       "    <tr style=\"text-align: right;\">\n",
       "      <th></th>\n",
       "      <th>CMPLNT_NUM</th>\n",
       "      <th>BORO_NM</th>\n",
       "      <th>CMPLNT_FR_DT</th>\n",
       "      <th>CMPLNT_FR_TM</th>\n",
       "      <th>LAW_CAT_CD</th>\n",
       "      <th>OFNS_DESC</th>\n",
       "      <th>PARKS_NM</th>\n",
       "      <th>Latitude</th>\n",
       "      <th>Longitude</th>\n",
       "    </tr>\n",
       "  </thead>\n",
       "  <tbody>\n",
       "    <tr>\n",
       "      <th>606</th>\n",
       "      <td>32312820</td>\n",
       "      <td>(null)</td>\n",
       "      <td>2005-08-01</td>\n",
       "      <td>08:00:00</td>\n",
       "      <td>FELONY</td>\n",
       "      <td>GRAND LARCENY</td>\n",
       "      <td>(null)</td>\n",
       "      <td>40.602216</td>\n",
       "      <td>-74.002951</td>\n",
       "    </tr>\n",
       "    <tr>\n",
       "      <th>1546</th>\n",
       "      <td>36032787</td>\n",
       "      <td>(null)</td>\n",
       "      <td>2002-04-09</td>\n",
       "      <td>12:00:00</td>\n",
       "      <td>FELONY</td>\n",
       "      <td>MISCELLANEOUS PENAL LAW</td>\n",
       "      <td>(null)</td>\n",
       "      <td>40.840781</td>\n",
       "      <td>-73.936245</td>\n",
       "    </tr>\n",
       "    <tr>\n",
       "      <th>4222</th>\n",
       "      <td>46254129</td>\n",
       "      <td>(null)</td>\n",
       "      <td>2003-09-01</td>\n",
       "      <td>00:01:00</td>\n",
       "      <td>FELONY</td>\n",
       "      <td>THEFT-FRAUD</td>\n",
       "      <td>(null)</td>\n",
       "      <td>40.689464</td>\n",
       "      <td>-73.924029</td>\n",
       "    </tr>\n",
       "    <tr>\n",
       "      <th>5235</th>\n",
       "      <td>54015493</td>\n",
       "      <td>(null)</td>\n",
       "      <td>2004-08-12</td>\n",
       "      <td>12:01:00</td>\n",
       "      <td>FELONY</td>\n",
       "      <td>FORGERY</td>\n",
       "      <td>(null)</td>\n",
       "      <td>40.720442</td>\n",
       "      <td>-74.006744</td>\n",
       "    </tr>\n",
       "    <tr>\n",
       "      <th>5830</th>\n",
       "      <td>53988769</td>\n",
       "      <td>(null)</td>\n",
       "      <td>1998-04-01</td>\n",
       "      <td>00:01:00</td>\n",
       "      <td>MISDEMEANOR</td>\n",
       "      <td>SEX CRIMES</td>\n",
       "      <td>(null)</td>\n",
       "      <td>40.630600</td>\n",
       "      <td>-73.973705</td>\n",
       "    </tr>\n",
       "  </tbody>\n",
       "</table>\n",
       "</div>"
      ],
      "text/plain": [
       "     CMPLNT_NUM BORO_NM CMPLNT_FR_DT CMPLNT_FR_TM   LAW_CAT_CD  \\\n",
       "606    32312820  (null)   2005-08-01     08:00:00       FELONY   \n",
       "1546   36032787  (null)   2002-04-09     12:00:00       FELONY   \n",
       "4222   46254129  (null)   2003-09-01     00:01:00       FELONY   \n",
       "5235   54015493  (null)   2004-08-12     12:01:00       FELONY   \n",
       "5830   53988769  (null)   1998-04-01     00:01:00  MISDEMEANOR   \n",
       "\n",
       "                    OFNS_DESC PARKS_NM   Latitude  Longitude  \n",
       "606             GRAND LARCENY   (null)  40.602216 -74.002951  \n",
       "1546  MISCELLANEOUS PENAL LAW   (null)  40.840781 -73.936245  \n",
       "4222              THEFT-FRAUD   (null)  40.689464 -73.924029  \n",
       "5235                  FORGERY   (null)  40.720442 -74.006744  \n",
       "5830               SEX CRIMES   (null)  40.630600 -73.973705  "
      ]
     },
     "execution_count": 21,
     "metadata": {},
     "output_type": "execute_result"
    }
   ],
   "source": [
    "# 'BORO_NM' using '(null)' indicating missing data\n",
    "Complaint_data[Complaint_data['BORO_NM'] ==  '(null)'].head()"
   ]
  },
  {
   "cell_type": "code",
   "execution_count": 22,
   "id": "08744087",
   "metadata": {},
   "outputs": [
    {
     "data": {
      "text/plain": [
       "(8345417, 9)"
      ]
     },
     "execution_count": 22,
     "metadata": {},
     "output_type": "execute_result"
    }
   ],
   "source": [
    "# filter out missing/wrong date and times, missing borough name\n",
    "sanityindex = ((Complaint_data['CMPLNT_FR_DT'].isna() == False) \n",
    "               & (Complaint_data['CMPLNT_FR_DT']!= '(null)')\n",
    "               & (Complaint_data['CMPLNT_FR_TM'].isna() == False) \n",
    "               & (Complaint_data['CMPLNT_FR_TM']!= '(null)')\n",
    "               & (Complaint_data['BORO_NM'] != '(null)'))\n",
    "Complaint_data = Complaint_data.loc[sanityindex]\n",
    "Complaint_data.shape"
   ]
  },
  {
   "cell_type": "code",
   "execution_count": 23,
   "id": "59e3b7e7",
   "metadata": {},
   "outputs": [
    {
     "data": {
      "text/plain": [
       "(8345414, 9)"
      ]
     },
     "execution_count": 23,
     "metadata": {},
     "output_type": "execute_result"
    }
   ],
   "source": [
    "# fitering duplicate complaint number \n",
    "Complaint_data = Complaint_data.drop_duplicates(subset = ['CMPLNT_NUM'])\n",
    "Complaint_data.shape"
   ]
  },
  {
   "cell_type": "markdown",
   "id": "96214642",
   "metadata": {},
   "source": [
    "### 2. Remove rows where location is parks or greenspace, Keep rows for 2013 - 2022"
   ]
  },
  {
   "cell_type": "code",
   "execution_count": 24,
   "id": "6fce8e71",
   "metadata": {},
   "outputs": [
    {
     "data": {
      "text/plain": [
       "(8311189, 9)"
      ]
     },
     "execution_count": 24,
     "metadata": {},
     "output_type": "execute_result"
    }
   ],
   "source": [
    "# If a crime has occured outside a parkspace, this value would be NaN\n",
    "sanityindex = (Complaint_data['PARKS_NM'] == '(null)')\n",
    "Complaint_data = Complaint_data.loc[sanityindex]\n",
    "Complaint_data.shape"
   ]
  },
  {
   "cell_type": "code",
   "execution_count": 25,
   "id": "cb049140",
   "metadata": {},
   "outputs": [],
   "source": [
    "# Check the statring and ending date and time\n",
    "dateStart = Complaint_data['CMPLNT_FR_DT'].min()\n",
    "dateEnd = Complaint_data['CMPLNT_FR_DT'].max()\n",
    "timeStart = Complaint_data[Complaint_data['CMPLNT_FR_DT']==dateStart]['CMPLNT_FR_TM'].min()\n",
    "timeEnd = Complaint_data[Complaint_data['CMPLNT_FR_DT']==dateEnd]['CMPLNT_FR_TM'].max()\n",
    "# Combine\n",
    "dtStart = pd.to_datetime(str(dateStart)+' '+str(timeStart))\n",
    "dtEnd = pd.to_datetime(str(dateEnd)+' '+str(timeEnd))"
   ]
  },
  {
   "cell_type": "code",
   "execution_count": 26,
   "id": "07fe269d",
   "metadata": {},
   "outputs": [
    {
     "data": {
      "text/plain": [
       "(Timestamp('1900-03-10 19:00:00'), Timestamp('2022-12-31 23:55:00'))"
      ]
     },
     "execution_count": 26,
     "metadata": {},
     "output_type": "execute_result"
    }
   ],
   "source": [
    "## check the timeline of data\n",
    "(dtStart, dtEnd)"
   ]
  },
  {
   "cell_type": "code",
   "execution_count": 27,
   "id": "ab17e51e",
   "metadata": {},
   "outputs": [
    {
     "data": {
      "text/plain": [
       "(4680561, 9)"
      ]
     },
     "execution_count": 27,
     "metadata": {},
     "output_type": "execute_result"
    }
   ],
   "source": [
    "# Romove data before 2012\n",
    "Complaint_data = Complaint_data[(Complaint_data['CMPLNT_FR_DT'] >= pd.to_datetime('01/01/2013'))]\n",
    "Complaint_data.shape"
   ]
  },
  {
   "cell_type": "code",
   "execution_count": 28,
   "id": "ecdb3d3c",
   "metadata": {},
   "outputs": [],
   "source": [
    "# Check the statring and ending date and time\n",
    "dateStart = Complaint_data['CMPLNT_FR_DT'].min()\n",
    "dateEnd = Complaint_data['CMPLNT_FR_DT'].max()\n",
    "timeStart = Complaint_data[Complaint_data['CMPLNT_FR_DT']==dateStart]['CMPLNT_FR_TM'].min()\n",
    "timeEnd = Complaint_data[Complaint_data['CMPLNT_FR_DT']==dateEnd]['CMPLNT_FR_TM'].max()\n",
    "# Combine\n",
    "dtStart = pd.to_datetime(str(dateStart)+' '+str(timeStart))\n",
    "dtEnd = pd.to_datetime(str(dateEnd)+' '+str(timeEnd))"
   ]
  },
  {
   "cell_type": "code",
   "execution_count": 29,
   "id": "f8c858ab",
   "metadata": {},
   "outputs": [
    {
     "data": {
      "text/plain": [
       "(Timestamp('2013-01-01 00:00:00'), Timestamp('2022-12-31 23:55:00'))"
      ]
     },
     "execution_count": 29,
     "metadata": {},
     "output_type": "execute_result"
    }
   ],
   "source": [
    "## check the timeline of cleaned data\n",
    "(dtStart, dtEnd)"
   ]
  },
  {
   "cell_type": "markdown",
   "id": "189b9d88",
   "metadata": {},
   "source": [
    "### 3. keep type 1 crimes as defined by FBI from the data :\n",
    "\n",
    "The crime type is present in the 'OFNS_DESC' column. \n",
    "Keep the following categories: 'ARSON', 'BURGLARY', 'FELONY ASSAULT', 'GRAND LARCENY' ,'GRAND LARCENY OF MOTOR VEHICLE', 'MURDER & NON-NEGL. MANSLAUGHTER', 'RAPE', 'ROBBERY'"
   ]
  },
  {
   "cell_type": "code",
   "execution_count": 30,
   "id": "804177d3",
   "metadata": {},
   "outputs": [
    {
     "data": {
      "text/plain": [
       "(1033729, 9)"
      ]
     },
     "execution_count": 30,
     "metadata": {},
     "output_type": "execute_result"
    }
   ],
   "source": [
    "crimetypes = ['ARSON', 'BURGLARY', 'FELONY ASSAULT', 'GRAND LARCENY' ,'GRAND LARCENY OF MOTOR VEHICLE', 'MURDER & NON-NEGL. MANSLAUGHTER', 'RAPE', 'ROBBERY']\n",
    "sanityindex = Complaint_data['OFNS_DESC'].isin(crimetypes) \n",
    "Complaint_data = Complaint_data.loc[sanityindex]\n",
    "Complaint_data.shape"
   ]
  },
  {
   "cell_type": "code",
   "execution_count": 31,
   "id": "04e379cb",
   "metadata": {},
   "outputs": [
    {
     "data": {
      "text/html": [
       "<div>\n",
       "<style scoped>\n",
       "    .dataframe tbody tr th:only-of-type {\n",
       "        vertical-align: middle;\n",
       "    }\n",
       "\n",
       "    .dataframe tbody tr th {\n",
       "        vertical-align: top;\n",
       "    }\n",
       "\n",
       "    .dataframe thead th {\n",
       "        text-align: right;\n",
       "    }\n",
       "</style>\n",
       "<table border=\"1\" class=\"dataframe\">\n",
       "  <thead>\n",
       "    <tr style=\"text-align: right;\">\n",
       "      <th></th>\n",
       "      <th>CMPLNT_NUM</th>\n",
       "      <th>BORO_NM</th>\n",
       "      <th>CMPLNT_FR_DT</th>\n",
       "      <th>CMPLNT_FR_TM</th>\n",
       "      <th>LAW_CAT_CD</th>\n",
       "      <th>OFNS_DESC</th>\n",
       "      <th>PARKS_NM</th>\n",
       "      <th>Latitude</th>\n",
       "      <th>Longitude</th>\n",
       "    </tr>\n",
       "  </thead>\n",
       "  <tbody>\n",
       "    <tr>\n",
       "      <th>0</th>\n",
       "      <td>109325830</td>\n",
       "      <td>BRONX</td>\n",
       "      <td>2014-03-25</td>\n",
       "      <td>18:00:00</td>\n",
       "      <td>FELONY</td>\n",
       "      <td>RAPE</td>\n",
       "      <td>(null)</td>\n",
       "      <td>40.887314</td>\n",
       "      <td>-73.847272</td>\n",
       "    </tr>\n",
       "    <tr>\n",
       "      <th>1</th>\n",
       "      <td>148859994</td>\n",
       "      <td>BRONX</td>\n",
       "      <td>2015-12-26</td>\n",
       "      <td>23:30:00</td>\n",
       "      <td>FELONY</td>\n",
       "      <td>RAPE</td>\n",
       "      <td>(null)</td>\n",
       "      <td>40.837842</td>\n",
       "      <td>-73.919628</td>\n",
       "    </tr>\n",
       "    <tr>\n",
       "      <th>2</th>\n",
       "      <td>171216196</td>\n",
       "      <td>BRONX</td>\n",
       "      <td>2017-11-04</td>\n",
       "      <td>13:20:00</td>\n",
       "      <td>FELONY</td>\n",
       "      <td>ROBBERY</td>\n",
       "      <td>(null)</td>\n",
       "      <td>40.837842</td>\n",
       "      <td>-73.919628</td>\n",
       "    </tr>\n",
       "    <tr>\n",
       "      <th>3</th>\n",
       "      <td>183871546</td>\n",
       "      <td>BROOKLYN</td>\n",
       "      <td>2018-06-15</td>\n",
       "      <td>05:04:00</td>\n",
       "      <td>FELONY</td>\n",
       "      <td>RAPE</td>\n",
       "      <td>(null)</td>\n",
       "      <td>40.664121</td>\n",
       "      <td>-73.947765</td>\n",
       "    </tr>\n",
       "    <tr>\n",
       "      <th>4</th>\n",
       "      <td>206878965</td>\n",
       "      <td>BROOKLYN</td>\n",
       "      <td>2019-12-30</td>\n",
       "      <td>13:30:00</td>\n",
       "      <td>FELONY</td>\n",
       "      <td>ROBBERY</td>\n",
       "      <td>(null)</td>\n",
       "      <td>40.671130</td>\n",
       "      <td>-73.913502</td>\n",
       "    </tr>\n",
       "    <tr>\n",
       "      <th>...</th>\n",
       "      <td>...</td>\n",
       "      <td>...</td>\n",
       "      <td>...</td>\n",
       "      <td>...</td>\n",
       "      <td>...</td>\n",
       "      <td>...</td>\n",
       "      <td>...</td>\n",
       "      <td>...</td>\n",
       "      <td>...</td>\n",
       "    </tr>\n",
       "    <tr>\n",
       "      <th>1033724</th>\n",
       "      <td>261180746</td>\n",
       "      <td>MANHATTAN</td>\n",
       "      <td>2022-12-31</td>\n",
       "      <td>22:00:00</td>\n",
       "      <td>FELONY</td>\n",
       "      <td>FELONY ASSAULT</td>\n",
       "      <td>(null)</td>\n",
       "      <td>40.763545</td>\n",
       "      <td>-73.985192</td>\n",
       "    </tr>\n",
       "    <tr>\n",
       "      <th>1033725</th>\n",
       "      <td>261161441</td>\n",
       "      <td>MANHATTAN</td>\n",
       "      <td>2022-12-31</td>\n",
       "      <td>03:00:00</td>\n",
       "      <td>FELONY</td>\n",
       "      <td>GRAND LARCENY</td>\n",
       "      <td>(null)</td>\n",
       "      <td>40.751442</td>\n",
       "      <td>-73.976049</td>\n",
       "    </tr>\n",
       "    <tr>\n",
       "      <th>1033726</th>\n",
       "      <td>261173446</td>\n",
       "      <td>BROOKLYN</td>\n",
       "      <td>2022-12-31</td>\n",
       "      <td>15:00:00</td>\n",
       "      <td>FELONY</td>\n",
       "      <td>ROBBERY</td>\n",
       "      <td>(null)</td>\n",
       "      <td>40.698304</td>\n",
       "      <td>-73.953147</td>\n",
       "    </tr>\n",
       "    <tr>\n",
       "      <th>1033727</th>\n",
       "      <td>261152819</td>\n",
       "      <td>QUEENS</td>\n",
       "      <td>2022-12-30</td>\n",
       "      <td>09:00:00</td>\n",
       "      <td>FELONY</td>\n",
       "      <td>BURGLARY</td>\n",
       "      <td>(null)</td>\n",
       "      <td>40.792606</td>\n",
       "      <td>-73.844008</td>\n",
       "    </tr>\n",
       "    <tr>\n",
       "      <th>1033728</th>\n",
       "      <td>261157928</td>\n",
       "      <td>BRONX</td>\n",
       "      <td>2022-12-31</td>\n",
       "      <td>04:00:00</td>\n",
       "      <td>FELONY</td>\n",
       "      <td>FELONY ASSAULT</td>\n",
       "      <td>(null)</td>\n",
       "      <td>40.870942</td>\n",
       "      <td>-73.891499</td>\n",
       "    </tr>\n",
       "  </tbody>\n",
       "</table>\n",
       "<p>1033729 rows × 9 columns</p>\n",
       "</div>"
      ],
      "text/plain": [
       "        CMPLNT_NUM    BORO_NM CMPLNT_FR_DT CMPLNT_FR_TM LAW_CAT_CD  \\\n",
       "0        109325830      BRONX   2014-03-25     18:00:00     FELONY   \n",
       "1        148859994      BRONX   2015-12-26     23:30:00     FELONY   \n",
       "2        171216196      BRONX   2017-11-04     13:20:00     FELONY   \n",
       "3        183871546   BROOKLYN   2018-06-15     05:04:00     FELONY   \n",
       "4        206878965   BROOKLYN   2019-12-30     13:30:00     FELONY   \n",
       "...            ...        ...          ...          ...        ...   \n",
       "1033724  261180746  MANHATTAN   2022-12-31     22:00:00     FELONY   \n",
       "1033725  261161441  MANHATTAN   2022-12-31     03:00:00     FELONY   \n",
       "1033726  261173446   BROOKLYN   2022-12-31     15:00:00     FELONY   \n",
       "1033727  261152819     QUEENS   2022-12-30     09:00:00     FELONY   \n",
       "1033728  261157928      BRONX   2022-12-31     04:00:00     FELONY   \n",
       "\n",
       "              OFNS_DESC PARKS_NM   Latitude  Longitude  \n",
       "0                  RAPE   (null)  40.887314 -73.847272  \n",
       "1                  RAPE   (null)  40.837842 -73.919628  \n",
       "2               ROBBERY   (null)  40.837842 -73.919628  \n",
       "3                  RAPE   (null)  40.664121 -73.947765  \n",
       "4               ROBBERY   (null)  40.671130 -73.913502  \n",
       "...                 ...      ...        ...        ...  \n",
       "1033724  FELONY ASSAULT   (null)  40.763545 -73.985192  \n",
       "1033725   GRAND LARCENY   (null)  40.751442 -73.976049  \n",
       "1033726         ROBBERY   (null)  40.698304 -73.953147  \n",
       "1033727        BURGLARY   (null)  40.792606 -73.844008  \n",
       "1033728  FELONY ASSAULT   (null)  40.870942 -73.891499  \n",
       "\n",
       "[1033729 rows x 9 columns]"
      ]
     },
     "execution_count": 31,
     "metadata": {},
     "output_type": "execute_result"
    }
   ],
   "source": [
    "Complaint_data.reset_index(inplace = True, drop = True)\n",
    "Complaint_data"
   ]
  },
  {
   "cell_type": "markdown",
   "id": "c334d78d",
   "metadata": {},
   "source": [
    "### 4. Keep rows with location within NYC\n"
   ]
  },
  {
   "cell_type": "code",
   "execution_count": 32,
   "id": "4c455418",
   "metadata": {},
   "outputs": [
    {
     "data": {
      "text/html": [
       "<div>\n",
       "<style scoped>\n",
       "    .dataframe tbody tr th:only-of-type {\n",
       "        vertical-align: middle;\n",
       "    }\n",
       "\n",
       "    .dataframe tbody tr th {\n",
       "        vertical-align: top;\n",
       "    }\n",
       "\n",
       "    .dataframe thead th {\n",
       "        text-align: right;\n",
       "    }\n",
       "</style>\n",
       "<table border=\"1\" class=\"dataframe\">\n",
       "  <thead>\n",
       "    <tr style=\"text-align: right;\">\n",
       "      <th></th>\n",
       "      <th>ZIPCODE</th>\n",
       "      <th>BLDGZIP</th>\n",
       "      <th>PO_NAME</th>\n",
       "      <th>POPULATION</th>\n",
       "      <th>AREA</th>\n",
       "      <th>STATE</th>\n",
       "      <th>COUNTY</th>\n",
       "      <th>ST_FIPS</th>\n",
       "      <th>CTY_FIPS</th>\n",
       "      <th>URL</th>\n",
       "      <th>SHAPE_AREA</th>\n",
       "      <th>SHAPE_LEN</th>\n",
       "      <th>geometry</th>\n",
       "    </tr>\n",
       "  </thead>\n",
       "  <tbody>\n",
       "    <tr>\n",
       "      <th>0</th>\n",
       "      <td>11436</td>\n",
       "      <td>0</td>\n",
       "      <td>Jamaica</td>\n",
       "      <td>18681.0</td>\n",
       "      <td>2.269930e+07</td>\n",
       "      <td>NY</td>\n",
       "      <td>Queens</td>\n",
       "      <td>36</td>\n",
       "      <td>081</td>\n",
       "      <td>http://www.usps.com/</td>\n",
       "      <td>0.0</td>\n",
       "      <td>0.0</td>\n",
       "      <td>POLYGON ((1038098.252 188138.380, 1038141.936 ...</td>\n",
       "    </tr>\n",
       "    <tr>\n",
       "      <th>1</th>\n",
       "      <td>11213</td>\n",
       "      <td>0</td>\n",
       "      <td>Brooklyn</td>\n",
       "      <td>62426.0</td>\n",
       "      <td>2.963100e+07</td>\n",
       "      <td>NY</td>\n",
       "      <td>Kings</td>\n",
       "      <td>36</td>\n",
       "      <td>047</td>\n",
       "      <td>http://www.usps.com/</td>\n",
       "      <td>0.0</td>\n",
       "      <td>0.0</td>\n",
       "      <td>POLYGON ((1001613.713 186926.440, 1002314.243 ...</td>\n",
       "    </tr>\n",
       "    <tr>\n",
       "      <th>2</th>\n",
       "      <td>11212</td>\n",
       "      <td>0</td>\n",
       "      <td>Brooklyn</td>\n",
       "      <td>83866.0</td>\n",
       "      <td>4.197210e+07</td>\n",
       "      <td>NY</td>\n",
       "      <td>Kings</td>\n",
       "      <td>36</td>\n",
       "      <td>047</td>\n",
       "      <td>http://www.usps.com/</td>\n",
       "      <td>0.0</td>\n",
       "      <td>0.0</td>\n",
       "      <td>POLYGON ((1011174.276 183696.338, 1011373.584 ...</td>\n",
       "    </tr>\n",
       "    <tr>\n",
       "      <th>3</th>\n",
       "      <td>11225</td>\n",
       "      <td>0</td>\n",
       "      <td>Brooklyn</td>\n",
       "      <td>56527.0</td>\n",
       "      <td>2.369863e+07</td>\n",
       "      <td>NY</td>\n",
       "      <td>Kings</td>\n",
       "      <td>36</td>\n",
       "      <td>047</td>\n",
       "      <td>http://www.usps.com/</td>\n",
       "      <td>0.0</td>\n",
       "      <td>0.0</td>\n",
       "      <td>POLYGON ((995908.365 183617.613, 996522.848 18...</td>\n",
       "    </tr>\n",
       "    <tr>\n",
       "      <th>4</th>\n",
       "      <td>11218</td>\n",
       "      <td>0</td>\n",
       "      <td>Brooklyn</td>\n",
       "      <td>72280.0</td>\n",
       "      <td>3.686880e+07</td>\n",
       "      <td>NY</td>\n",
       "      <td>Kings</td>\n",
       "      <td>36</td>\n",
       "      <td>047</td>\n",
       "      <td>http://www.usps.com/</td>\n",
       "      <td>0.0</td>\n",
       "      <td>0.0</td>\n",
       "      <td>POLYGON ((991997.113 176307.496, 992042.798 17...</td>\n",
       "    </tr>\n",
       "  </tbody>\n",
       "</table>\n",
       "</div>"
      ],
      "text/plain": [
       "  ZIPCODE BLDGZIP   PO_NAME  POPULATION          AREA STATE  COUNTY ST_FIPS  \\\n",
       "0   11436       0   Jamaica     18681.0  2.269930e+07    NY  Queens      36   \n",
       "1   11213       0  Brooklyn     62426.0  2.963100e+07    NY   Kings      36   \n",
       "2   11212       0  Brooklyn     83866.0  4.197210e+07    NY   Kings      36   \n",
       "3   11225       0  Brooklyn     56527.0  2.369863e+07    NY   Kings      36   \n",
       "4   11218       0  Brooklyn     72280.0  3.686880e+07    NY   Kings      36   \n",
       "\n",
       "  CTY_FIPS                   URL  SHAPE_AREA  SHAPE_LEN  \\\n",
       "0      081  http://www.usps.com/         0.0        0.0   \n",
       "1      047  http://www.usps.com/         0.0        0.0   \n",
       "2      047  http://www.usps.com/         0.0        0.0   \n",
       "3      047  http://www.usps.com/         0.0        0.0   \n",
       "4      047  http://www.usps.com/         0.0        0.0   \n",
       "\n",
       "                                            geometry  \n",
       "0  POLYGON ((1038098.252 188138.380, 1038141.936 ...  \n",
       "1  POLYGON ((1001613.713 186926.440, 1002314.243 ...  \n",
       "2  POLYGON ((1011174.276 183696.338, 1011373.584 ...  \n",
       "3  POLYGON ((995908.365 183617.613, 996522.848 18...  \n",
       "4  POLYGON ((991997.113 176307.496, 992042.798 17...  "
      ]
     },
     "execution_count": 32,
     "metadata": {},
     "output_type": "execute_result"
    }
   ],
   "source": [
    "## zip codes map\n",
    "zips = gpd.read_file('ZIP_CODE_040114/ZIP_CODE_040114.shp')\n",
    "zips.head()"
   ]
  },
  {
   "cell_type": "code",
   "execution_count": 33,
   "id": "2c877c58",
   "metadata": {},
   "outputs": [
    {
     "data": {
      "text/plain": [
       "<Projected CRS: EPSG:2263>\n",
       "Name: NAD83 / New York Long Island (ftUS)\n",
       "Axis Info [cartesian]:\n",
       "- X[east]: Easting (US survey foot)\n",
       "- Y[north]: Northing (US survey foot)\n",
       "Area of Use:\n",
       "- name: United States (USA) - New York - counties of Bronx; Kings; Nassau; New York; Queens; Richmond; Suffolk.\n",
       "- bounds: (-74.26, 40.47, -71.8, 41.3)\n",
       "Coordinate Operation:\n",
       "- name: SPCS83 New York Long Island zone (US Survey feet)\n",
       "- method: Lambert Conic Conformal (2SP)\n",
       "Datum: North American Datum 1983\n",
       "- Ellipsoid: GRS 1980\n",
       "- Prime Meridian: Greenwich"
      ]
     },
     "execution_count": 33,
     "metadata": {},
     "output_type": "execute_result"
    }
   ],
   "source": [
    "# chekc Projection\n",
    "zips.crs"
   ]
  },
  {
   "cell_type": "code",
   "execution_count": 34,
   "id": "6a9f39c9",
   "metadata": {},
   "outputs": [
    {
     "data": {
      "text/plain": [
       "(1033729, 10)"
      ]
     },
     "execution_count": 34,
     "metadata": {},
     "output_type": "execute_result"
    }
   ],
   "source": [
    "# make points from given latitudes and longitudes\n",
    "from shapely.geometry import Point\n",
    "geometry = [Point(xy) for xy in zip(Complaint_data.Longitude, Complaint_data.Latitude)]\n",
    "\n",
    "geoComplaintLatLon = gpd.GeoDataFrame(Complaint_data,geometry=geometry,crs={'init': 'EPSG:4326'})\n",
    "geoComplaintLatLon.shape"
   ]
  },
  {
   "cell_type": "code",
   "execution_count": 35,
   "id": "f418f553",
   "metadata": {},
   "outputs": [
    {
     "data": {
      "text/plain": [
       "(1033813, 23)"
      ]
     },
     "execution_count": 35,
     "metadata": {},
     "output_type": "execute_result"
    }
   ],
   "source": [
    "# remove rows with location outside NYC\n",
    "\n",
    "# spatial join \n",
    "ComplaintDatawithin = gpd.sjoin(geoComplaintLatLon,zips.to_crs({'init': 'epsg:4326'}), op='within', how='inner')\n",
    "ComplaintDatawithin.shape"
   ]
  },
  {
   "cell_type": "code",
   "execution_count": 36,
   "id": "4427787c",
   "metadata": {},
   "outputs": [
    {
     "data": {
      "text/plain": [
       "(1033650, 23)"
      ]
     },
     "execution_count": 36,
     "metadata": {},
     "output_type": "execute_result"
    }
   ],
   "source": [
    "# Drop duplicates \n",
    "ComplaintDatawithin = ComplaintDatawithin.drop_duplicates(subset='CMPLNT_NUM')\n",
    "ComplaintDatawithin.shape"
   ]
  },
  {
   "cell_type": "code",
   "execution_count": 37,
   "id": "3aab39ac",
   "metadata": {},
   "outputs": [
    {
     "data": {
      "text/html": [
       "<div>\n",
       "<style scoped>\n",
       "    .dataframe tbody tr th:only-of-type {\n",
       "        vertical-align: middle;\n",
       "    }\n",
       "\n",
       "    .dataframe tbody tr th {\n",
       "        vertical-align: top;\n",
       "    }\n",
       "\n",
       "    .dataframe thead th {\n",
       "        text-align: right;\n",
       "    }\n",
       "</style>\n",
       "<table border=\"1\" class=\"dataframe\">\n",
       "  <thead>\n",
       "    <tr style=\"text-align: right;\">\n",
       "      <th></th>\n",
       "      <th>CMPLNT_NUM</th>\n",
       "      <th>BORO_NM</th>\n",
       "      <th>CMPLNT_FR_DT</th>\n",
       "      <th>CMPLNT_FR_TM</th>\n",
       "      <th>LAW_CAT_CD</th>\n",
       "      <th>OFNS_DESC</th>\n",
       "      <th>PARKS_NM</th>\n",
       "      <th>Latitude</th>\n",
       "      <th>Longitude</th>\n",
       "      <th>geometry</th>\n",
       "      <th>...</th>\n",
       "      <th>PO_NAME</th>\n",
       "      <th>POPULATION</th>\n",
       "      <th>AREA</th>\n",
       "      <th>STATE</th>\n",
       "      <th>COUNTY</th>\n",
       "      <th>ST_FIPS</th>\n",
       "      <th>CTY_FIPS</th>\n",
       "      <th>URL</th>\n",
       "      <th>SHAPE_AREA</th>\n",
       "      <th>SHAPE_LEN</th>\n",
       "    </tr>\n",
       "  </thead>\n",
       "  <tbody>\n",
       "    <tr>\n",
       "      <th>0</th>\n",
       "      <td>109325830</td>\n",
       "      <td>BRONX</td>\n",
       "      <td>2014-03-25</td>\n",
       "      <td>18:00:00</td>\n",
       "      <td>FELONY</td>\n",
       "      <td>RAPE</td>\n",
       "      <td>(null)</td>\n",
       "      <td>40.887314</td>\n",
       "      <td>-73.847272</td>\n",
       "      <td>POINT (-73.84727 40.88731)</td>\n",
       "      <td>...</td>\n",
       "      <td>Bronx</td>\n",
       "      <td>68942.0</td>\n",
       "      <td>5.526249e+07</td>\n",
       "      <td>NY</td>\n",
       "      <td>Bronx</td>\n",
       "      <td>36</td>\n",
       "      <td>005</td>\n",
       "      <td>http://www.usps.com/</td>\n",
       "      <td>0.0</td>\n",
       "      <td>0.0</td>\n",
       "    </tr>\n",
       "    <tr>\n",
       "      <th>10</th>\n",
       "      <td>239164165</td>\n",
       "      <td>BRONX</td>\n",
       "      <td>2022-01-07</td>\n",
       "      <td>22:00:00</td>\n",
       "      <td>FELONY</td>\n",
       "      <td>RAPE</td>\n",
       "      <td>(null)</td>\n",
       "      <td>40.887314</td>\n",
       "      <td>-73.847272</td>\n",
       "      <td>POINT (-73.84727 40.88731)</td>\n",
       "      <td>...</td>\n",
       "      <td>Bronx</td>\n",
       "      <td>68942.0</td>\n",
       "      <td>5.526249e+07</td>\n",
       "      <td>NY</td>\n",
       "      <td>Bronx</td>\n",
       "      <td>36</td>\n",
       "      <td>005</td>\n",
       "      <td>http://www.usps.com/</td>\n",
       "      <td>0.0</td>\n",
       "      <td>0.0</td>\n",
       "    </tr>\n",
       "    <tr>\n",
       "      <th>11</th>\n",
       "      <td>238976313</td>\n",
       "      <td>BRONX</td>\n",
       "      <td>2022-01-09</td>\n",
       "      <td>09:00:00</td>\n",
       "      <td>FELONY</td>\n",
       "      <td>RAPE</td>\n",
       "      <td>(null)</td>\n",
       "      <td>40.887314</td>\n",
       "      <td>-73.847272</td>\n",
       "      <td>POINT (-73.84727 40.88731)</td>\n",
       "      <td>...</td>\n",
       "      <td>Bronx</td>\n",
       "      <td>68942.0</td>\n",
       "      <td>5.526249e+07</td>\n",
       "      <td>NY</td>\n",
       "      <td>Bronx</td>\n",
       "      <td>36</td>\n",
       "      <td>005</td>\n",
       "      <td>http://www.usps.com/</td>\n",
       "      <td>0.0</td>\n",
       "      <td>0.0</td>\n",
       "    </tr>\n",
       "    <tr>\n",
       "      <th>36</th>\n",
       "      <td>91030599</td>\n",
       "      <td>BRONX</td>\n",
       "      <td>2013-01-01</td>\n",
       "      <td>12:00:00</td>\n",
       "      <td>FELONY</td>\n",
       "      <td>GRAND LARCENY</td>\n",
       "      <td>(null)</td>\n",
       "      <td>40.887314</td>\n",
       "      <td>-73.847272</td>\n",
       "      <td>POINT (-73.84727 40.88731)</td>\n",
       "      <td>...</td>\n",
       "      <td>Bronx</td>\n",
       "      <td>68942.0</td>\n",
       "      <td>5.526249e+07</td>\n",
       "      <td>NY</td>\n",
       "      <td>Bronx</td>\n",
       "      <td>36</td>\n",
       "      <td>005</td>\n",
       "      <td>http://www.usps.com/</td>\n",
       "      <td>0.0</td>\n",
       "      <td>0.0</td>\n",
       "    </tr>\n",
       "    <tr>\n",
       "      <th>252</th>\n",
       "      <td>88424270</td>\n",
       "      <td>BRONX</td>\n",
       "      <td>2013-01-04</td>\n",
       "      <td>12:10:00</td>\n",
       "      <td>FELONY</td>\n",
       "      <td>ROBBERY</td>\n",
       "      <td>(null)</td>\n",
       "      <td>40.887314</td>\n",
       "      <td>-73.847272</td>\n",
       "      <td>POINT (-73.84727 40.88731)</td>\n",
       "      <td>...</td>\n",
       "      <td>Bronx</td>\n",
       "      <td>68942.0</td>\n",
       "      <td>5.526249e+07</td>\n",
       "      <td>NY</td>\n",
       "      <td>Bronx</td>\n",
       "      <td>36</td>\n",
       "      <td>005</td>\n",
       "      <td>http://www.usps.com/</td>\n",
       "      <td>0.0</td>\n",
       "      <td>0.0</td>\n",
       "    </tr>\n",
       "  </tbody>\n",
       "</table>\n",
       "<p>5 rows × 23 columns</p>\n",
       "</div>"
      ],
      "text/plain": [
       "    CMPLNT_NUM BORO_NM CMPLNT_FR_DT CMPLNT_FR_TM LAW_CAT_CD      OFNS_DESC  \\\n",
       "0    109325830   BRONX   2014-03-25     18:00:00     FELONY           RAPE   \n",
       "10   239164165   BRONX   2022-01-07     22:00:00     FELONY           RAPE   \n",
       "11   238976313   BRONX   2022-01-09     09:00:00     FELONY           RAPE   \n",
       "36    91030599   BRONX   2013-01-01     12:00:00     FELONY  GRAND LARCENY   \n",
       "252   88424270   BRONX   2013-01-04     12:10:00     FELONY        ROBBERY   \n",
       "\n",
       "    PARKS_NM   Latitude  Longitude                    geometry  ...  PO_NAME  \\\n",
       "0     (null)  40.887314 -73.847272  POINT (-73.84727 40.88731)  ...    Bronx   \n",
       "10    (null)  40.887314 -73.847272  POINT (-73.84727 40.88731)  ...    Bronx   \n",
       "11    (null)  40.887314 -73.847272  POINT (-73.84727 40.88731)  ...    Bronx   \n",
       "36    (null)  40.887314 -73.847272  POINT (-73.84727 40.88731)  ...    Bronx   \n",
       "252   (null)  40.887314 -73.847272  POINT (-73.84727 40.88731)  ...    Bronx   \n",
       "\n",
       "    POPULATION          AREA STATE  COUNTY  ST_FIPS CTY_FIPS  \\\n",
       "0      68942.0  5.526249e+07    NY   Bronx       36      005   \n",
       "10     68942.0  5.526249e+07    NY   Bronx       36      005   \n",
       "11     68942.0  5.526249e+07    NY   Bronx       36      005   \n",
       "36     68942.0  5.526249e+07    NY   Bronx       36      005   \n",
       "252    68942.0  5.526249e+07    NY   Bronx       36      005   \n",
       "\n",
       "                      URL SHAPE_AREA SHAPE_LEN  \n",
       "0    http://www.usps.com/        0.0       0.0  \n",
       "10   http://www.usps.com/        0.0       0.0  \n",
       "11   http://www.usps.com/        0.0       0.0  \n",
       "36   http://www.usps.com/        0.0       0.0  \n",
       "252  http://www.usps.com/        0.0       0.0  \n",
       "\n",
       "[5 rows x 23 columns]"
      ]
     },
     "execution_count": 37,
     "metadata": {},
     "output_type": "execute_result"
    }
   ],
   "source": [
    "ComplaintDatawithin.head()"
   ]
  },
  {
   "cell_type": "code",
   "execution_count": 38,
   "id": "ed7bba6e",
   "metadata": {},
   "outputs": [
    {
     "data": {
      "text/plain": [
       "(1033650, 9)"
      ]
     },
     "execution_count": 38,
     "metadata": {},
     "output_type": "execute_result"
    }
   ],
   "source": [
    "# Keep the selected interested columns only \n",
    "selectedCol = ['CMPLNT_NUM','BORO_NM','CMPLNT_FR_DT','CMPLNT_FR_TM','LAW_CAT_CD','OFNS_DESC','PARKS_NM','Latitude', 'Longitude']\n",
    "Complaint_data = ComplaintDatawithin[selectedCol]\n",
    "Complaint_data.shape"
   ]
  },
  {
   "cell_type": "code",
   "execution_count": 39,
   "id": "5ba2c0b0",
   "metadata": {},
   "outputs": [],
   "source": [
    "Complaint_data.reset_index(inplace = True, drop = True)"
   ]
  },
  {
   "cell_type": "code",
   "execution_count": 40,
   "id": "ef2912c5",
   "metadata": {},
   "outputs": [
    {
     "data": {
      "text/html": [
       "<div>\n",
       "<style scoped>\n",
       "    .dataframe tbody tr th:only-of-type {\n",
       "        vertical-align: middle;\n",
       "    }\n",
       "\n",
       "    .dataframe tbody tr th {\n",
       "        vertical-align: top;\n",
       "    }\n",
       "\n",
       "    .dataframe thead th {\n",
       "        text-align: right;\n",
       "    }\n",
       "</style>\n",
       "<table border=\"1\" class=\"dataframe\">\n",
       "  <thead>\n",
       "    <tr style=\"text-align: right;\">\n",
       "      <th></th>\n",
       "      <th>CMPLNT_NUM</th>\n",
       "      <th>BORO_NM</th>\n",
       "      <th>CMPLNT_FR_DT</th>\n",
       "      <th>CMPLNT_FR_TM</th>\n",
       "      <th>LAW_CAT_CD</th>\n",
       "      <th>OFNS_DESC</th>\n",
       "      <th>PARKS_NM</th>\n",
       "      <th>Latitude</th>\n",
       "      <th>Longitude</th>\n",
       "    </tr>\n",
       "  </thead>\n",
       "  <tbody>\n",
       "    <tr>\n",
       "      <th>0</th>\n",
       "      <td>109325830</td>\n",
       "      <td>BRONX</td>\n",
       "      <td>2014-03-25</td>\n",
       "      <td>18:00:00</td>\n",
       "      <td>FELONY</td>\n",
       "      <td>RAPE</td>\n",
       "      <td>(null)</td>\n",
       "      <td>40.887314</td>\n",
       "      <td>-73.847272</td>\n",
       "    </tr>\n",
       "    <tr>\n",
       "      <th>1</th>\n",
       "      <td>239164165</td>\n",
       "      <td>BRONX</td>\n",
       "      <td>2022-01-07</td>\n",
       "      <td>22:00:00</td>\n",
       "      <td>FELONY</td>\n",
       "      <td>RAPE</td>\n",
       "      <td>(null)</td>\n",
       "      <td>40.887314</td>\n",
       "      <td>-73.847272</td>\n",
       "    </tr>\n",
       "    <tr>\n",
       "      <th>2</th>\n",
       "      <td>238976313</td>\n",
       "      <td>BRONX</td>\n",
       "      <td>2022-01-09</td>\n",
       "      <td>09:00:00</td>\n",
       "      <td>FELONY</td>\n",
       "      <td>RAPE</td>\n",
       "      <td>(null)</td>\n",
       "      <td>40.887314</td>\n",
       "      <td>-73.847272</td>\n",
       "    </tr>\n",
       "    <tr>\n",
       "      <th>3</th>\n",
       "      <td>91030599</td>\n",
       "      <td>BRONX</td>\n",
       "      <td>2013-01-01</td>\n",
       "      <td>12:00:00</td>\n",
       "      <td>FELONY</td>\n",
       "      <td>GRAND LARCENY</td>\n",
       "      <td>(null)</td>\n",
       "      <td>40.887314</td>\n",
       "      <td>-73.847272</td>\n",
       "    </tr>\n",
       "    <tr>\n",
       "      <th>4</th>\n",
       "      <td>88424270</td>\n",
       "      <td>BRONX</td>\n",
       "      <td>2013-01-04</td>\n",
       "      <td>12:10:00</td>\n",
       "      <td>FELONY</td>\n",
       "      <td>ROBBERY</td>\n",
       "      <td>(null)</td>\n",
       "      <td>40.887314</td>\n",
       "      <td>-73.847272</td>\n",
       "    </tr>\n",
       "  </tbody>\n",
       "</table>\n",
       "</div>"
      ],
      "text/plain": [
       "  CMPLNT_NUM BORO_NM CMPLNT_FR_DT CMPLNT_FR_TM LAW_CAT_CD      OFNS_DESC  \\\n",
       "0  109325830   BRONX   2014-03-25     18:00:00     FELONY           RAPE   \n",
       "1  239164165   BRONX   2022-01-07     22:00:00     FELONY           RAPE   \n",
       "2  238976313   BRONX   2022-01-09     09:00:00     FELONY           RAPE   \n",
       "3   91030599   BRONX   2013-01-01     12:00:00     FELONY  GRAND LARCENY   \n",
       "4   88424270   BRONX   2013-01-04     12:10:00     FELONY        ROBBERY   \n",
       "\n",
       "  PARKS_NM   Latitude  Longitude  \n",
       "0   (null)  40.887314 -73.847272  \n",
       "1   (null)  40.887314 -73.847272  \n",
       "2   (null)  40.887314 -73.847272  \n",
       "3   (null)  40.887314 -73.847272  \n",
       "4   (null)  40.887314 -73.847272  "
      ]
     },
     "execution_count": 40,
     "metadata": {},
     "output_type": "execute_result"
    }
   ],
   "source": [
    "Complaint_data.head()"
   ]
  },
  {
   "cell_type": "code",
   "execution_count": 41,
   "id": "a7d37c4e",
   "metadata": {},
   "outputs": [],
   "source": [
    "# Save the cleaned data\n",
    "Complaint_data.to_csv(\"Complaint_data_cleaned.csv\",index=False)"
   ]
  },
  {
   "cell_type": "code",
   "execution_count": null,
   "id": "be0fec6e",
   "metadata": {},
   "outputs": [],
   "source": []
  },
  {
   "cell_type": "code",
   "execution_count": null,
   "id": "d6561881",
   "metadata": {},
   "outputs": [],
   "source": []
  },
  {
   "cell_type": "code",
   "execution_count": null,
   "id": "fdd54c61",
   "metadata": {},
   "outputs": [],
   "source": []
  },
  {
   "cell_type": "code",
   "execution_count": null,
   "id": "0eb9083d",
   "metadata": {},
   "outputs": [],
   "source": []
  }
 ],
 "metadata": {
  "kernelspec": {
   "display_name": "Python 3 (ipykernel)",
   "language": "python",
   "name": "python3"
  },
  "language_info": {
   "codemirror_mode": {
    "name": "ipython",
    "version": 3
   },
   "file_extension": ".py",
   "mimetype": "text/x-python",
   "name": "python",
   "nbconvert_exporter": "python",
   "pygments_lexer": "ipython3",
   "version": "3.9.12"
  }
 },
 "nbformat": 4,
 "nbformat_minor": 5
}
