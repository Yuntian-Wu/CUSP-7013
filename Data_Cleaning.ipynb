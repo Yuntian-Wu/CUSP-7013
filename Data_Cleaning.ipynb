{
 "cells": [
  {
   "cell_type": "markdown",
   "id": "26f1fbaf",
   "metadata": {},
   "source": [
    "# Data clean\n",
    "data:\n",
    "1. NYPD Complaint Data Historic\n",
    "https://data.cityofnewyork.us/resource/qgea-i56i.csv\n",
    "2. Local Area Unemployment Statistics\n",
    "https://data.ny.gov/resource/5hyu-bdh8.csv\n",
    "3. Shapefiles of NYC zip codes \n",
    "https://data.cityofnewyork.us/Business/Zip-Code-Boundaries/i8iw-xf4u/data?no_mobile=true .\n",
    "\n",
    "- Downlowad the NYPD Complaint Data Historic and Local Area Unemployment Statistics first, using the given links\n"
   ]
  },
  {
   "cell_type": "code",
   "execution_count": 1,
   "id": "06247caa",
   "metadata": {},
   "outputs": [],
   "source": [
    "import pandas as pd\n",
    "from sklearn.datasets import make_classification\n",
    "from sklearn.datasets import make_blobs\n",
    "from matplotlib.pylab import plt\n",
    "import numpy as np\n",
    "%matplotlib inline\n",
    "import warnings\n",
    "import geopandas as gpd\n",
    "from urllib.request import urlopen \n",
    "import json\n",
    "import urllib\n",
    "warnings.filterwarnings('ignore')\n",
    "from zipfile import ZipFile"
   ]
  },
  {
   "cell_type": "markdown",
   "id": "fd75e910",
   "metadata": {},
   "source": [
    "# Local Area Unemployment Statistics"
   ]
  },
  {
   "cell_type": "code",
   "execution_count": 2,
   "id": "0bf1ea36",
   "metadata": {},
   "outputs": [],
   "source": [
    "# Using ZipFile to read large csv file\n",
    "#zip_file = ZipFile('Local_Area_Unemployment_Statistics__Beginning_1976.csv.zip')\n",
    "#Unemployment_data = pd.read_csv(zip_file.open('Local_Area_Unemployment_Statistics__Beginning_1976.csv'))\n",
    "Unemployment_data = pd.read_csv('Local_Area_Unemployment_Statistics__Beginning_1976.csv')"
   ]
  },
  {
   "cell_type": "code",
   "execution_count": 3,
   "id": "d9bc2fa0",
   "metadata": {},
   "outputs": [
    {
     "data": {
      "text/plain": [
       "(89078, 7)"
      ]
     },
     "execution_count": 3,
     "metadata": {},
     "output_type": "execute_result"
    }
   ],
   "source": [
    "Unemployment_data.shape"
   ]
  },
  {
   "cell_type": "code",
   "execution_count": 4,
   "id": "519cb96d",
   "metadata": {},
   "outputs": [
    {
     "data": {
      "text/html": [
       "<div>\n",
       "<style scoped>\n",
       "    .dataframe tbody tr th:only-of-type {\n",
       "        vertical-align: middle;\n",
       "    }\n",
       "\n",
       "    .dataframe tbody tr th {\n",
       "        vertical-align: top;\n",
       "    }\n",
       "\n",
       "    .dataframe thead th {\n",
       "        text-align: right;\n",
       "    }\n",
       "</style>\n",
       "<table border=\"1\" class=\"dataframe\">\n",
       "  <thead>\n",
       "    <tr style=\"text-align: right;\">\n",
       "      <th></th>\n",
       "      <th>Area</th>\n",
       "      <th>Year</th>\n",
       "      <th>Month</th>\n",
       "      <th>Labor Force</th>\n",
       "      <th>Employed</th>\n",
       "      <th>Unemployed</th>\n",
       "      <th>Unemployment Rate</th>\n",
       "    </tr>\n",
       "  </thead>\n",
       "  <tbody>\n",
       "    <tr>\n",
       "      <th>0</th>\n",
       "      <td>New York State</td>\n",
       "      <td>2023</td>\n",
       "      <td>1</td>\n",
       "      <td>9594400</td>\n",
       "      <td>9155000</td>\n",
       "      <td>439400</td>\n",
       "      <td>4.6</td>\n",
       "    </tr>\n",
       "    <tr>\n",
       "      <th>1</th>\n",
       "      <td>New York State</td>\n",
       "      <td>2023</td>\n",
       "      <td>2</td>\n",
       "      <td>9664000</td>\n",
       "      <td>9232800</td>\n",
       "      <td>431200</td>\n",
       "      <td>4.5</td>\n",
       "    </tr>\n",
       "    <tr>\n",
       "      <th>2</th>\n",
       "      <td>New York State</td>\n",
       "      <td>2023</td>\n",
       "      <td>3</td>\n",
       "      <td>9687400</td>\n",
       "      <td>9295600</td>\n",
       "      <td>391900</td>\n",
       "      <td>4.0</td>\n",
       "    </tr>\n",
       "    <tr>\n",
       "      <th>3</th>\n",
       "      <td>New York State</td>\n",
       "      <td>2023</td>\n",
       "      <td>4</td>\n",
       "      <td>9652700</td>\n",
       "      <td>9296800</td>\n",
       "      <td>355900</td>\n",
       "      <td>3.7</td>\n",
       "    </tr>\n",
       "    <tr>\n",
       "      <th>4</th>\n",
       "      <td>New York State</td>\n",
       "      <td>2023</td>\n",
       "      <td>5</td>\n",
       "      <td>9720600</td>\n",
       "      <td>9349700</td>\n",
       "      <td>370900</td>\n",
       "      <td>3.8</td>\n",
       "    </tr>\n",
       "  </tbody>\n",
       "</table>\n",
       "</div>"
      ],
      "text/plain": [
       "             Area  Year  Month  Labor Force  Employed  Unemployed  \\\n",
       "0  New York State  2023      1      9594400   9155000      439400   \n",
       "1  New York State  2023      2      9664000   9232800      431200   \n",
       "2  New York State  2023      3      9687400   9295600      391900   \n",
       "3  New York State  2023      4      9652700   9296800      355900   \n",
       "4  New York State  2023      5      9720600   9349700      370900   \n",
       "\n",
       "   Unemployment Rate                                                                                                                                                                        \n",
       "0                                                4.6                                                                                                                                        \n",
       "1                                                4.5                                                                                                                                        \n",
       "2                                                4.0                                                                                                                                        \n",
       "3                                                3.7                                                                                                                                        \n",
       "4                                                3.8                                                                                                                                        "
      ]
     },
     "execution_count": 4,
     "metadata": {},
     "output_type": "execute_result"
    }
   ],
   "source": [
    "Unemployment_data.head()"
   ]
  },
  {
   "cell_type": "markdown",
   "id": "994e50b6",
   "metadata": {},
   "source": [
    "## Data Cleaning Tasks\n",
    "1. Data year from 2012 to 2022\n",
    "2. area within New York City\n",
    "The boroughs are the Bronx, Brooklyn, Manhattan, Queens, and Staten Island. \n",
    "Each borough is coextensive with a respective county of the State of New York: The Bronx is Bronx County, Brooklyn is Kings County, Manhattan is New York County, Queens is Queens County, and Staten Island is Richmond County.\n",
    "3. Converting an Datetime feild"
   ]
  },
  {
   "cell_type": "code",
   "execution_count": 5,
   "id": "be33e93e",
   "metadata": {},
   "outputs": [
    {
     "data": {
      "text/plain": [
       "(29172, 7)"
      ]
     },
     "execution_count": 5,
     "metadata": {},
     "output_type": "execute_result"
    }
   ],
   "source": [
    "# Keep data only from year 2012 to 2022\n",
    "sanityindex = ((Unemployment_data['Year'] >=2012) & (Unemployment_data['Year'] <=2022))\n",
    "Unemployment_data = Unemployment_data.loc[sanityindex]\n",
    "Unemployment_data.shape"
   ]
  },
  {
   "cell_type": "code",
   "execution_count": 6,
   "id": "339bda82",
   "metadata": {},
   "outputs": [
    {
     "data": {
      "text/plain": [
       "array(['New York State', 'Albany County', 'Allegany County',\n",
       "       'Bronx County', 'Broome County', 'Cattaraugus County',\n",
       "       'Cayuga County', 'Chautauqua County', 'Chemung County',\n",
       "       'Chenango County', 'Clinton County', 'Columbia County',\n",
       "       'Cortland County', 'Delaware County', 'Dutchess County',\n",
       "       'Erie County', 'Essex County', 'Franklin County', 'Fulton County',\n",
       "       'Genesee County', 'Greene County', 'Hamilton County',\n",
       "       'Herkimer County', 'Jefferson County', 'Kings County',\n",
       "       'Lewis County', 'Livingston County', 'Madison County',\n",
       "       'Monroe County', 'Montgomery County', 'Nassau County',\n",
       "       'New York County', 'Niagara County', 'Oneida County',\n",
       "       'Onondaga County', 'Ontario County', 'Orange County',\n",
       "       'Orleans County', 'Oswego County', 'Otsego County',\n",
       "       'Putnam County', 'Queens County', 'Rensselaer County',\n",
       "       'Richmond County', 'Rockland County', 'Saratoga County',\n",
       "       'Schenectady County', 'Schoharie County', 'Schuyler County',\n",
       "       'Seneca County', 'St. Lawrence County', 'Steuben County',\n",
       "       'Suffolk County', 'Sullivan County', 'Tioga County',\n",
       "       'Tompkins County', 'Ulster County', 'Warren County',\n",
       "       'Washington County', 'Wayne County', 'Westchester County',\n",
       "       'Wyoming County', 'Yates County', 'Capital Region',\n",
       "       'Central New York', 'Finger Lakes', 'Hudson Valley', 'Long Island',\n",
       "       'Mohawk Valley', 'New York City', 'North Country', 'Southern Tier',\n",
       "       'Western New York', 'Albany-Rensselaer-Schenectady Counties',\n",
       "       'Allegany-Cattaraugus', 'Broome-Tioga', 'Cayuga-Cortland',\n",
       "       'Chautauqua', 'Chemung-Schuyler-Steuben',\n",
       "       'Chenango-Delaware-Otsego', 'Clinton-Essex-Franklin-Hamilton',\n",
       "       'Columbia-Greene', 'Dutchess', 'Erie',\n",
       "       'Fulton-Montgomery-Schoharie',\n",
       "       'Genesee-Livingston-Orleans-Wyoming', 'Hempstead-Long Beach',\n",
       "       'Herkimer-Madison-Oneida', 'Jefferson-Lewis', 'Monroe', 'Niagara',\n",
       "       'Onondaga', 'Ontario-Seneca-Wayne-Yates', 'Orange', 'Oswego',\n",
       "       'Oyster Bay-North Hempstead-Glen Cove',\n",
       "       'Putnam-Balance Of Westchester', 'Rockland',\n",
       "       'Saratoga-Warren-Washington', 'St. Lawrence', 'Suffolk',\n",
       "       'Sullivan', 'Tompkins', 'Ulster', 'Yonkers',\n",
       "       'Albany-Schenectady-Troy Metro Area', 'Binghamton Metro Area',\n",
       "       'Buffalo-Niagara Falls Metro Area', 'Elmira Metro Area',\n",
       "       'Glens Falls Metro Area', 'Ithaca Metro Area',\n",
       "       'Kingston Metro Area', 'Orange-Rockland-Westchester Metro Area',\n",
       "       'Rochester Metro Area', 'Syracuse Metro Area',\n",
       "       'Utica-Rome Metro Area', 'Watertown-Fort Drum Metro Area',\n",
       "       'Dutchess-Putnam Metropolitan Division',\n",
       "       'Nassau-Suffolk Metropolitan Division', 'Balance of State',\n",
       "       'Albany City', 'Amherst Town', 'Auburn City', 'Babylon Town',\n",
       "       'Bethlehem Town', 'Binghamton City', 'Brighton Town',\n",
       "       'Brookhaven Town', 'Buffalo City', 'Carmel Town',\n",
       "       'Cheektowaga Town', 'Chili Town', 'Cicero Town', 'Clarence Town',\n",
       "       'Clarkstown Town', 'Clay Town', 'Clifton Park Town',\n",
       "       'Colonie Town', 'Cortlandt Town', 'De Witt Town',\n",
       "       'East Fishkill Town Ny', 'Eastchester Town', 'Elmira City',\n",
       "       'Freeport Village', 'Gates Town', 'Glen Cove City',\n",
       "       'Glenville Town', 'Greece Town', 'Greenburgh Town',\n",
       "       'Guilderland Town', 'Hamburg Town', 'Harrison Village',\n",
       "       'Haverstraw Town', 'Hempstead Town', 'Hempstead Village',\n",
       "       'Henrietta Town', 'Huntington Town', 'Irondequoit Town',\n",
       "       'Islip Town', 'Ithaca City', 'Jamestown City', 'Lancaster Town',\n",
       "       'Lindenhurst', 'Lockport City', 'Long Beach City',\n",
       "       'Mamaroneck Town', 'Manlius Town', 'Middletown City',\n",
       "       'Monroe Town', 'Mount Pleasant Town', 'Mount Vernon City',\n",
       "       'New Rochelle City', 'New Windsor Town', 'Newburgh City',\n",
       "       'Newburgh Town', 'Niagara Falls City', 'North Hempstead Town',\n",
       "       'North Tonawanda City', 'Orangetown Town', 'Orchard Park Town',\n",
       "       'Ossining Town', 'Ossining Village', 'Oyster Bay Town',\n",
       "       'Penfield Town', 'Perinton Town', 'Pittsford Town',\n",
       "       'Port Chester Village Ny', 'Poughkeepsie City',\n",
       "       'Poughkeepsie Town', 'Queensbury Town', 'Ramapo Town',\n",
       "       'Riverhead Town Ny', 'Rochester City', 'Rockville Centre',\n",
       "       'Rome City', 'Rotterdam Town', 'Rye Town', 'Salina Town',\n",
       "       'Saratoga Springs City', 'Schenectady City', 'Smithtown Town',\n",
       "       'Southampton', 'Spring Valley Village', 'Syracuse City',\n",
       "       'Tonawanda Town', 'Troy City', 'Union Town', 'Utica City',\n",
       "       'Valley Stream', 'Vestal Town', 'Wallkill Town Ny',\n",
       "       'Wappinger Town', 'Warwick Town', 'Watertown City', 'Webster Town',\n",
       "       'West Seneca Town', 'White Plains City', 'Yonkers City',\n",
       "       'Yorktown Town'], dtype=object)"
      ]
     },
     "execution_count": 6,
     "metadata": {},
     "output_type": "execute_result"
    }
   ],
   "source": [
    "# Unique Area \n",
    "Unemployment_data.Area.unique()"
   ]
  },
  {
   "cell_type": "code",
   "execution_count": 7,
   "id": "e8e50464",
   "metadata": {},
   "outputs": [
    {
     "data": {
      "text/plain": [
       "(660, 7)"
      ]
     },
     "execution_count": 7,
     "metadata": {},
     "output_type": "execute_result"
    }
   ],
   "source": [
    "# Bronx, Brooklyn, Manhattan, Queens, and Staten Island\n",
    "NYC_counties = ['Bronx County','Kings County','New York County','Queens County','Richmond County']\n",
    "Unemployment_data = Unemployment_data[Unemployment_data['Area'].isin(NYC_counties)]\n",
    "Unemployment_data.shape"
   ]
  },
  {
   "cell_type": "code",
   "execution_count": 8,
   "id": "1736c7ce",
   "metadata": {},
   "outputs": [],
   "source": [
    "# Combine Year and Month, convert to Datetime\n",
    "Unemployment_data['Date'] = pd.to_datetime(Unemployment_data['Year'].astype(str) + '-' +\n",
    "                                           Unemployment_data['Month'].astype(str).str.zfill(2))"
   ]
  },
  {
   "cell_type": "code",
   "execution_count": 9,
   "id": "f1c61aa2",
   "metadata": {},
   "outputs": [],
   "source": [
    "Unemployment_data.reset_index(inplace = True, drop = True)"
   ]
  },
  {
   "cell_type": "code",
   "execution_count": 10,
   "id": "1a1ee4ff",
   "metadata": {},
   "outputs": [
    {
     "data": {
      "text/html": [
       "<div>\n",
       "<style scoped>\n",
       "    .dataframe tbody tr th:only-of-type {\n",
       "        vertical-align: middle;\n",
       "    }\n",
       "\n",
       "    .dataframe tbody tr th {\n",
       "        vertical-align: top;\n",
       "    }\n",
       "\n",
       "    .dataframe thead th {\n",
       "        text-align: right;\n",
       "    }\n",
       "</style>\n",
       "<table border=\"1\" class=\"dataframe\">\n",
       "  <thead>\n",
       "    <tr style=\"text-align: right;\">\n",
       "      <th></th>\n",
       "      <th>Area</th>\n",
       "      <th>Year</th>\n",
       "      <th>Month</th>\n",
       "      <th>Labor Force</th>\n",
       "      <th>Employed</th>\n",
       "      <th>Unemployed</th>\n",
       "      <th>Unemployment Rate</th>\n",
       "      <th>Date</th>\n",
       "    </tr>\n",
       "  </thead>\n",
       "  <tbody>\n",
       "    <tr>\n",
       "      <th>0</th>\n",
       "      <td>Bronx County</td>\n",
       "      <td>2022</td>\n",
       "      <td>1</td>\n",
       "      <td>612200</td>\n",
       "      <td>546100</td>\n",
       "      <td>66100</td>\n",
       "      <td>10.8</td>\n",
       "      <td>2022-01-01</td>\n",
       "    </tr>\n",
       "    <tr>\n",
       "      <th>1</th>\n",
       "      <td>Bronx County</td>\n",
       "      <td>2022</td>\n",
       "      <td>2</td>\n",
       "      <td>612400</td>\n",
       "      <td>551600</td>\n",
       "      <td>60800</td>\n",
       "      <td>9.9</td>\n",
       "      <td>2022-02-01</td>\n",
       "    </tr>\n",
       "    <tr>\n",
       "      <th>2</th>\n",
       "      <td>Bronx County</td>\n",
       "      <td>2022</td>\n",
       "      <td>3</td>\n",
       "      <td>607800</td>\n",
       "      <td>555000</td>\n",
       "      <td>52800</td>\n",
       "      <td>8.7</td>\n",
       "      <td>2022-03-01</td>\n",
       "    </tr>\n",
       "    <tr>\n",
       "      <th>3</th>\n",
       "      <td>Bronx County</td>\n",
       "      <td>2022</td>\n",
       "      <td>4</td>\n",
       "      <td>600700</td>\n",
       "      <td>552800</td>\n",
       "      <td>47900</td>\n",
       "      <td>8.0</td>\n",
       "      <td>2022-04-01</td>\n",
       "    </tr>\n",
       "    <tr>\n",
       "      <th>4</th>\n",
       "      <td>Bronx County</td>\n",
       "      <td>2022</td>\n",
       "      <td>5</td>\n",
       "      <td>599000</td>\n",
       "      <td>554700</td>\n",
       "      <td>44300</td>\n",
       "      <td>7.4</td>\n",
       "      <td>2022-05-01</td>\n",
       "    </tr>\n",
       "  </tbody>\n",
       "</table>\n",
       "</div>"
      ],
      "text/plain": [
       "           Area  Year  Month  Labor Force  Employed  Unemployed  \\\n",
       "0  Bronx County  2022      1       612200    546100       66100   \n",
       "1  Bronx County  2022      2       612400    551600       60800   \n",
       "2  Bronx County  2022      3       607800    555000       52800   \n",
       "3  Bronx County  2022      4       600700    552800       47900   \n",
       "4  Bronx County  2022      5       599000    554700       44300   \n",
       "\n",
       "   Unemployment Rate                                                                                                                                                                        \\\n",
       "0                                               10.8                                                                                                                                         \n",
       "1                                                9.9                                                                                                                                         \n",
       "2                                                8.7                                                                                                                                         \n",
       "3                                                8.0                                                                                                                                         \n",
       "4                                                7.4                                                                                                                                         \n",
       "\n",
       "        Date  \n",
       "0 2022-01-01  \n",
       "1 2022-02-01  \n",
       "2 2022-03-01  \n",
       "3 2022-04-01  \n",
       "4 2022-05-01  "
      ]
     },
     "execution_count": 10,
     "metadata": {},
     "output_type": "execute_result"
    }
   ],
   "source": [
    "Unemployment_data.head()"
   ]
  },
  {
   "cell_type": "code",
   "execution_count": 11,
   "id": "08e51854",
   "metadata": {},
   "outputs": [],
   "source": [
    "# Save the cleaned data\n",
    "Unemployment_data.to_csv(\"Unemployment_data_cleaned.csv\")"
   ]
  },
  {
   "cell_type": "markdown",
   "id": "a7f3411c",
   "metadata": {},
   "source": [
    "## NYPD Complaint Data Historic"
   ]
  },
  {
   "cell_type": "markdown",
   "id": "331141ac",
   "metadata": {},
   "source": [
    "The data disctionary is here:https://data.cityofnewyork.us/api/views/qgea-i56i/files/b21ec89f-4d7b-494e-b2e9-f69ae7f4c228?download=true&filename=NYPD_Complaint_Incident_Level_Data_Footnotes.pdf"
   ]
  },
  {
   "cell_type": "markdown",
   "id": "9ac6af3c",
   "metadata": {},
   "source": [
    "The focus of this notebook would be on following columns - 'CMPLNT_NUM','BORO_NM','CMPLNT_FR_DT','CMPLNT_FR_TM','OFNS_DESC','PARKS_NM','Latitude', 'Longitude'"
   ]
  },
  {
   "cell_type": "markdown",
   "id": "ab6dd78c",
   "metadata": {},
   "source": [
    "'CMPLNT_NUM' is a unique id for each complaint, \n",
    "'BORO' is name of borough where complaint was reported,\n",
    "'CMPLNT_FR_DT' and 'CMPLNT_FR_TM' are date and time of complaint respectively, \n",
    "'OFNS_DESC' is the type of offence reported, \n",
    "'PARKS_NM' is name of park where complaint recorded (if any) and \n",
    "'Latitude', 'Longitude' are location of complaint."
   ]
  },
  {
   "cell_type": "code",
   "execution_count": null,
   "id": "4fe8f76c",
   "metadata": {},
   "outputs": [],
   "source": [
    "# NYPD Complaint Data Historic \n",
    "# Using ZipFile to read large csv file\n",
    "#zip_file = ZipFile('NYPD_Complaint_Data_Historic_20231206.csv.zip')\n",
    "#Complaint_data = pd.read_csv(zip_file.open('NYPD_Complaint_Data_Historic_20231206.csv'))\n",
    "Complaint_data = pd.read_csv('NYPD_Complaint_Data_Historic_20231206.csv')"
   ]
  },
  {
   "cell_type": "code",
   "execution_count": null,
   "id": "ccf7271c",
   "metadata": {},
   "outputs": [],
   "source": [
    "Complaint_data.shape"
   ]
  },
  {
   "cell_type": "code",
   "execution_count": null,
   "id": "db799141",
   "metadata": {},
   "outputs": [],
   "source": [
    "Complaint_data.columns"
   ]
  },
  {
   "cell_type": "markdown",
   "id": "c98dc204",
   "metadata": {},
   "source": [
    "## Select the interested columns"
   ]
  },
  {
   "cell_type": "code",
   "execution_count": null,
   "id": "8040ce7d",
   "metadata": {},
   "outputs": [],
   "source": [
    "selectedCol = ['CMPLNT_NUM','BORO_NM','CMPLNT_FR_DT','CMPLNT_FR_TM','LAW_CAT_CD','OFNS_DESC','PARKS_NM','Latitude', 'Longitude']\n",
    "Complaint_data = Complaint_data[selectedCol]\n",
    "Complaint_data.shape"
   ]
  },
  {
   "cell_type": "code",
   "execution_count": null,
   "id": "ffa89b7f",
   "metadata": {},
   "outputs": [],
   "source": [
    "Complaint_data.head()"
   ]
  },
  {
   "cell_type": "markdown",
   "id": "0723b135",
   "metadata": {},
   "source": [
    "## Data Cleaning task"
   ]
  },
  {
   "cell_type": "markdown",
   "id": "f111d368",
   "metadata": {},
   "source": [
    "### 1. Filter out missing/wrong date and times, missing borough name and duplicate complaints from the data"
   ]
  },
  {
   "cell_type": "code",
   "execution_count": null,
   "id": "2e1b01e9",
   "metadata": {},
   "outputs": [],
   "source": [
    "# Ensure date as datetime\n",
    "Complaint_data['CMPLNT_FR_DT'] = pd.to_datetime(Complaint_data['CMPLNT_FR_DT'],errors = 'coerce')"
   ]
  },
  {
   "cell_type": "code",
   "execution_count": null,
   "id": "6ddbcf9c",
   "metadata": {},
   "outputs": [],
   "source": [
    "# \n",
    "Complaint_data['BORO_NM'].unique()"
   ]
  },
  {
   "cell_type": "code",
   "execution_count": null,
   "id": "84186309",
   "metadata": {},
   "outputs": [],
   "source": [
    "# 'CMPLNT_FR_DT' using NaT indicating missing data\n",
    "Complaint_data[Complaint_data['CMPLNT_FR_DT'].isna() == True ].head()"
   ]
  },
  {
   "cell_type": "code",
   "execution_count": null,
   "id": "046bc0af",
   "metadata": {},
   "outputs": [],
   "source": [
    "# 'CMPLNT_FR_TM' using '(null)' indicating missing data\n",
    "Complaint_data[Complaint_data['CMPLNT_FR_TM'] ==  '(null)'].head()"
   ]
  },
  {
   "cell_type": "code",
   "execution_count": null,
   "id": "2f74cdd4",
   "metadata": {},
   "outputs": [],
   "source": [
    "# 'BORO_NM' using '(null)' indicating missing data\n",
    "Complaint_data[Complaint_data['BORO_NM'] ==  '(null)'].head()"
   ]
  },
  {
   "cell_type": "code",
   "execution_count": null,
   "id": "08744087",
   "metadata": {},
   "outputs": [],
   "source": [
    "# filter out missing/wrong date and times, missing borough name\n",
    "sanityindex = ((Complaint_data['CMPLNT_FR_DT'].isna() == False) \n",
    "               & (Complaint_data['CMPLNT_FR_DT']!= '(null)')\n",
    "               & (Complaint_data['CMPLNT_FR_TM'].isna() == False) \n",
    "               & (Complaint_data['CMPLNT_FR_TM']!= '(null)')\n",
    "               & (Complaint_data['BORO_NM'] != '(null)'))\n",
    "Complaint_data = Complaint_data.loc[sanityindex]\n",
    "Complaint_data.shape"
   ]
  },
  {
   "cell_type": "code",
   "execution_count": null,
   "id": "59e3b7e7",
   "metadata": {},
   "outputs": [],
   "source": [
    "# fitering duplicate complaint number \n",
    "Complaint_data = Complaint_data.drop_duplicates(subset = ['CMPLNT_NUM'])\n",
    "Complaint_data.shape"
   ]
  },
  {
   "cell_type": "markdown",
   "id": "96214642",
   "metadata": {},
   "source": [
    "### 2. Remove rows where location is parks or greenspace, Keep rows for 2012 - 2022"
   ]
  },
  {
   "cell_type": "code",
   "execution_count": null,
   "id": "6fce8e71",
   "metadata": {},
   "outputs": [],
   "source": [
    "# If a crime has occured outside a parkspace, this value would be NaN\n",
    "sanityindex = (Complaint_data['PARKS_NM'] == '(null)')\n",
    "Complaint_data = Complaint_data.loc[sanityindex]\n",
    "Complaint_data.shape"
   ]
  },
  {
   "cell_type": "code",
   "execution_count": null,
   "id": "cb049140",
   "metadata": {},
   "outputs": [],
   "source": [
    "# Check the statring and ending date and time\n",
    "dateStart = Complaint_data['CMPLNT_FR_DT'].min()\n",
    "dateEnd = Complaint_data['CMPLNT_FR_DT'].max()\n",
    "timeStart = Complaint_data[Complaint_data['CMPLNT_FR_DT']==dateStart]['CMPLNT_FR_TM'].min()\n",
    "timeEnd = Complaint_data[Complaint_data['CMPLNT_FR_DT']==dateEnd]['CMPLNT_FR_TM'].max()\n",
    "# Combine\n",
    "dtStart = pd.to_datetime(str(dateStart)+' '+str(timeStart))\n",
    "dtEnd = pd.to_datetime(str(dateEnd)+' '+str(timeEnd))"
   ]
  },
  {
   "cell_type": "code",
   "execution_count": null,
   "id": "07fe269d",
   "metadata": {},
   "outputs": [],
   "source": [
    "## check the timeline of data\n",
    "(dtStart, dtEnd)"
   ]
  },
  {
   "cell_type": "code",
   "execution_count": null,
   "id": "ab17e51e",
   "metadata": {},
   "outputs": [],
   "source": [
    "# Romove data before 2012\n",
    "Complaint_data = Complaint_data[(Complaint_data['CMPLNT_FR_DT'] >= pd.to_datetime('01/01/2012'))]\n",
    "Complaint_data.shape"
   ]
  },
  {
   "cell_type": "code",
   "execution_count": null,
   "id": "ecdb3d3c",
   "metadata": {},
   "outputs": [],
   "source": [
    "# Check the statring and ending date and time\n",
    "dateStart = Complaint_data['CMPLNT_FR_DT'].min()\n",
    "dateEnd = Complaint_data['CMPLNT_FR_DT'].max()\n",
    "timeStart = Complaint_data[Complaint_data['CMPLNT_FR_DT']==dateStart]['CMPLNT_FR_TM'].min()\n",
    "timeEnd = Complaint_data[Complaint_data['CMPLNT_FR_DT']==dateEnd]['CMPLNT_FR_TM'].max()\n",
    "# Combine\n",
    "dtStart = pd.to_datetime(str(dateStart)+' '+str(timeStart))\n",
    "dtEnd = pd.to_datetime(str(dateEnd)+' '+str(timeEnd))"
   ]
  },
  {
   "cell_type": "code",
   "execution_count": null,
   "id": "f8c858ab",
   "metadata": {},
   "outputs": [],
   "source": [
    "## check the timeline of cleaned data\n",
    "(dtStart, dtEnd)"
   ]
  },
  {
   "cell_type": "markdown",
   "id": "189b9d88",
   "metadata": {},
   "source": [
    "### 3. keep type 1 crimes as defined by FBI from the data :\n",
    "\n",
    "The crime type is present in the 'OFNS_DESC' column. \n",
    "Keep the following categories: 'ARSON', 'BURGLARY', 'FELONY ASSAULT', 'GRAND LARCENY' ,'GRAND LARCENY OF MOTOR VEHICLE', 'MURDER & NON-NEGL. MANSLAUGHTER', 'RAPE', 'ROBBERY'"
   ]
  },
  {
   "cell_type": "code",
   "execution_count": null,
   "id": "804177d3",
   "metadata": {},
   "outputs": [],
   "source": [
    "crimetypes = ['ARSON', 'BURGLARY', 'FELONY ASSAULT', 'GRAND LARCENY' ,'GRAND LARCENY OF MOTOR VEHICLE', 'MURDER & NON-NEGL. MANSLAUGHTER', 'RAPE', 'ROBBERY']\n",
    "sanityindex = Complaint_data['OFNS_DESC'].isin(crimetypes) \n",
    "Complaint_data = Complaint_data.loc[sanityindex]\n",
    "Complaint_data.shape"
   ]
  },
  {
   "cell_type": "code",
   "execution_count": null,
   "id": "04e379cb",
   "metadata": {},
   "outputs": [],
   "source": [
    "Complaint_data.reset_index(inplace = True, drop = True)\n",
    "Complaint_data"
   ]
  },
  {
   "cell_type": "markdown",
   "id": "c334d78d",
   "metadata": {},
   "source": [
    "### 4. Keep rows with location within NYC\n"
   ]
  },
  {
   "cell_type": "code",
   "execution_count": null,
   "id": "4c455418",
   "metadata": {},
   "outputs": [],
   "source": [
    "## zip codes map\n",
    "zips = gpd.read_file('ZIP_CODE_040114/ZIP_CODE_040114.shp')\n",
    "zips.head()"
   ]
  },
  {
   "cell_type": "code",
   "execution_count": null,
   "id": "2c877c58",
   "metadata": {},
   "outputs": [],
   "source": [
    "# chekc Projection\n",
    "zips.crs"
   ]
  },
  {
   "cell_type": "code",
   "execution_count": null,
   "id": "6a9f39c9",
   "metadata": {},
   "outputs": [],
   "source": [
    "# make points from given latitudes and longitudes\n",
    "from shapely.geometry import Point\n",
    "geometry = [Point(xy) for xy in zip(Complaint_data.Longitude, Complaint_data.Latitude)]\n",
    "\n",
    "geoComplaintLatLon = gpd.GeoDataFrame(Complaint_data,geometry=geometry,crs={'init': 'EPSG:4326'})\n",
    "geoComplaintLatLon.shape"
   ]
  },
  {
   "cell_type": "code",
   "execution_count": null,
   "id": "f418f553",
   "metadata": {},
   "outputs": [],
   "source": [
    "# remove rows with location outside NYC\n",
    "\n",
    "# spatial join \n",
    "ComplaintDatawithin = gpd.sjoin(geoComplaintLatLon,zips.to_crs({'init': 'epsg:4326'}), op='within', how='inner')\n",
    "ComplaintDatawithin.shape"
   ]
  },
  {
   "cell_type": "code",
   "execution_count": null,
   "id": "4427787c",
   "metadata": {},
   "outputs": [],
   "source": [
    "# Drop duplicates \n",
    "ComplaintDatawithin = ComplaintDatawithin.drop_duplicates(subset='CMPLNT_NUM')\n",
    "ComplaintDatawithin.shape"
   ]
  },
  {
   "cell_type": "code",
   "execution_count": null,
   "id": "3aab39ac",
   "metadata": {},
   "outputs": [],
   "source": [
    "ComplaintDatawithin.head()"
   ]
  },
  {
   "cell_type": "code",
   "execution_count": null,
   "id": "ed7bba6e",
   "metadata": {},
   "outputs": [],
   "source": [
    "# Keep the selected interested columns only \n",
    "selectedCol = ['CMPLNT_NUM','BORO_NM','CMPLNT_FR_DT','CMPLNT_FR_TM','LAW_CAT_CD','OFNS_DESC','PARKS_NM','Latitude', 'Longitude']\n",
    "Complaint_data = ComplaintDatawithin[selectedCol]\n",
    "Complaint_data.shape"
   ]
  },
  {
   "cell_type": "code",
   "execution_count": null,
   "id": "bdc69043",
   "metadata": {},
   "outputs": [],
   "source": [
    "Complaint_data.reset_index(inplace = True, drop = True)"
   ]
  },
  {
   "cell_type": "code",
   "execution_count": null,
   "id": "ef2912c5",
   "metadata": {},
   "outputs": [],
   "source": [
    "Complaint_data.head()"
   ]
  },
  {
   "cell_type": "code",
   "execution_count": null,
   "id": "a7d37c4e",
   "metadata": {},
   "outputs": [],
   "source": [
    "# Save the cleaned data\n",
    "Complaint_data.to_csv(\"Complaint_data_cleaned.csv\")"
   ]
  },
  {
   "cell_type": "code",
   "execution_count": null,
   "id": "be0fec6e",
   "metadata": {},
   "outputs": [],
   "source": []
  },
  {
   "cell_type": "code",
   "execution_count": null,
   "id": "d6561881",
   "metadata": {},
   "outputs": [],
   "source": []
  },
  {
   "cell_type": "code",
   "execution_count": null,
   "id": "fdd54c61",
   "metadata": {},
   "outputs": [],
   "source": []
  },
  {
   "cell_type": "code",
   "execution_count": null,
   "id": "0eb9083d",
   "metadata": {},
   "outputs": [],
   "source": []
  }
 ],
 "metadata": {
  "kernelspec": {
   "display_name": "Python 3 (ipykernel)",
   "language": "python",
   "name": "python3"
  },
  "language_info": {
   "codemirror_mode": {
    "name": "ipython",
    "version": 3
   },
   "file_extension": ".py",
   "mimetype": "text/x-python",
   "name": "python",
   "nbconvert_exporter": "python",
   "pygments_lexer": "ipython3",
   "version": "3.9.12"
  }
 },
 "nbformat": 4,
 "nbformat_minor": 5
}
