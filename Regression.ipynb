{
 "cells": [
  {
   "cell_type": "markdown",
   "id": "9e515499",
   "metadata": {},
   "source": [
    "## Read Data"
   ]
  },
  {
   "cell_type": "code",
   "execution_count": 2,
   "id": "b82a2394",
   "metadata": {},
   "outputs": [],
   "source": [
    "import pandas as pd\n",
    "import numpy as np\n",
    "from datetime import datetime\n",
    "from dateutil import parser\n",
    "import seaborn as sns\n",
    "from scipy.stats import norm\n",
    "from scipy.stats import genextreme as gev\n",
    "from scipy.stats import pareto \n",
    "from scipy import stats\n",
    "import geopandas as gpd\n",
    "from shapely.geometry import Point\n",
    "from matplotlib import pyplot as plt\n",
    "%matplotlib inline\n",
    "import warnings\n",
    "warnings.filterwarnings('ignore')"
   ]
  },
  {
   "cell_type": "code",
   "execution_count": 3,
   "id": "824f5724",
   "metadata": {},
   "outputs": [],
   "source": [
    "from sklearn.linear_model import LinearRegression\n",
    "import statsmodels.formula.api as smf\n",
    "from sklearn.preprocessing import StandardScaler\n",
    "from sklearn.cluster import KMeans\n",
    "import math\n",
    "import os \n",
    "import seaborn as sns #for styling the plots\n",
    "import warnings\n",
    "import urllib.request\n",
    "from sklearn.mixture import GaussianMixture \n",
    "from sklearn.model_selection import train_test_split\n",
    "from sklearn import linear_model\n",
    "%matplotlib inline"
   ]
  },
  {
   "cell_type": "code",
   "execution_count": 24,
   "id": "ae8c45fe",
   "metadata": {},
   "outputs": [],
   "source": [
    "Complaint_data = pd.read_csv('Complaint_data_cleaned.csv',)\n",
    "Unemployment_data = pd.read_csv('Unemployment_data_cleaned.csv')\n",
    "zips = gpd.read_file('ZIP_CODE_040114/ZIP_CODE_040114.shp')\n",
    "Combined_data = pd.read_csv('Combined_data.csv')"
   ]
  },
  {
   "cell_type": "code",
   "execution_count": 25,
   "id": "4b54f373",
   "metadata": {},
   "outputs": [
    {
     "data": {
      "text/html": [
       "<div>\n",
       "<style scoped>\n",
       "    .dataframe tbody tr th:only-of-type {\n",
       "        vertical-align: middle;\n",
       "    }\n",
       "\n",
       "    .dataframe tbody tr th {\n",
       "        vertical-align: top;\n",
       "    }\n",
       "\n",
       "    .dataframe thead th {\n",
       "        text-align: right;\n",
       "    }\n",
       "</style>\n",
       "<table border=\"1\" class=\"dataframe\">\n",
       "  <thead>\n",
       "    <tr style=\"text-align: right;\">\n",
       "      <th></th>\n",
       "      <th>YearMonth</th>\n",
       "      <th>BORO_NM</th>\n",
       "      <th>N_crimes</th>\n",
       "      <th>Labor Force</th>\n",
       "      <th>Employed</th>\n",
       "      <th>Unemployed</th>\n",
       "      <th>Unemployment Rate</th>\n",
       "    </tr>\n",
       "  </thead>\n",
       "  <tbody>\n",
       "    <tr>\n",
       "      <th>0</th>\n",
       "      <td>2013-01</td>\n",
       "      <td>BRONX</td>\n",
       "      <td>1631</td>\n",
       "      <td>600600</td>\n",
       "      <td>522600</td>\n",
       "      <td>78000</td>\n",
       "      <td>13.0</td>\n",
       "    </tr>\n",
       "    <tr>\n",
       "      <th>1</th>\n",
       "      <td>2013-01</td>\n",
       "      <td>BROOKLYN</td>\n",
       "      <td>2805</td>\n",
       "      <td>1201200</td>\n",
       "      <td>1077200</td>\n",
       "      <td>123900</td>\n",
       "      <td>10.3</td>\n",
       "    </tr>\n",
       "    <tr>\n",
       "      <th>2</th>\n",
       "      <td>2013-01</td>\n",
       "      <td>MANHATTAN</td>\n",
       "      <td>2249</td>\n",
       "      <td>897000</td>\n",
       "      <td>820300</td>\n",
       "      <td>76600</td>\n",
       "      <td>8.5</td>\n",
       "    </tr>\n",
       "    <tr>\n",
       "      <th>3</th>\n",
       "      <td>2013-01</td>\n",
       "      <td>QUEENS</td>\n",
       "      <td>1976</td>\n",
       "      <td>1133900</td>\n",
       "      <td>1034500</td>\n",
       "      <td>99400</td>\n",
       "      <td>8.8</td>\n",
       "    </tr>\n",
       "    <tr>\n",
       "      <th>4</th>\n",
       "      <td>2013-01</td>\n",
       "      <td>STATEN ISLAND</td>\n",
       "      <td>243</td>\n",
       "      <td>219700</td>\n",
       "      <td>197800</td>\n",
       "      <td>21900</td>\n",
       "      <td>10.0</td>\n",
       "    </tr>\n",
       "  </tbody>\n",
       "</table>\n",
       "</div>"
      ],
      "text/plain": [
       "  YearMonth        BORO_NM  N_crimes  Labor Force  Employed  Unemployed  \\\n",
       "0   2013-01          BRONX      1631       600600    522600       78000   \n",
       "1   2013-01       BROOKLYN      2805      1201200   1077200      123900   \n",
       "2   2013-01      MANHATTAN      2249       897000    820300       76600   \n",
       "3   2013-01         QUEENS      1976      1133900   1034500       99400   \n",
       "4   2013-01  STATEN ISLAND       243       219700    197800       21900   \n",
       "\n",
       "   Unemployment Rate  \n",
       "0               13.0  \n",
       "1               10.3  \n",
       "2                8.5  \n",
       "3                8.8  \n",
       "4               10.0  "
      ]
     },
     "execution_count": 25,
     "metadata": {},
     "output_type": "execute_result"
    }
   ],
   "source": [
    "Combined_data.head()"
   ]
  },
  {
   "cell_type": "markdown",
   "id": "1f399599",
   "metadata": {},
   "source": [
    "### Dummy variables representing categorical variables"
   ]
  },
  {
   "cell_type": "code",
   "execution_count": 26,
   "id": "2ff36915",
   "metadata": {},
   "outputs": [
    {
     "data": {
      "text/html": [
       "<div>\n",
       "<style scoped>\n",
       "    .dataframe tbody tr th:only-of-type {\n",
       "        vertical-align: middle;\n",
       "    }\n",
       "\n",
       "    .dataframe tbody tr th {\n",
       "        vertical-align: top;\n",
       "    }\n",
       "\n",
       "    .dataframe thead th {\n",
       "        text-align: right;\n",
       "    }\n",
       "</style>\n",
       "<table border=\"1\" class=\"dataframe\">\n",
       "  <thead>\n",
       "    <tr style=\"text-align: right;\">\n",
       "      <th></th>\n",
       "      <th>YearMonth</th>\n",
       "      <th>BORO_NM</th>\n",
       "      <th>N_crimes</th>\n",
       "      <th>Labor Force</th>\n",
       "      <th>Employed</th>\n",
       "      <th>Unemployed</th>\n",
       "      <th>Unemployment Rate</th>\n",
       "      <th>BROOKLYN</th>\n",
       "      <th>MANHATTAN</th>\n",
       "      <th>QUEENS</th>\n",
       "      <th>STATEN ISLAND</th>\n",
       "    </tr>\n",
       "  </thead>\n",
       "  <tbody>\n",
       "    <tr>\n",
       "      <th>0</th>\n",
       "      <td>2013-01</td>\n",
       "      <td>BRONX</td>\n",
       "      <td>1631</td>\n",
       "      <td>600600</td>\n",
       "      <td>522600</td>\n",
       "      <td>78000</td>\n",
       "      <td>13.0</td>\n",
       "      <td>0</td>\n",
       "      <td>0</td>\n",
       "      <td>0</td>\n",
       "      <td>0</td>\n",
       "    </tr>\n",
       "    <tr>\n",
       "      <th>1</th>\n",
       "      <td>2013-01</td>\n",
       "      <td>BROOKLYN</td>\n",
       "      <td>2805</td>\n",
       "      <td>1201200</td>\n",
       "      <td>1077200</td>\n",
       "      <td>123900</td>\n",
       "      <td>10.3</td>\n",
       "      <td>1</td>\n",
       "      <td>0</td>\n",
       "      <td>0</td>\n",
       "      <td>0</td>\n",
       "    </tr>\n",
       "    <tr>\n",
       "      <th>2</th>\n",
       "      <td>2013-01</td>\n",
       "      <td>MANHATTAN</td>\n",
       "      <td>2249</td>\n",
       "      <td>897000</td>\n",
       "      <td>820300</td>\n",
       "      <td>76600</td>\n",
       "      <td>8.5</td>\n",
       "      <td>0</td>\n",
       "      <td>1</td>\n",
       "      <td>0</td>\n",
       "      <td>0</td>\n",
       "    </tr>\n",
       "    <tr>\n",
       "      <th>3</th>\n",
       "      <td>2013-01</td>\n",
       "      <td>QUEENS</td>\n",
       "      <td>1976</td>\n",
       "      <td>1133900</td>\n",
       "      <td>1034500</td>\n",
       "      <td>99400</td>\n",
       "      <td>8.8</td>\n",
       "      <td>0</td>\n",
       "      <td>0</td>\n",
       "      <td>1</td>\n",
       "      <td>0</td>\n",
       "    </tr>\n",
       "    <tr>\n",
       "      <th>4</th>\n",
       "      <td>2013-01</td>\n",
       "      <td>STATEN ISLAND</td>\n",
       "      <td>243</td>\n",
       "      <td>219700</td>\n",
       "      <td>197800</td>\n",
       "      <td>21900</td>\n",
       "      <td>10.0</td>\n",
       "      <td>0</td>\n",
       "      <td>0</td>\n",
       "      <td>0</td>\n",
       "      <td>1</td>\n",
       "    </tr>\n",
       "  </tbody>\n",
       "</table>\n",
       "</div>"
      ],
      "text/plain": [
       "  YearMonth        BORO_NM  N_crimes  Labor Force  Employed  Unemployed  \\\n",
       "0   2013-01          BRONX      1631       600600    522600       78000   \n",
       "1   2013-01       BROOKLYN      2805      1201200   1077200      123900   \n",
       "2   2013-01      MANHATTAN      2249       897000    820300       76600   \n",
       "3   2013-01         QUEENS      1976      1133900   1034500       99400   \n",
       "4   2013-01  STATEN ISLAND       243       219700    197800       21900   \n",
       "\n",
       "   Unemployment Rate  BROOKLYN  MANHATTAN  QUEENS  STATEN ISLAND  \n",
       "0               13.0         0          0       0              0  \n",
       "1               10.3         1          0       0              0  \n",
       "2                8.5         0          1       0              0  \n",
       "3                8.8         0          0       1              0  \n",
       "4               10.0         0          0       0              1  "
      ]
     },
     "execution_count": 26,
     "metadata": {},
     "output_type": "execute_result"
    }
   ],
   "source": [
    "# Create dummy variables for the 'BORO_NM' column\n",
    "boro_dummies = pd.get_dummies(Combined_data['BORO_NM'], drop_first=True)\n",
    "\n",
    "# Concatenate the dummy variables with the original DataFrame\n",
    "Combined_data_dummies = pd.concat([Combined_data, boro_dummies], axis=1)\n",
    "Combined_data_dummies.head()\n"
   ]
  },
  {
   "cell_type": "markdown",
   "id": "5c953075",
   "metadata": {},
   "source": [
    "Explanation:\n",
    "- Dummy variables are a standard and statistically valid way to include categorical variables, such as borough names, as part of the regressors. This allows the model to estimate the impact of each borough, on the dependent variable (N_crimes).\n",
    "\n",
    "If you have a categorical variable with n levels (the five boroughs of NYC), you would create\n",
    "n−1 dummy variables. This is because including a dummy variable for every level would introduce multicollinearity, as the sum of all dummy variables would add up to 1, which is perfect multicollinearity (one variable can be perfectly predicted from the others).\n",
    "\n",
    "By creating n−1 dummy variables, avoid this issue. The level that does not have a dummy variable (the one \"left out\") serves as the reference category. The coefficients for the dummy variables then represent the effect of each level relative to this reference category."
   ]
  },
  {
   "cell_type": "markdown",
   "id": "9ed71ca5",
   "metadata": {},
   "source": [
    "# Regression Analysis"
   ]
  },
  {
   "cell_type": "markdown",
   "id": "74a776cf",
   "metadata": {},
   "source": [
    "### Correlation analysis"
   ]
  },
  {
   "cell_type": "code",
   "execution_count": 28,
   "id": "c724f9e0",
   "metadata": {},
   "outputs": [
    {
     "data": {
      "text/html": [
       "<div>\n",
       "<style scoped>\n",
       "    .dataframe tbody tr th:only-of-type {\n",
       "        vertical-align: middle;\n",
       "    }\n",
       "\n",
       "    .dataframe tbody tr th {\n",
       "        vertical-align: top;\n",
       "    }\n",
       "\n",
       "    .dataframe thead th {\n",
       "        text-align: right;\n",
       "    }\n",
       "</style>\n",
       "<table border=\"1\" class=\"dataframe\">\n",
       "  <thead>\n",
       "    <tr style=\"text-align: right;\">\n",
       "      <th></th>\n",
       "      <th>N_crimes</th>\n",
       "      <th>Labor Force</th>\n",
       "      <th>Employed</th>\n",
       "      <th>Unemployed</th>\n",
       "      <th>Unemployment Rate</th>\n",
       "      <th>BROOKLYN</th>\n",
       "      <th>MANHATTAN</th>\n",
       "      <th>QUEENS</th>\n",
       "      <th>STATEN ISLAND</th>\n",
       "    </tr>\n",
       "  </thead>\n",
       "  <tbody>\n",
       "    <tr>\n",
       "      <th>N_crimes</th>\n",
       "      <td>1.000000</td>\n",
       "      <td>0.807848</td>\n",
       "      <td>0.798284</td>\n",
       "      <td>0.525745</td>\n",
       "      <td>-0.003033</td>\n",
       "      <td>0.480415</td>\n",
       "      <td>0.323098</td>\n",
       "      <td>0.036129</td>\n",
       "      <td>-0.877221</td>\n",
       "    </tr>\n",
       "    <tr>\n",
       "      <th>Labor Force</th>\n",
       "      <td>0.807848</td>\n",
       "      <td>1.000000</td>\n",
       "      <td>0.996297</td>\n",
       "      <td>0.573315</td>\n",
       "      <td>-0.115735</td>\n",
       "      <td>0.531183</td>\n",
       "      <td>0.125527</td>\n",
       "      <td>0.447866</td>\n",
       "      <td>-0.813481</td>\n",
       "    </tr>\n",
       "    <tr>\n",
       "      <th>Employed</th>\n",
       "      <td>0.798284</td>\n",
       "      <td>0.996297</td>\n",
       "      <td>1.000000</td>\n",
       "      <td>0.500746</td>\n",
       "      <td>-0.194355</td>\n",
       "      <td>0.519771</td>\n",
       "      <td>0.138725</td>\n",
       "      <td>0.450478</td>\n",
       "      <td>-0.801262</td>\n",
       "    </tr>\n",
       "    <tr>\n",
       "      <th>Unemployed</th>\n",
       "      <td>0.525745</td>\n",
       "      <td>0.573315</td>\n",
       "      <td>0.500746</td>\n",
       "      <td>1.000000</td>\n",
       "      <td>0.686925</td>\n",
       "      <td>0.394488</td>\n",
       "      <td>-0.058308</td>\n",
       "      <td>0.216200</td>\n",
       "      <td>-0.554088</td>\n",
       "    </tr>\n",
       "    <tr>\n",
       "      <th>Unemployment Rate</th>\n",
       "      <td>-0.003033</td>\n",
       "      <td>-0.115735</td>\n",
       "      <td>-0.194355</td>\n",
       "      <td>0.686925</td>\n",
       "      <td>1.000000</td>\n",
       "      <td>0.014385</td>\n",
       "      <td>-0.183081</td>\n",
       "      <td>-0.096577</td>\n",
       "      <td>-0.055493</td>\n",
       "    </tr>\n",
       "    <tr>\n",
       "      <th>BROOKLYN</th>\n",
       "      <td>0.480415</td>\n",
       "      <td>0.531183</td>\n",
       "      <td>0.519771</td>\n",
       "      <td>0.394488</td>\n",
       "      <td>0.014385</td>\n",
       "      <td>1.000000</td>\n",
       "      <td>-0.250000</td>\n",
       "      <td>-0.250000</td>\n",
       "      <td>-0.250000</td>\n",
       "    </tr>\n",
       "    <tr>\n",
       "      <th>MANHATTAN</th>\n",
       "      <td>0.323098</td>\n",
       "      <td>0.125527</td>\n",
       "      <td>0.138725</td>\n",
       "      <td>-0.058308</td>\n",
       "      <td>-0.183081</td>\n",
       "      <td>-0.250000</td>\n",
       "      <td>1.000000</td>\n",
       "      <td>-0.250000</td>\n",
       "      <td>-0.250000</td>\n",
       "    </tr>\n",
       "    <tr>\n",
       "      <th>QUEENS</th>\n",
       "      <td>0.036129</td>\n",
       "      <td>0.447866</td>\n",
       "      <td>0.450478</td>\n",
       "      <td>0.216200</td>\n",
       "      <td>-0.096577</td>\n",
       "      <td>-0.250000</td>\n",
       "      <td>-0.250000</td>\n",
       "      <td>1.000000</td>\n",
       "      <td>-0.250000</td>\n",
       "    </tr>\n",
       "    <tr>\n",
       "      <th>STATEN ISLAND</th>\n",
       "      <td>-0.877221</td>\n",
       "      <td>-0.813481</td>\n",
       "      <td>-0.801262</td>\n",
       "      <td>-0.554088</td>\n",
       "      <td>-0.055493</td>\n",
       "      <td>-0.250000</td>\n",
       "      <td>-0.250000</td>\n",
       "      <td>-0.250000</td>\n",
       "      <td>1.000000</td>\n",
       "    </tr>\n",
       "  </tbody>\n",
       "</table>\n",
       "</div>"
      ],
      "text/plain": [
       "                   N_crimes  Labor Force  Employed  Unemployed  \\\n",
       "N_crimes           1.000000     0.807848  0.798284    0.525745   \n",
       "Labor Force        0.807848     1.000000  0.996297    0.573315   \n",
       "Employed           0.798284     0.996297  1.000000    0.500746   \n",
       "Unemployed         0.525745     0.573315  0.500746    1.000000   \n",
       "Unemployment Rate -0.003033    -0.115735 -0.194355    0.686925   \n",
       "BROOKLYN           0.480415     0.531183  0.519771    0.394488   \n",
       "MANHATTAN          0.323098     0.125527  0.138725   -0.058308   \n",
       "QUEENS             0.036129     0.447866  0.450478    0.216200   \n",
       "STATEN ISLAND     -0.877221    -0.813481 -0.801262   -0.554088   \n",
       "\n",
       "                   Unemployment Rate  BROOKLYN  MANHATTAN    QUEENS  \\\n",
       "N_crimes                   -0.003033  0.480415   0.323098  0.036129   \n",
       "Labor Force                -0.115735  0.531183   0.125527  0.447866   \n",
       "Employed                   -0.194355  0.519771   0.138725  0.450478   \n",
       "Unemployed                  0.686925  0.394488  -0.058308  0.216200   \n",
       "Unemployment Rate           1.000000  0.014385  -0.183081 -0.096577   \n",
       "BROOKLYN                    0.014385  1.000000  -0.250000 -0.250000   \n",
       "MANHATTAN                  -0.183081 -0.250000   1.000000 -0.250000   \n",
       "QUEENS                     -0.096577 -0.250000  -0.250000  1.000000   \n",
       "STATEN ISLAND              -0.055493 -0.250000  -0.250000 -0.250000   \n",
       "\n",
       "                   STATEN ISLAND  \n",
       "N_crimes               -0.877221  \n",
       "Labor Force            -0.813481  \n",
       "Employed               -0.801262  \n",
       "Unemployed             -0.554088  \n",
       "Unemployment Rate      -0.055493  \n",
       "BROOKLYN               -0.250000  \n",
       "MANHATTAN              -0.250000  \n",
       "QUEENS                 -0.250000  \n",
       "STATEN ISLAND           1.000000  "
      ]
     },
     "execution_count": 28,
     "metadata": {},
     "output_type": "execute_result"
    }
   ],
   "source": [
    "correlation_matrix = Combined_data_dummies.corr()\n",
    "correlation_matrix"
   ]
  },
  {
   "cell_type": "markdown",
   "id": "f5553865",
   "metadata": {},
   "source": [
    "- N_crimes and Labor Force: strong positive correlation (0.807848)\n",
    "- N_crimes and Employed: strong positive correlation (0.798284) \n",
    "- N_crimes and Unemployed: moderate positive correlation (0.525745)\n",
    "- N_crimes and Unemployment Rate:  weak negative correlation (-0.003033)"
   ]
  },
  {
   "cell_type": "markdown",
   "id": "fba570be",
   "metadata": {},
   "source": [
    "## Linear Regression\n",
    "\n",
    "- uni-variate linear regression on the feature showing the strongest correlation"
   ]
  },
  {
   "cell_type": "markdown",
   "id": "a288829c",
   "metadata": {},
   "source": [
    "### Uni-variate linear regression"
   ]
  },
  {
   "cell_type": "markdown",
   "id": "8deaf08c",
   "metadata": {},
   "source": [
    "#### 1.With intercept"
   ]
  },
  {
   "cell_type": "code",
   "execution_count": 29,
   "id": "6833c49f",
   "metadata": {},
   "outputs": [],
   "source": [
    "# Rename \n",
    "Combined_data.rename(columns={'Labor Force':'Labor_Force','Unemployment Rate':'Unemployment_Rate'},inplace = True)"
   ]
  },
  {
   "cell_type": "code",
   "execution_count": 30,
   "id": "1740dcf5",
   "metadata": {},
   "outputs": [],
   "source": [
    "regressors = ['Labor_Force','Employed','Unemployed','Unemployment_Rate']"
   ]
  },
  {
   "cell_type": "code",
   "execution_count": 31,
   "id": "5bb93ea0",
   "metadata": {},
   "outputs": [],
   "source": [
    "# Create dataframe\n",
    "results_df = pd.DataFrame(columns = ['slope','intercept','R2'], index= regressors)"
   ]
  },
  {
   "cell_type": "code",
   "execution_count": 32,
   "id": "cfd0c48d",
   "metadata": {},
   "outputs": [
    {
     "data": {
      "text/html": [
       "<div>\n",
       "<style scoped>\n",
       "    .dataframe tbody tr th:only-of-type {\n",
       "        vertical-align: middle;\n",
       "    }\n",
       "\n",
       "    .dataframe tbody tr th {\n",
       "        vertical-align: top;\n",
       "    }\n",
       "\n",
       "    .dataframe thead th {\n",
       "        text-align: right;\n",
       "    }\n",
       "</style>\n",
       "<table border=\"1\" class=\"dataframe\">\n",
       "  <thead>\n",
       "    <tr style=\"text-align: right;\">\n",
       "      <th></th>\n",
       "      <th>slope</th>\n",
       "      <th>intercept</th>\n",
       "      <th>R2</th>\n",
       "    </tr>\n",
       "  </thead>\n",
       "  <tbody>\n",
       "    <tr>\n",
       "      <th>Labor_Force</th>\n",
       "      <td>0.001832</td>\n",
       "      <td>204.643529</td>\n",
       "      <td>0.652619</td>\n",
       "    </tr>\n",
       "    <tr>\n",
       "      <th>Employed</th>\n",
       "      <td>0.001913</td>\n",
       "      <td>243.647641</td>\n",
       "      <td>0.637258</td>\n",
       "    </tr>\n",
       "    <tr>\n",
       "      <th>Unemployed</th>\n",
       "      <td>0.012004</td>\n",
       "      <td>1059.137625</td>\n",
       "      <td>0.276408</td>\n",
       "    </tr>\n",
       "    <tr>\n",
       "      <th>Unemployment_Rate</th>\n",
       "      <td>-0.738081</td>\n",
       "      <td>1727.807455</td>\n",
       "      <td>0.000009</td>\n",
       "    </tr>\n",
       "  </tbody>\n",
       "</table>\n",
       "</div>"
      ],
      "text/plain": [
       "                      slope    intercept        R2\n",
       "Labor_Force        0.001832   204.643529  0.652619\n",
       "Employed           0.001913   243.647641  0.637258\n",
       "Unemployed         0.012004  1059.137625  0.276408\n",
       "Unemployment_Rate -0.738081  1727.807455  0.000009"
      ]
     },
     "execution_count": 32,
     "metadata": {},
     "output_type": "execute_result"
    },
    {
     "data": {
      "image/png": "[encoded data removed]",
      "text/plain": [
       "<Figure size 432x288 with 1 Axes>"
      ]
     },
     "metadata": {
      "needs_background": "light"
     },
     "output_type": "display_data"
    },
    {
     "data": {
      "image/png": "[encoded data removed]",
      "text/plain": [
       "<Figure size 432x288 with 1 Axes>"
      ]
     },
     "metadata": {
      "needs_background": "light"
     },
     "output_type": "display_data"
    },
    {
     "data": {
      "image/png": "[encoded data removed]",
      "text/plain": [
       "<Figure size 432x288 with 1 Axes>"
      ]
     },
     "metadata": {
      "needs_background": "light"
     },
     "output_type": "display_data"
    },
    {
     "data": {
      "image/png": "[encoded data removed]",
      "text/plain": [
       "<Figure size 432x288 with 1 Axes>"
      ]
     },
     "metadata": {
      "needs_background": "light"
     },
     "output_type": "display_data"
    }
   ],
   "source": [
    "for col in regressors:\n",
    "    # with intercept\n",
    "    lm = smf.ols(formula= f'N_crimes~{col}', data = Combined_data).fit()\n",
    "    \n",
    "    # storing the results\n",
    "    results_df.loc[col] = [lm.params[1],lm.params[0],lm.rsquared]\n",
    "    \n",
    "    # plot\n",
    "    fig, ax = plt.subplots() #get axis to plot on\n",
    "    Combined_data.plot(ax=ax,kind='scatter',x=col, y='N_crimes') #show the data\n",
    "    ax.plot(Combined_data[col],lm.predict(),'r-',label='Regression Line'); #show the regression line\n",
    "    plt.title(f'Regression Line with intercept for {col}')\n",
    "    plt.legend()\n",
    "results_df"
   ]
  },
  {
   "cell_type": "markdown",
   "id": "e5cb7f5f",
   "metadata": {},
   "source": [
    "#### 2. Without intercept"
   ]
  },
  {
   "cell_type": "code",
   "execution_count": 33,
   "id": "18a6fb5d",
   "metadata": {},
   "outputs": [],
   "source": [
    "# Create dataframe\n",
    "results_df_without = pd.DataFrame(columns = ['slope','R2'], index= regressors)"
   ]
  },
  {
   "cell_type": "code",
   "execution_count": 34,
   "id": "bc601d16",
   "metadata": {},
   "outputs": [
    {
     "data": {
      "text/html": [
       "<div>\n",
       "<style scoped>\n",
       "    .dataframe tbody tr th:only-of-type {\n",
       "        vertical-align: middle;\n",
       "    }\n",
       "\n",
       "    .dataframe tbody tr th {\n",
       "        vertical-align: top;\n",
       "    }\n",
       "\n",
       "    .dataframe thead th {\n",
       "        text-align: right;\n",
       "    }\n",
       "</style>\n",
       "<table border=\"1\" class=\"dataframe\">\n",
       "  <thead>\n",
       "    <tr style=\"text-align: right;\">\n",
       "      <th></th>\n",
       "      <th>slope</th>\n",
       "      <th>R2</th>\n",
       "    </tr>\n",
       "  </thead>\n",
       "  <tbody>\n",
       "    <tr>\n",
       "      <th>Labor_Force</th>\n",
       "      <td>0.002038</td>\n",
       "      <td>0.931157</td>\n",
       "    </tr>\n",
       "    <tr>\n",
       "      <th>Employed</th>\n",
       "      <td>0.002174</td>\n",
       "      <td>0.927339</td>\n",
       "    </tr>\n",
       "    <tr>\n",
       "      <th>Unemployed</th>\n",
       "      <td>0.025265</td>\n",
       "      <td>0.766649</td>\n",
       "    </tr>\n",
       "    <tr>\n",
       "      <th>Unemployment_Rate</th>\n",
       "      <td>200.22427</td>\n",
       "      <td>0.642442</td>\n",
       "    </tr>\n",
       "  </tbody>\n",
       "</table>\n",
       "</div>"
      ],
      "text/plain": [
       "                       slope        R2\n",
       "Labor_Force         0.002038  0.931157\n",
       "Employed            0.002174  0.927339\n",
       "Unemployed          0.025265  0.766649\n",
       "Unemployment_Rate  200.22427  0.642442"
      ]
     },
     "execution_count": 34,
     "metadata": {},
     "output_type": "execute_result"
    },
    {
     "data": {
      "image/png": "[encoded data removed]",
      "text/plain": [
       "<Figure size 432x288 with 1 Axes>"
      ]
     },
     "metadata": {
      "needs_background": "light"
     },
     "output_type": "display_data"
    },
    {
     "data": {
      "image/png": "[encoded data removed]",
      "text/plain": [
       "<Figure size 432x288 with 1 Axes>"
      ]
     },
     "metadata": {
      "needs_background": "light"
     },
     "output_type": "display_data"
    },
    {
     "data": {
      "image/png": "[encoded data removed]",
      "text/plain": [
       "<Figure size 432x288 with 1 Axes>"
      ]
     },
     "metadata": {
      "needs_background": "light"
     },
     "output_type": "display_data"
    },
    {
     "data": {
      "image/png": "[encoded data removed]",
      "text/plain": [
       "<Figure size 432x288 with 1 Axes>"
      ]
     },
     "metadata": {
      "needs_background": "light"
     },
     "output_type": "display_data"
    }
   ],
   "source": [
    "for col in regressors:\n",
    "    # with intercept\n",
    "    lm = smf.ols(formula= f'N_crimes~{col}-1', data = Combined_data).fit()\n",
    "    \n",
    "    # storing the results\n",
    "    results_df_without.loc[col] = [lm.params[0],lm.rsquared]\n",
    "    \n",
    "    # plot\n",
    "    fig, ax = plt.subplots() #get axis to plot on\n",
    "    Combined_data.plot(ax=ax,kind='scatter',x=col, y='N_crimes') #show the data\n",
    "    ax.plot(Combined_data[col],lm.predict(),'r-',label='Regression Line'); #show the regression line\n",
    "    plt.title(f'Regression Line without intercept for {col}')\n",
    "    plt.legend()\n",
    "results_df_without"
   ]
  },
  {
   "cell_type": "code",
   "execution_count": 35,
   "id": "f2cdf803",
   "metadata": {},
   "outputs": [
    {
     "data": {
      "text/plain": [
       "(                      slope    intercept        R2\n",
       " Labor_Force        0.001832   204.643529  0.652619\n",
       " Employed           0.001913   243.647641  0.637258\n",
       " Unemployed         0.012004  1059.137625  0.276408\n",
       " Unemployment_Rate -0.738081  1727.807455  0.000009,\n",
       "                        slope        R2\n",
       " Labor_Force         0.002038  0.931157\n",
       " Employed            0.002174  0.927339\n",
       " Unemployed          0.025265  0.766649\n",
       " Unemployment_Rate  200.22427  0.642442)"
      ]
     },
     "execution_count": 35,
     "metadata": {},
     "output_type": "execute_result"
    }
   ],
   "source": [
    "results_df, results_df_without"
   ]
  },
  {
   "cell_type": "markdown",
   "id": "84545d80",
   "metadata": {},
   "source": [
    "Interpretations:\n",
    "- The models without an intercept tend to have higher R-squared values, which suggests better fit to the data. However, the absence of an intercept can lead to misleading interpretations.\n",
    "\n",
    "- The Unemployed and Unemployment_Rate variables show the most significant change when an intercept is included, indicating that their relationship with N_crime might not be linear or might be affected by other factors not included in the model.\n",
    "\n",
    "- The negative slope for Unemployment_Rate in the model with an intercept may suggest that higher unemployment rates could be associated with lower crime rates, but the near-zero R-squared indicates that the model is not a good fit, which could mean that the relationship is not linear or that Unemployment_Rate is not a good predictor for N_crime in this context.\n",
    "\n",
    "- The high slope for Unemployment_Rate without the intercept suggests that without accounting for the baseline crime level (intercept), the model is attributing a large effect to the unemployment rate."
   ]
  },
  {
   "cell_type": "markdown",
   "id": "5c1e21b9",
   "metadata": {},
   "source": [
    "##### With or Without Intercept?\n",
    "- Intercept-included Model: \n",
    "Typically, you would include an intercept in your model unless you have a strong theoretical reason to believe that the relationship between the independent and dependent variables goes through the origin (i.e., when the independent variable is zero, the dependent variable is also expected to be zero). The intercept accounts for the baseline level of the dependent variable when all independent variables are at zero.\n",
    "\n",
    "- Intercept-excluded Model: \n",
    "You would exclude an intercept when you can confidently assert that the absence of the independent variable(s) would result in the absence of the dependent variable. This is less common in observational data, like economic indicators, where the relationship is not necessarily expected to pass through the origin.\n",
    "\n",
    "Dealing with complex economic data (crime rates, unemployment rates, etc.), it is generally more appropriate to include an intercept. Theoretically, it does not make sense to assert that a 0% unemployment rate would lead to 0 crimes, as crimes can occur for reasons unrelated to employment status.\n",
    "\n",
    "Moreover, the condition number in both models is quite high, indicating potential multicollinearity. This suggests that the independent variables are highly correlated with each other, which can distort the regression coefficients and their significance levels.\n",
    "\n",
    "In summary, unless you have a specific theoretical justification for forcing the line through the origin, you should generally include an intercept in your model. Additionally, you should address the multicollinearity in your model, perhaps by excluding some of the highly correlated independent variables or by using regularization techniques."
   ]
  },
  {
   "cell_type": "markdown",
   "id": "a20ae7c0",
   "metadata": {},
   "source": [
    "### Multi-variate regression"
   ]
  },
  {
   "cell_type": "code",
   "execution_count": 36,
   "id": "e75c4e05",
   "metadata": {},
   "outputs": [
    {
     "name": "stdout",
     "output_type": "stream",
     "text": [
      "                            OLS Regression Results                            \n",
      "==============================================================================\n",
      "Dep. Variable:               N_crimes   R-squared:                       0.658\n",
      "Model:                            OLS   Adj. R-squared:                  0.657\n",
      "Method:                 Least Squares   F-statistic:                     575.5\n",
      "Date:                Thu, 07 Dec 2023   Prob (F-statistic):          5.39e-140\n",
      "Time:                        22:50:22   Log-Likelihood:                -4570.3\n",
      "No. Observations:                 600   AIC:                             9147.\n",
      "Df Residuals:                     597   BIC:                             9160.\n",
      "Df Model:                           2                                         \n",
      "Covariance Type:            nonrobust                                         \n",
      "===============================================================================\n",
      "                  coef    std err          t      P>|t|      [0.025      0.975]\n",
      "-------------------------------------------------------------------------------\n",
      "Intercept     187.4070     49.544      3.783      0.000      90.105     284.709\n",
      "Labor_Force     0.0038      0.001      6.088      0.000       0.003       0.005\n",
      "Employed       -0.0021      0.001     -3.196      0.001      -0.003      -0.001\n",
      "==============================================================================\n",
      "Omnibus:                       19.041   Durbin-Watson:                   1.746\n",
      "Prob(Omnibus):                  0.000   Jarque-Bera (JB):               10.845\n",
      "Skew:                           0.152   Prob(JB):                      0.00442\n",
      "Kurtosis:                       2.415   Cond. No.                     3.06e+06\n",
      "==============================================================================\n",
      "\n",
      "Notes:\n",
      "[1] Standard Errors assume that the covariance matrix of the errors is correctly specified.\n",
      "[2] The condition number is large, 3.06e+06. This might indicate that there are\n",
      "strong multicollinearity or other numerical problems.\n"
     ]
    }
   ],
   "source": [
    "lm = smf.ols(formula= 'N_crimes ~ Labor_Force+Employed', data = Combined_data).fit()\n",
    "print(lm.summary())"
   ]
  },
  {
   "cell_type": "markdown",
   "id": "2428adca",
   "metadata": {},
   "source": [
    "Results:\n",
    "- R-squared: 0.658 indicates that around 65.8% of the variance in N_crimes is explained by the model.\n",
    "- Coefficients:\n",
    "    - Labor_Force: Positive and statistically significant with a coefficient of 0.0038.\n",
    "    - Employed: Negative and statistically significant with a coefficient of -0.0021."
   ]
  },
  {
   "cell_type": "code",
   "execution_count": 37,
   "id": "6ff55e80",
   "metadata": {},
   "outputs": [
    {
     "name": "stdout",
     "output_type": "stream",
     "text": [
      "                            OLS Regression Results                            \n",
      "==============================================================================\n",
      "Dep. Variable:               N_crimes   R-squared:                       0.659\n",
      "Model:                            OLS   Adj. R-squared:                  0.658\n",
      "Method:                 Least Squares   F-statistic:                     384.3\n",
      "Date:                Thu, 07 Dec 2023   Prob (F-statistic):          7.43e-139\n",
      "Time:                        22:50:24   Log-Likelihood:                -4569.6\n",
      "No. Observations:                 600   AIC:                             9147.\n",
      "Df Residuals:                     596   BIC:                             9165.\n",
      "Df Model:                           3                                         \n",
      "Covariance Type:            nonrobust                                         \n",
      "===============================================================================\n",
      "                  coef    std err          t      P>|t|      [0.025      0.975]\n",
      "-------------------------------------------------------------------------------\n",
      "Intercept     189.7245     49.570      3.827      0.000      92.372     287.077\n",
      "Labor_Force     0.4664      0.398      1.173      0.241      -0.315       1.247\n",
      "Employed       -0.4647      0.398     -1.169      0.243      -1.246       0.316\n",
      "Unemployed     -0.4626      0.398     -1.163      0.245      -1.244       0.318\n",
      "==============================================================================\n",
      "Omnibus:                       18.655   Durbin-Watson:                   1.742\n",
      "Prob(Omnibus):                  0.000   Jarque-Bera (JB):               10.904\n",
      "Skew:                           0.161   Prob(JB):                      0.00429\n",
      "Kurtosis:                       2.423   Cond. No.                     3.07e+06\n",
      "==============================================================================\n",
      "\n",
      "Notes:\n",
      "[1] Standard Errors assume that the covariance matrix of the errors is correctly specified.\n",
      "[2] The condition number is large, 3.07e+06. This might indicate that there are\n",
      "strong multicollinearity or other numerical problems.\n"
     ]
    }
   ],
   "source": [
    "lm = smf.ols(formula= 'N_crimes ~ Labor_Force+Employed+Unemployed', data = Combined_data).fit()\n",
    "print(lm.summary())"
   ]
  },
  {
   "cell_type": "markdown",
   "id": "114a6ed3",
   "metadata": {},
   "source": [
    "Results:\n",
    "- R-squared: 0.659, slightly higher than the first model, suggesting a marginal improvement in explanatory power with the addition of Unemployed.\n",
    "- Coefficients:\n",
    "    - Labor_Force: Positive coefficient but not statistically significant (p-value > 0.05).\n",
    "    - Employed: Negative but not statistically significant.\n",
    "    - Unemployed: Negative but not statistically significant"
   ]
  },
  {
   "cell_type": "code",
   "execution_count": 38,
   "id": "992f590a",
   "metadata": {},
   "outputs": [
    {
     "name": "stdout",
     "output_type": "stream",
     "text": [
      "                            OLS Regression Results                            \n",
      "==============================================================================\n",
      "Dep. Variable:               N_crimes   R-squared:                       0.662\n",
      "Model:                            OLS   Adj. R-squared:                  0.660\n",
      "Method:                 Least Squares   F-statistic:                     291.4\n",
      "Date:                Thu, 07 Dec 2023   Prob (F-statistic):          1.35e-138\n",
      "Time:                        22:50:29   Log-Likelihood:                -4567.1\n",
      "No. Observations:                 600   AIC:                             9144.\n",
      "Df Residuals:                     595   BIC:                             9166.\n",
      "Df Model:                           4                                         \n",
      "Covariance Type:            nonrobust                                         \n",
      "=====================================================================================\n",
      "                        coef    std err          t      P>|t|      [0.025      0.975]\n",
      "-------------------------------------------------------------------------------------\n",
      "Intercept           -47.1818    117.349     -0.402      0.688    -277.651     183.287\n",
      "Labor_Force           0.4422      0.396      1.115      0.265      -0.336       1.221\n",
      "Employed             -0.4402      0.396     -1.110      0.267      -1.219       0.338\n",
      "Unemployed           -0.4417      0.396     -1.114      0.266      -1.220       0.337\n",
      "Unemployment_Rate    34.3490     15.433      2.226      0.026       4.039      64.659\n",
      "==============================================================================\n",
      "Omnibus:                       16.356   Durbin-Watson:                   1.724\n",
      "Prob(Omnibus):                  0.000   Jarque-Bera (JB):               10.108\n",
      "Skew:                           0.162   Prob(JB):                      0.00638\n",
      "Kurtosis:                       2.453   Cond. No.                     7.33e+06\n",
      "==============================================================================\n",
      "\n",
      "Notes:\n",
      "[1] Standard Errors assume that the covariance matrix of the errors is correctly specified.\n",
      "[2] The condition number is large, 7.33e+06. This might indicate that there are\n",
      "strong multicollinearity or other numerical problems.\n"
     ]
    }
   ],
   "source": [
    "lm = smf.ols(formula= 'N_crimes~ Labor_Force+Employed+Unemployed+Unemployment_Rate', data = Combined_data).fit()\n",
    "print(lm.summary())"
   ]
  },
  {
   "cell_type": "markdown",
   "id": "35c8815a",
   "metadata": {},
   "source": [
    "Results:\n",
    "- R-squared: 0.662, again slightly higher, indicating that adding Unemployment_Rate provides a slight increase in the model's explanatory power.\n",
    "\n",
    "- Coefficients:\n",
    "    - Labor_Force: Positive but not statistically significant.\n",
    "    - Employed: Negative but not statistically significant.\n",
    "    - Unemployed: Negative but not statistically significant.\n",
    "    - Unemployment_Rate: Positive and statistically significant with a coefficient of 34.3490."
   ]
  },
  {
   "cell_type": "code",
   "execution_count": 39,
   "id": "12c497c4",
   "metadata": {},
   "outputs": [
    {
     "name": "stdout",
     "output_type": "stream",
     "text": [
      "                            OLS Regression Results                            \n",
      "==============================================================================\n",
      "Dep. Variable:               N_crimes   R-squared:                       0.892\n",
      "Model:                            OLS   Adj. R-squared:                  0.891\n",
      "Method:                 Least Squares   F-statistic:                     610.8\n",
      "Date:                Thu, 07 Dec 2023   Prob (F-statistic):          5.61e-280\n",
      "Time:                        22:50:42   Log-Likelihood:                -4224.6\n",
      "No. Observations:                 600   AIC:                             8467.\n",
      "Df Residuals:                     591   BIC:                             8507.\n",
      "Df Model:                           8                                         \n",
      "Covariance Type:            nonrobust                                         \n",
      "===============================================================================================\n",
      "                                  coef    std err          t      P>|t|      [0.025      0.975]\n",
      "-----------------------------------------------------------------------------------------------\n",
      "Intercept                    3879.6892    369.688     10.494      0.000    3153.627    4605.752\n",
      "C(BORO_NM)[T.BROOKLYN]       2768.1303    360.890      7.670      0.000    2059.348    3476.912\n",
      "C(BORO_NM)[T.MANHATTAN]      1472.9728    180.996      8.138      0.000    1117.500    1828.446\n",
      "C(BORO_NM)[T.QUEENS]         1794.9067    321.939      5.575      0.000    1162.622    2427.191\n",
      "C(BORO_NM)[T.STATEN ISLAND] -2867.4157    236.262    -12.137      0.000   -3331.430   -2403.401\n",
      "Labor_Force                    -0.2610      0.226     -1.155      0.249      -0.705       0.183\n",
      "Employed                        0.2578      0.226      1.140      0.255      -0.186       0.702\n",
      "Unemployed                      0.2563      0.226      1.134      0.257      -0.188       0.700\n",
      "Unemployment_Rate              -2.4671      9.138     -0.270      0.787     -20.415      15.480\n",
      "==============================================================================\n",
      "Omnibus:                       47.225   Durbin-Watson:                   0.977\n",
      "Prob(Omnibus):                  0.000   Jarque-Bera (JB):              195.350\n",
      "Skew:                           0.181   Prob(JB):                     3.80e-43\n",
      "Kurtosis:                       5.772   Cond. No.                     7.34e+07\n",
      "==============================================================================\n",
      "\n",
      "Notes:\n",
      "[1] Standard Errors assume that the covariance matrix of the errors is correctly specified.\n",
      "[2] The condition number is large, 7.34e+07. This might indicate that there are\n",
      "strong multicollinearity or other numerical problems.\n"
     ]
    }
   ],
   "source": [
    "lm = smf.ols(formula= 'N_crimes~ Labor_Force + Employed + Unemployed + Unemployment_Rate + C(BORO_NM)', data = Combined_data).fit()\n",
    "print(lm.summary())"
   ]
  },
  {
   "cell_type": "markdown",
   "id": "1d5cf586",
   "metadata": {},
   "source": [
    "Results:\n",
    "\n",
    "- R-squared: The R-squared value is 0.892, which means that approximately 89.2% of the variance in N_crimes is explained by the model. This is a very high R-squared value, suggesting that the model fits the data well.\n",
    "\n",
    "- Coefficients for Boroughs: The coefficients for the boroughs are statistically significant (p-value < 0.05), indicating that there are indeed differences in N_crimes across boroughs.\n",
    "\n",
    "- Coefficients for Other Variables: The Labor_Force, Employed, Unemployed, and Unemployment_Rate are not statistically significant (p-value > 0.05), which suggests that within the context of this model, they do not have a distinct impact on N_crimes after accounting for the effect of boroughs.\n",
    "\n",
    "- Statistical Significance: The intercept and coefficients for the dummy variables are statistically significant, which means they contribute to explaining the variance in N_crimes.\n",
    "\n",
    "- Condition Number: The condition number is extremely high, which confirms the presence of multicollinearity. This can inflate the standard errors of the coefficients and make the model unstable."
   ]
  },
  {
   "cell_type": "markdown",
   "id": "b4afdd99",
   "metadata": {},
   "source": [
    "Interpretation:\n",
    "\n",
    "- R-squared value: Adding more variables to the model seems to increase the R-squared value slightly, which indicates a better fit of the model to the data. However, the changes are minimal, suggesting that these additional variables do not provide substantially more information about N_crimes.\n",
    "\n",
    "- The significant change in coefficients and the intercept when moving from a two-variable model to a four-variable model suggests multicollinearity might be affecting the estimates. \n",
    "\n",
    "- The lack of statistical significance for Labor_Force, Employed, Unemployed, and Unemployed in the models with more predictors suggests that when combined, these variables do not have a distinct linear relationship with N_crimes.\n",
    "\n",
    "- The overall fit of the models is reasonable, with R-squared values above 0.65, but the presence of multicollinearity suggests that the independent contributions of the variables cannot be reliably determined. This could be addressed by using regularization methods or variable selection techniques to improve the model."
   ]
  },
  {
   "cell_type": "markdown",
   "id": "3aeebcd8",
   "metadata": {},
   "source": [
    "### Borough-Specific "
   ]
  },
  {
   "cell_type": "code",
   "execution_count": 42,
   "id": "3837eeb0",
   "metadata": {},
   "outputs": [],
   "source": [
    "results_df2 = pd.DataFrame(columns=['Labor_Force_coef', \n",
    "                                    'Employed_coef', \n",
    "                                    'Unemployed_coef',\n",
    "                                    'Unemployment_Rate_coef',\n",
    "                                    'Intercept', \n",
    "                                    'R2'])\n",
    "results_df2['Borough'] = Combined_data['BORO_NM'].unique()\n",
    "results_df2 = results_df2.set_index('Borough')"
   ]
  },
  {
   "cell_type": "code",
   "execution_count": 43,
   "id": "4af6a8b2",
   "metadata": {},
   "outputs": [
    {
     "data": {
      "text/html": [
       "<div>\n",
       "<style scoped>\n",
       "    .dataframe tbody tr th:only-of-type {\n",
       "        vertical-align: middle;\n",
       "    }\n",
       "\n",
       "    .dataframe tbody tr th {\n",
       "        vertical-align: top;\n",
       "    }\n",
       "\n",
       "    .dataframe thead th {\n",
       "        text-align: right;\n",
       "    }\n",
       "</style>\n",
       "<table border=\"1\" class=\"dataframe\">\n",
       "  <thead>\n",
       "    <tr style=\"text-align: right;\">\n",
       "      <th></th>\n",
       "      <th>Labor_Force_coef</th>\n",
       "      <th>Employed_coef</th>\n",
       "      <th>Unemployed_coef</th>\n",
       "      <th>Unemployment_Rate_coef</th>\n",
       "      <th>Intercept</th>\n",
       "      <th>R2</th>\n",
       "    </tr>\n",
       "    <tr>\n",
       "      <th>Borough</th>\n",
       "      <th></th>\n",
       "      <th></th>\n",
       "      <th></th>\n",
       "      <th></th>\n",
       "      <th></th>\n",
       "      <th></th>\n",
       "    </tr>\n",
       "  </thead>\n",
       "  <tbody>\n",
       "    <tr>\n",
       "      <th>BRONX</th>\n",
       "      <td>-0.34592</td>\n",
       "      <td>0.326027</td>\n",
       "      <td>0.487409</td>\n",
       "      <td>-991.024708</td>\n",
       "      <td>14018.900761</td>\n",
       "      <td>0.190842</td>\n",
       "    </tr>\n",
       "    <tr>\n",
       "      <th>BROOKLYN</th>\n",
       "      <td>-1.31934</td>\n",
       "      <td>1.306772</td>\n",
       "      <td>1.44345</td>\n",
       "      <td>-1660.902587</td>\n",
       "      <td>17924.827724</td>\n",
       "      <td>0.290408</td>\n",
       "    </tr>\n",
       "    <tr>\n",
       "      <th>MANHATTAN</th>\n",
       "      <td>0.104811</td>\n",
       "      <td>-0.110194</td>\n",
       "      <td>-0.026241</td>\n",
       "      <td>-789.925368</td>\n",
       "      <td>7360.530051</td>\n",
       "      <td>0.130726</td>\n",
       "    </tr>\n",
       "    <tr>\n",
       "      <th>QUEENS</th>\n",
       "      <td>0.276266</td>\n",
       "      <td>-0.286367</td>\n",
       "      <td>-0.198684</td>\n",
       "      <td>-1023.199004</td>\n",
       "      <td>13597.130543</td>\n",
       "      <td>0.326744</td>\n",
       "    </tr>\n",
       "    <tr>\n",
       "      <th>STATEN ISLAND</th>\n",
       "      <td>-0.004738</td>\n",
       "      <td>-0.001931</td>\n",
       "      <td>0.054706</td>\n",
       "      <td>-129.919254</td>\n",
       "      <td>1768.43472</td>\n",
       "      <td>0.305757</td>\n",
       "    </tr>\n",
       "  </tbody>\n",
       "</table>\n",
       "</div>"
      ],
      "text/plain": [
       "              Labor_Force_coef Employed_coef Unemployed_coef  \\\n",
       "Borough                                                        \n",
       "BRONX                 -0.34592      0.326027        0.487409   \n",
       "BROOKLYN              -1.31934      1.306772         1.44345   \n",
       "MANHATTAN             0.104811     -0.110194       -0.026241   \n",
       "QUEENS                0.276266     -0.286367       -0.198684   \n",
       "STATEN ISLAND        -0.004738     -0.001931        0.054706   \n",
       "\n",
       "              Unemployment_Rate_coef     Intercept        R2  \n",
       "Borough                                                       \n",
       "BRONX                    -991.024708  14018.900761  0.190842  \n",
       "BROOKLYN                -1660.902587  17924.827724  0.290408  \n",
       "MANHATTAN                -789.925368   7360.530051  0.130726  \n",
       "QUEENS                  -1023.199004  13597.130543  0.326744  \n",
       "STATEN ISLAND            -129.919254    1768.43472  0.305757  "
      ]
     },
     "execution_count": 43,
     "metadata": {},
     "output_type": "execute_result"
    }
   ],
   "source": [
    "for boro in Combined_data['BORO_NM'].unique():\n",
    "    \n",
    "    df_boro = Combined_data[Combined_data['BORO_NM'] == boro]\n",
    "    lm = smf.ols(formula='N_crimes~ Labor_Force + Employed + Unemployed + Unemployment_Rate', data=df_boro).fit()\n",
    "\n",
    "    results_df2.loc[boro] = [lm.params['Labor_Force'],\n",
    "                                   lm.params['Employed'],\n",
    "                                   lm.params['Unemployed'],\n",
    "                                   lm.params['Unemployment_Rate'],         \n",
    "                                   lm.params['Intercept'],\n",
    "                                   lm.rsquared]\n",
    "results_df2"
   ]
  },
  {
   "cell_type": "markdown",
   "id": "67afee4c",
   "metadata": {},
   "source": [
    "##### Consideration:\n",
    "\n",
    "1. Single Model with Dummy Variables: Analyzing each borough separately, as shown in your table, allows for a more detailed and specific understanding of the factors influencing N_crimes within each borough. This approach can highlight unique borough-specific relationships that might be obscured when all data are pooled together. For instance, the labor force may have different effects on crime rates in different boroughs\n",
    "\n",
    "- Provides a more straightforward comparison across boroughs.\n",
    "- More efficient in terms of degrees of freedom if there is limited data.\n",
    "- Assumes a consistent relationship between predictors and N_crimes across all boroughs, which might not be accurate.\n",
    "\n",
    "2. Borough-Specific Models: Using dummy variables in a single regression model for all boroughs gives a more general overview and allows for direct comparison of the boroughs' coefficients relative to a reference category. This method assumes that the relationship between the predictors and N_crimes is consistent across boroughs, except for a shift indicated by the borough's coefficient.\n",
    "\n",
    "- Allow for different relationships between predictors and N_crimes in each borough.\n",
    "- Can identify unique borough-level factors affecting crime.\n",
    "- May be more suitable if the focus is on policy-making or interventions tailored to individual boroughs.\n",
    "- Require more data to ensure robust estimates for each borough-specific model.\n",
    "\n",
    "--> Describe the general trends across NYC with the dummy variable model and then delve into the specifics with the borough-specific models."
   ]
  },
  {
   "cell_type": "markdown",
   "id": "c8b75970",
   "metadata": {},
   "source": [
    "## Linear Regression Diagnostics"
   ]
  },
  {
   "cell_type": "code",
   "execution_count": 44,
   "id": "a8b2fec8",
   "metadata": {},
   "outputs": [
    {
     "name": "stdout",
     "output_type": "stream",
     "text": [
      "                            OLS Regression Results                            \n",
      "==============================================================================\n",
      "Dep. Variable:               N_crimes   R-squared:                       0.892\n",
      "Model:                            OLS   Adj. R-squared:                  0.891\n",
      "Method:                 Least Squares   F-statistic:                     610.8\n",
      "Date:                Thu, 07 Dec 2023   Prob (F-statistic):          5.61e-280\n",
      "Time:                        22:54:31   Log-Likelihood:                -4224.6\n",
      "No. Observations:                 600   AIC:                             8467.\n",
      "Df Residuals:                     591   BIC:                             8507.\n",
      "Df Model:                           8                                         \n",
      "Covariance Type:            nonrobust                                         \n",
      "===============================================================================================\n",
      "                                  coef    std err          t      P>|t|      [0.025      0.975]\n",
      "-----------------------------------------------------------------------------------------------\n",
      "Intercept                    3879.6892    369.688     10.494      0.000    3153.627    4605.752\n",
      "C(BORO_NM)[T.BROOKLYN]       2768.1303    360.890      7.670      0.000    2059.348    3476.912\n",
      "C(BORO_NM)[T.MANHATTAN]      1472.9728    180.996      8.138      0.000    1117.500    1828.446\n",
      "C(BORO_NM)[T.QUEENS]         1794.9067    321.939      5.575      0.000    1162.622    2427.191\n",
      "C(BORO_NM)[T.STATEN ISLAND] -2867.4157    236.262    -12.137      0.000   -3331.430   -2403.401\n",
      "Labor_Force                    -0.2610      0.226     -1.155      0.249      -0.705       0.183\n",
      "Employed                        0.2578      0.226      1.140      0.255      -0.186       0.702\n",
      "Unemployed                      0.2563      0.226      1.134      0.257      -0.188       0.700\n",
      "Unemployment_Rate              -2.4671      9.138     -0.270      0.787     -20.415      15.480\n",
      "==============================================================================\n",
      "Omnibus:                       47.225   Durbin-Watson:                   0.977\n",
      "Prob(Omnibus):                  0.000   Jarque-Bera (JB):              195.350\n",
      "Skew:                           0.181   Prob(JB):                     3.80e-43\n",
      "Kurtosis:                       5.772   Cond. No.                     7.34e+07\n",
      "==============================================================================\n",
      "\n",
      "Notes:\n",
      "[1] Standard Errors assume that the covariance matrix of the errors is correctly specified.\n",
      "[2] The condition number is large, 7.34e+07. This might indicate that there are\n",
      "strong multicollinearity or other numerical problems.\n"
     ]
    }
   ],
   "source": [
    "lm = smf.ols(formula= 'N_crimes~ Labor_Force + Employed + Unemployed + Unemployment_Rate + C(BORO_NM)', data = Combined_data).fit()\n",
    "print(lm.summary())"
   ]
  },
  {
   "cell_type": "markdown",
   "id": "1d0c9057",
   "metadata": {},
   "source": [
    "At the confidence level of 95%, Only the boroughs regressors seem significant according to p-value.\n",
    "The confidence intervals are pretty broad not allowing to reliably assess the number of crimes for each category of borough. \n",
    "\n",
    "- The coefficient for the unemployment rate is negative, but it is not statistically significant since its p-value is greater than 0.05. This implies that there is no strong evidence to suggest the unemployment rate, as modeled, has a significant impact on the number of crimes when controlling for other factors.\n",
    "\n",
    "- The borough dummy variables are statistically significant, with p-values less than 0.05, indicating that the number of crimes is significantly different across boroughs.\n",
    "\n",
    "- The negative coefficient for STATEN_ISLAND suggests that, all else being equal, this borough would see fewer crimes compared to the baseline borough (not shown in the output).\n",
    "\n",
    "- The model suggests multicollinearity may be an issue, as indicated by the note about a singular matrix, which could be due to the high correlation between the predictors such as 'Labor_Force' and 'Employed'.\n",
    "\n",
    "This is likely because of the strong internal correlations between the regressors.\n",
    "- refer to the correlation matrix table below"
   ]
  },
  {
   "cell_type": "code",
   "execution_count": 45,
   "id": "10877af8",
   "metadata": {},
   "outputs": [
    {
     "data": {
      "text/html": [
       "<div>\n",
       "<style scoped>\n",
       "    .dataframe tbody tr th:only-of-type {\n",
       "        vertical-align: middle;\n",
       "    }\n",
       "\n",
       "    .dataframe tbody tr th {\n",
       "        vertical-align: top;\n",
       "    }\n",
       "\n",
       "    .dataframe thead th {\n",
       "        text-align: right;\n",
       "    }\n",
       "</style>\n",
       "<table border=\"1\" class=\"dataframe\">\n",
       "  <thead>\n",
       "    <tr style=\"text-align: right;\">\n",
       "      <th></th>\n",
       "      <th>N_crimes</th>\n",
       "      <th>Labor_Force</th>\n",
       "      <th>Employed</th>\n",
       "      <th>Unemployed</th>\n",
       "      <th>Unemployment_Rate</th>\n",
       "    </tr>\n",
       "  </thead>\n",
       "  <tbody>\n",
       "    <tr>\n",
       "      <th>N_crimes</th>\n",
       "      <td>1.000000</td>\n",
       "      <td>0.807848</td>\n",
       "      <td>0.798284</td>\n",
       "      <td>0.525745</td>\n",
       "      <td>-0.003033</td>\n",
       "    </tr>\n",
       "    <tr>\n",
       "      <th>Labor_Force</th>\n",
       "      <td>0.807848</td>\n",
       "      <td>1.000000</td>\n",
       "      <td>0.996297</td>\n",
       "      <td>0.573315</td>\n",
       "      <td>-0.115735</td>\n",
       "    </tr>\n",
       "    <tr>\n",
       "      <th>Employed</th>\n",
       "      <td>0.798284</td>\n",
       "      <td>0.996297</td>\n",
       "      <td>1.000000</td>\n",
       "      <td>0.500746</td>\n",
       "      <td>-0.194355</td>\n",
       "    </tr>\n",
       "    <tr>\n",
       "      <th>Unemployed</th>\n",
       "      <td>0.525745</td>\n",
       "      <td>0.573315</td>\n",
       "      <td>0.500746</td>\n",
       "      <td>1.000000</td>\n",
       "      <td>0.686925</td>\n",
       "    </tr>\n",
       "    <tr>\n",
       "      <th>Unemployment_Rate</th>\n",
       "      <td>-0.003033</td>\n",
       "      <td>-0.115735</td>\n",
       "      <td>-0.194355</td>\n",
       "      <td>0.686925</td>\n",
       "      <td>1.000000</td>\n",
       "    </tr>\n",
       "  </tbody>\n",
       "</table>\n",
       "</div>"
      ],
      "text/plain": [
       "                   N_crimes  Labor_Force  Employed  Unemployed  \\\n",
       "N_crimes           1.000000     0.807848  0.798284    0.525745   \n",
       "Labor_Force        0.807848     1.000000  0.996297    0.573315   \n",
       "Employed           0.798284     0.996297  1.000000    0.500746   \n",
       "Unemployed         0.525745     0.573315  0.500746    1.000000   \n",
       "Unemployment_Rate -0.003033    -0.115735 -0.194355    0.686925   \n",
       "\n",
       "                   Unemployment_Rate  \n",
       "N_crimes                   -0.003033  \n",
       "Labor_Force                -0.115735  \n",
       "Employed                   -0.194355  \n",
       "Unemployed                  0.686925  \n",
       "Unemployment_Rate           1.000000  "
      ]
     },
     "execution_count": 45,
     "metadata": {},
     "output_type": "execute_result"
    }
   ],
   "source": [
    "Combined_data.corr()"
   ]
  },
  {
   "cell_type": "markdown",
   "id": "7fefe876",
   "metadata": {},
   "source": [
    "Interpretation:\n",
    "\n",
    "- There is a high correlation between 'Labor_Force', 'Employed', and 'Unemployed', which is expected as these are directly related labor market indicators.\n",
    "\n",
    "- The unemployment rate does not show a strong correlation with the number of crimes, which is consistent with the regression results.\n"
   ]
  },
  {
   "cell_type": "markdown",
   "id": "8b743148",
   "metadata": {},
   "source": [
    "Interpreting the Diagnostics:\n",
    "\n",
    "- Multicollinearity: Given the high correlation between 'Labor_Force', 'Employed', and 'Unemployed', there is likely multicollinearity in the model. This issue can inflate the variance of the coefficient estimates and make the model less reliable. It may be beneficial to consider variable selection\n",
    "\n",
    "- Model Fit: The concentration of points along the lower range of observed crimes and the scattering at higher ranges suggest that the model may not be capturing some aspects of the relationship at higher crime levels. This could be due to outliers, non-linear relationships, or other factors not included in the model.\n",
    "\n",
    "- Borough Differences: The significance of borough dummy variables suggests that location is an important factor in crime rates. This could be due to a variety of socio-economic factors that differ by borough.\n",
    "\n",
    "- Unemployment Rate: The lack of significance of the unemployment rate might suggest that unemployment alone is not a good predictor of crime rates, or that the relationship is more complex than the model captures. It could also be that the effect of unemployment on crime is mediated through other variables not included in the model."
   ]
  },
  {
   "cell_type": "markdown",
   "id": "59e242ea",
   "metadata": {},
   "source": [
    "## Deal with Multicollinearity -- Regularization\n",
    "\n",
    "Model choosing: General trends across NYC with the dummy variable model"
   ]
  },
  {
   "cell_type": "code",
   "execution_count": 46,
   "id": "121eb571",
   "metadata": {},
   "outputs": [
    {
     "name": "stdout",
     "output_type": "stream",
     "text": [
      "%pylab is deprecated, use %matplotlib inline and import the required libraries.\n",
      "Populating the interactive namespace from numpy and matplotlib\n"
     ]
    }
   ],
   "source": [
    "import numpy as np\n",
    "import pandas as pd\n",
    "import matplotlib.pyplot as plt\n",
    "%pylab inline\n",
    "import statsmodels.formula.api as smf\n",
    "from scipy.stats import t\n",
    "from sklearn.metrics import r2_score\n",
    "matplotlib.rcParams['figure.figsize'] = [10,4]"
   ]
  },
  {
   "cell_type": "code",
   "execution_count": 47,
   "id": "71b4fe3b",
   "metadata": {},
   "outputs": [
    {
     "name": "stdout",
     "output_type": "stream",
     "text": [
      "                            OLS Regression Results                            \n",
      "==============================================================================\n",
      "Dep. Variable:               N_crimes   R-squared:                       0.892\n",
      "Model:                            OLS   Adj. R-squared:                  0.891\n",
      "Method:                 Least Squares   F-statistic:                     610.8\n",
      "Date:                Thu, 07 Dec 2023   Prob (F-statistic):          5.61e-280\n",
      "Time:                        22:58:01   Log-Likelihood:                -4224.6\n",
      "No. Observations:                 600   AIC:                             8467.\n",
      "Df Residuals:                     591   BIC:                             8507.\n",
      "Df Model:                           8                                         \n",
      "Covariance Type:            nonrobust                                         \n",
      "===============================================================================================\n",
      "                                  coef    std err          t      P>|t|      [0.025      0.975]\n",
      "-----------------------------------------------------------------------------------------------\n",
      "Intercept                    3879.6892    369.688     10.494      0.000    3153.627    4605.752\n",
      "C(BORO_NM)[T.BROOKLYN]       2768.1303    360.890      7.670      0.000    2059.348    3476.912\n",
      "C(BORO_NM)[T.MANHATTAN]      1472.9728    180.996      8.138      0.000    1117.500    1828.446\n",
      "C(BORO_NM)[T.QUEENS]         1794.9067    321.939      5.575      0.000    1162.622    2427.191\n",
      "C(BORO_NM)[T.STATEN ISLAND] -2867.4157    236.262    -12.137      0.000   -3331.430   -2403.401\n",
      "Labor_Force                    -0.2610      0.226     -1.155      0.249      -0.705       0.183\n",
      "Employed                        0.2578      0.226      1.140      0.255      -0.186       0.702\n",
      "Unemployed                      0.2563      0.226      1.134      0.257      -0.188       0.700\n",
      "Unemployment_Rate              -2.4671      9.138     -0.270      0.787     -20.415      15.480\n",
      "==============================================================================\n",
      "Omnibus:                       47.225   Durbin-Watson:                   0.977\n",
      "Prob(Omnibus):                  0.000   Jarque-Bera (JB):              195.350\n",
      "Skew:                           0.181   Prob(JB):                     3.80e-43\n",
      "Kurtosis:                       5.772   Cond. No.                     7.34e+07\n",
      "==============================================================================\n",
      "\n",
      "Notes:\n",
      "[1] Standard Errors assume that the covariance matrix of the errors is correctly specified.\n",
      "[2] The condition number is large, 7.34e+07. This might indicate that there are\n",
      "strong multicollinearity or other numerical problems.\n"
     ]
    }
   ],
   "source": [
    "lm = smf.ols(formula= 'N_crimes~ Labor_Force + Employed + Unemployed + Unemployment_Rate + C(BORO_NM)', data = Combined_data).fit()\n",
    "print(lm.summary())"
   ]
  },
  {
   "cell_type": "markdown",
   "id": "6e936c06",
   "metadata": {},
   "source": [
    "#### Split Train (70%), Valid (15%) and Test (15%) data"
   ]
  },
  {
   "cell_type": "code",
   "execution_count": 48,
   "id": "8ff7bcfc",
   "metadata": {},
   "outputs": [],
   "source": [
    "Train_data, Remaining_data = train_test_split(Combined_data.iloc[:, 1:], test_size=0.3, random_state=30)\n",
    "Valid_data, Test_data = train_test_split(Remaining_data, test_size=0.5, random_state=30)"
   ]
  },
  {
   "cell_type": "code",
   "execution_count": 52,
   "id": "18f835f4",
   "metadata": {},
   "outputs": [
    {
     "data": {
      "text/plain": [
       "(420, 6)"
      ]
     },
     "execution_count": 52,
     "metadata": {},
     "output_type": "execute_result"
    }
   ],
   "source": [
    "Train_data.shape"
   ]
  },
  {
   "cell_type": "code",
   "execution_count": 55,
   "id": "e2e68c4e",
   "metadata": {},
   "outputs": [
    {
     "data": {
      "text/html": [
       "<div>\n",
       "<style scoped>\n",
       "    .dataframe tbody tr th:only-of-type {\n",
       "        vertical-align: middle;\n",
       "    }\n",
       "\n",
       "    .dataframe tbody tr th {\n",
       "        vertical-align: top;\n",
       "    }\n",
       "\n",
       "    .dataframe thead th {\n",
       "        text-align: right;\n",
       "    }\n",
       "</style>\n",
       "<table border=\"1\" class=\"dataframe\">\n",
       "  <thead>\n",
       "    <tr style=\"text-align: right;\">\n",
       "      <th></th>\n",
       "      <th>BORO_NM</th>\n",
       "      <th>N_crimes</th>\n",
       "      <th>Labor_Force</th>\n",
       "      <th>Employed</th>\n",
       "      <th>Unemployed</th>\n",
       "      <th>Unemployment_Rate</th>\n",
       "    </tr>\n",
       "  </thead>\n",
       "  <tbody>\n",
       "    <tr>\n",
       "      <th>208</th>\n",
       "      <td>QUEENS</td>\n",
       "      <td>1761</td>\n",
       "      <td>1146600</td>\n",
       "      <td>1094700</td>\n",
       "      <td>51900</td>\n",
       "      <td>4.5</td>\n",
       "    </tr>\n",
       "    <tr>\n",
       "      <th>181</th>\n",
       "      <td>BROOKLYN</td>\n",
       "      <td>2356</td>\n",
       "      <td>1202500</td>\n",
       "      <td>1134900</td>\n",
       "      <td>67600</td>\n",
       "      <td>5.6</td>\n",
       "    </tr>\n",
       "    <tr>\n",
       "      <th>447</th>\n",
       "      <td>MANHATTAN</td>\n",
       "      <td>2058</td>\n",
       "      <td>876600</td>\n",
       "      <td>761000</td>\n",
       "      <td>115500</td>\n",
       "      <td>13.2</td>\n",
       "    </tr>\n",
       "    <tr>\n",
       "      <th>362</th>\n",
       "      <td>MANHATTAN</td>\n",
       "      <td>1956</td>\n",
       "      <td>960800</td>\n",
       "      <td>920100</td>\n",
       "      <td>40700</td>\n",
       "      <td>4.2</td>\n",
       "    </tr>\n",
       "    <tr>\n",
       "      <th>129</th>\n",
       "      <td>STATEN ISLAND</td>\n",
       "      <td>179</td>\n",
       "      <td>220900</td>\n",
       "      <td>206300</td>\n",
       "      <td>14600</td>\n",
       "      <td>6.6</td>\n",
       "    </tr>\n",
       "  </tbody>\n",
       "</table>\n",
       "</div>"
      ],
      "text/plain": [
       "           BORO_NM  N_crimes  Labor_Force  Employed  Unemployed  \\\n",
       "208         QUEENS      1761      1146600   1094700       51900   \n",
       "181       BROOKLYN      2356      1202500   1134900       67600   \n",
       "447      MANHATTAN      2058       876600    761000      115500   \n",
       "362      MANHATTAN      1956       960800    920100       40700   \n",
       "129  STATEN ISLAND       179       220900    206300       14600   \n",
       "\n",
       "     Unemployment_Rate  \n",
       "208                4.5  \n",
       "181                5.6  \n",
       "447               13.2  \n",
       "362                4.2  \n",
       "129                6.6  "
      ]
     },
     "execution_count": 55,
     "metadata": {},
     "output_type": "execute_result"
    }
   ],
   "source": [
    "Train_data.head()"
   ]
  },
  {
   "cell_type": "code",
   "execution_count": 53,
   "id": "7aebe592",
   "metadata": {},
   "outputs": [
    {
     "data": {
      "text/plain": [
       "(90, 6)"
      ]
     },
     "execution_count": 53,
     "metadata": {},
     "output_type": "execute_result"
    }
   ],
   "source": [
    "Valid_data.shape"
   ]
  },
  {
   "cell_type": "code",
   "execution_count": 54,
   "id": "b221bb90",
   "metadata": {},
   "outputs": [
    {
     "data": {
      "text/plain": [
       "(90, 6)"
      ]
     },
     "execution_count": 54,
     "metadata": {},
     "output_type": "execute_result"
    }
   ],
   "source": [
    "Test_data.shape"
   ]
  },
  {
   "cell_type": "code",
   "execution_count": 56,
   "id": "2fa53a4a",
   "metadata": {},
   "outputs": [
    {
     "data": {
      "text/plain": [
       "'Labor_Force+Employed+Unemployed+Unemployment_Rate'"
      ]
     },
     "execution_count": 56,
     "metadata": {},
     "output_type": "execute_result"
    }
   ],
   "source": [
    "'+'.join(Train_data.columns[2:])"
   ]
  },
  {
   "cell_type": "code",
   "execution_count": 60,
   "id": "be345e79",
   "metadata": {},
   "outputs": [
    {
     "name": "stdout",
     "output_type": "stream",
     "text": [
      "                            OLS Regression Results                            \n",
      "==============================================================================\n",
      "Dep. Variable:               N_crimes   R-squared:                       0.892\n",
      "Model:                            OLS   Adj. R-squared:                  0.890\n",
      "Method:                 Least Squares   F-statistic:                     423.9\n",
      "Date:                Thu, 07 Dec 2023   Prob (F-statistic):          3.00e-193\n",
      "Time:                        23:02:08   Log-Likelihood:                -2965.4\n",
      "No. Observations:                 420   AIC:                             5949.\n",
      "Df Residuals:                     411   BIC:                             5985.\n",
      "Df Model:                           8                                         \n",
      "Covariance Type:            nonrobust                                         \n",
      "===============================================================================================\n",
      "                                  coef    std err          t      P>|t|      [0.025      0.975]\n",
      "-----------------------------------------------------------------------------------------------\n",
      "Intercept                    3895.6963    443.930      8.775      0.000    3023.040    4768.352\n",
      "C(BORO_NM)[T.BROOKLYN]       2770.9312    433.258      6.396      0.000    1919.254    3622.608\n",
      "C(BORO_NM)[T.MANHATTAN]      1477.8737    218.659      6.759      0.000    1048.045    1907.703\n",
      "C(BORO_NM)[T.QUEENS]         1811.2010    387.193      4.678      0.000    1050.075    2572.327\n",
      "C(BORO_NM)[T.STATEN ISLAND] -2887.7803    284.496    -10.151      0.000   -3447.030   -2328.531\n",
      "Labor_Force                    -0.3593      0.284     -1.265      0.207      -0.918       0.199\n",
      "Employed                        0.3560      0.284      1.253      0.211      -0.202       0.914\n",
      "Unemployed                      0.3543      0.284      1.248      0.213      -0.204       0.913\n",
      "Unemployment_Rate              -1.1609     10.619     -0.109      0.913     -22.035      19.713\n",
      "==============================================================================\n",
      "Omnibus:                       35.294   Durbin-Watson:                   1.884\n",
      "Prob(Omnibus):                  0.000   Jarque-Bera (JB):              151.667\n",
      "Skew:                           0.135   Prob(JB):                     1.16e-33\n",
      "Kurtosis:                       5.932   Cond. No.                     7.23e+07\n",
      "==============================================================================\n",
      "\n",
      "Notes:\n",
      "[1] Standard Errors assume that the covariance matrix of the errors is correctly specified.\n",
      "[2] The condition number is large, 7.23e+07. This might indicate that there are\n",
      "strong multicollinearity or other numerical problems.\n"
     ]
    }
   ],
   "source": [
    "#first fit the regression over the training data and report the results\n",
    "lm = smf.ols(formula = 'N_crimes ~ C(BORO_NM) + '+ '+'.join(Train_data.columns[2:]), data = Train_data).fit()\n",
    "OLS_coef=lm.params\n",
    "print(lm.summary())"
   ]
  },
  {
   "cell_type": "code",
   "execution_count": 61,
   "id": "3002a7ab",
   "metadata": {},
   "outputs": [
    {
     "data": {
      "text/plain": [
       "0.8913834653235929"
      ]
     },
     "execution_count": 61,
     "metadata": {},
     "output_type": "execute_result"
    }
   ],
   "source": [
    "from sklearn.metrics import r2_score\n",
    "r2_score(Test_data.N_crimes,lm.predict(Test_data))"
   ]
  },
  {
   "cell_type": "code",
   "execution_count": 62,
   "id": "69a90804",
   "metadata": {},
   "outputs": [
    {
     "data": {
      "text/plain": [
       "Intercept                      3895.696256\n",
       "C(BORO_NM)[T.BROOKLYN]         2770.931172\n",
       "C(BORO_NM)[T.MANHATTAN]        1477.873705\n",
       "C(BORO_NM)[T.QUEENS]           1811.201039\n",
       "C(BORO_NM)[T.STATEN ISLAND]   -2887.780253\n",
       "Labor_Force                      -0.359297\n",
       "Employed                          0.356035\n",
       "Unemployed                        0.354314\n",
       "Unemployment_Rate                -1.160918\n",
       "dtype: float64"
      ]
     },
     "execution_count": 62,
     "metadata": {},
     "output_type": "execute_result"
    }
   ],
   "source": [
    "lm.params"
   ]
  },
  {
   "cell_type": "markdown",
   "id": "62a199be",
   "metadata": {},
   "source": [
    "### Regularization methods"
   ]
  },
  {
   "cell_type": "code",
   "execution_count": 71,
   "id": "2106ffc9",
   "metadata": {},
   "outputs": [],
   "source": [
    "#Find the Alpha and report best test performance for Ridge/Lasso.\n",
    "def Regularization_fit_alpha(model,X_train,y_train,X_valid,y_valid,alphas,Graph=False, logl=False):\n",
    "    #model = 1-Ridge, 2-Lasso\n",
    "    #alphas: a list of alpha values to try\n",
    "    #Graph: plot the graph of R^2 values for different alpha\n",
    "\n",
    "    R_2_OS=[] #out of sample R2's\n",
    "    \n",
    "    #initialize the model to use for each given alpha\n",
    "    if model==1:\n",
    "        RM = lambda a: linear_model.Ridge(fit_intercept=True, alpha=a)\n",
    "        model_label='Ridge'\n",
    "    else:\n",
    "        RM = lambda a: linear_model.Lasso(fit_intercept=True, alpha=a)\n",
    "        model_label='Lasso'\n",
    "    \n",
    "    best_R2 = -1\n",
    "    best_alpha = alphas[0]\n",
    "    best_coefs = []\n",
    "    \n",
    "    for a in alphas: #for all alphas to try\n",
    "        lm = RM(a) #assign the model\n",
    "        lm.fit(X_train,y_train)  #fit the regularization model\n",
    "        y_predict=lm.predict(X_valid) #compute the prediction for the validation sample \n",
    "        R_2_OS_=r2_score(y_valid,y_predict)\n",
    "        R_2_OS.append(R_2_OS_)\n",
    "        if R_2_OS_ > best_R2: #if current OS R2 is the best - update the best solution\n",
    "            best_R2 = R_2_OS_\n",
    "            best_alpha = a\n",
    "            best_coefs = lm.coef_\n",
    "    \n",
    "    if Graph==True: #visualization of the performance depending on alpha\n",
    "        plt.title('OS-R-squared for different Alpha')\n",
    "        if logl: #log-scale\n",
    "            plt.xlabel('ln(Alpha)')\n",
    "            l=np.log(alphas)\n",
    "            bl=np.log(best_alpha)\n",
    "        else:\n",
    "            plt.xlabel('Alpha')\n",
    "            l=alphas\n",
    "            bl=best_alpha\n",
    "        plt.ylim((-0.1,1))\n",
    "        plt.plot(l,R_2_OS,'b',label=model_label)\n",
    "        plt.legend(loc='upper right')\n",
    "        plt.ylabel('R-squared')\n",
    "        plt.axvline(bl,color='r',linestyle='--')\n",
    "\n",
    "        plt.show()\n",
    "    \n",
    "    return [best_alpha,best_R2,best_coefs]\n"
   ]
  },
  {
   "cell_type": "code",
   "execution_count": 72,
   "id": "6aecd253",
   "metadata": {},
   "outputs": [
    {
     "data": {
      "text/html": [
       "<div>\n",
       "<style scoped>\n",
       "    .dataframe tbody tr th:only-of-type {\n",
       "        vertical-align: middle;\n",
       "    }\n",
       "\n",
       "    .dataframe tbody tr th {\n",
       "        vertical-align: top;\n",
       "    }\n",
       "\n",
       "    .dataframe thead th {\n",
       "        text-align: right;\n",
       "    }\n",
       "</style>\n",
       "<table border=\"1\" class=\"dataframe\">\n",
       "  <thead>\n",
       "    <tr style=\"text-align: right;\">\n",
       "      <th></th>\n",
       "      <th>BORO_NM</th>\n",
       "      <th>N_crimes</th>\n",
       "      <th>Labor_Force</th>\n",
       "      <th>Employed</th>\n",
       "      <th>Unemployed</th>\n",
       "      <th>Unemployment_Rate</th>\n",
       "      <th>BROOKLYN</th>\n",
       "      <th>MANHATTAN</th>\n",
       "      <th>QUEENS</th>\n",
       "      <th>STATEN ISLAND</th>\n",
       "    </tr>\n",
       "  </thead>\n",
       "  <tbody>\n",
       "    <tr>\n",
       "      <th>208</th>\n",
       "      <td>QUEENS</td>\n",
       "      <td>1761</td>\n",
       "      <td>1146600</td>\n",
       "      <td>1094700</td>\n",
       "      <td>51900</td>\n",
       "      <td>4.5</td>\n",
       "      <td>0</td>\n",
       "      <td>0</td>\n",
       "      <td>1</td>\n",
       "      <td>0</td>\n",
       "    </tr>\n",
       "    <tr>\n",
       "      <th>181</th>\n",
       "      <td>BROOKLYN</td>\n",
       "      <td>2356</td>\n",
       "      <td>1202500</td>\n",
       "      <td>1134900</td>\n",
       "      <td>67600</td>\n",
       "      <td>5.6</td>\n",
       "      <td>1</td>\n",
       "      <td>0</td>\n",
       "      <td>0</td>\n",
       "      <td>0</td>\n",
       "    </tr>\n",
       "    <tr>\n",
       "      <th>447</th>\n",
       "      <td>MANHATTAN</td>\n",
       "      <td>2058</td>\n",
       "      <td>876600</td>\n",
       "      <td>761000</td>\n",
       "      <td>115500</td>\n",
       "      <td>13.2</td>\n",
       "      <td>0</td>\n",
       "      <td>1</td>\n",
       "      <td>0</td>\n",
       "      <td>0</td>\n",
       "    </tr>\n",
       "    <tr>\n",
       "      <th>362</th>\n",
       "      <td>MANHATTAN</td>\n",
       "      <td>1956</td>\n",
       "      <td>960800</td>\n",
       "      <td>920100</td>\n",
       "      <td>40700</td>\n",
       "      <td>4.2</td>\n",
       "      <td>0</td>\n",
       "      <td>1</td>\n",
       "      <td>0</td>\n",
       "      <td>0</td>\n",
       "    </tr>\n",
       "    <tr>\n",
       "      <th>129</th>\n",
       "      <td>STATEN ISLAND</td>\n",
       "      <td>179</td>\n",
       "      <td>220900</td>\n",
       "      <td>206300</td>\n",
       "      <td>14600</td>\n",
       "      <td>6.6</td>\n",
       "      <td>0</td>\n",
       "      <td>0</td>\n",
       "      <td>0</td>\n",
       "      <td>1</td>\n",
       "    </tr>\n",
       "  </tbody>\n",
       "</table>\n",
       "</div>"
      ],
      "text/plain": [
       "           BORO_NM  N_crimes  Labor_Force  Employed  Unemployed  \\\n",
       "208         QUEENS      1761      1146600   1094700       51900   \n",
       "181       BROOKLYN      2356      1202500   1134900       67600   \n",
       "447      MANHATTAN      2058       876600    761000      115500   \n",
       "362      MANHATTAN      1956       960800    920100       40700   \n",
       "129  STATEN ISLAND       179       220900    206300       14600   \n",
       "\n",
       "     Unemployment_Rate  BROOKLYN  MANHATTAN  QUEENS  STATEN ISLAND  \n",
       "208                4.5         0          0       1              0  \n",
       "181                5.6         1          0       0              0  \n",
       "447               13.2         0          1       0              0  \n",
       "362                4.2         0          1       0              0  \n",
       "129                6.6         0          0       0              1  "
      ]
     },
     "execution_count": 72,
     "metadata": {},
     "output_type": "execute_result"
    }
   ],
   "source": [
    "# Create dummy variables for the 'BORO_NM' column\n",
    "boro_dummies_train = pd.get_dummies(Train_data['BORO_NM'], drop_first=True)\n",
    "\n",
    "# Concatenate the dummy variables with the original DataFrame\n",
    "Train_data_dummies = pd.concat([Train_data, boro_dummies_train], axis=1)\n",
    "Train_data_dummies.head()"
   ]
  },
  {
   "cell_type": "code",
   "execution_count": 73,
   "id": "311f8695",
   "metadata": {},
   "outputs": [
    {
     "data": {
      "text/html": [
       "<div>\n",
       "<style scoped>\n",
       "    .dataframe tbody tr th:only-of-type {\n",
       "        vertical-align: middle;\n",
       "    }\n",
       "\n",
       "    .dataframe tbody tr th {\n",
       "        vertical-align: top;\n",
       "    }\n",
       "\n",
       "    .dataframe thead th {\n",
       "        text-align: right;\n",
       "    }\n",
       "</style>\n",
       "<table border=\"1\" class=\"dataframe\">\n",
       "  <thead>\n",
       "    <tr style=\"text-align: right;\">\n",
       "      <th></th>\n",
       "      <th>BORO_NM</th>\n",
       "      <th>N_crimes</th>\n",
       "      <th>Labor_Force</th>\n",
       "      <th>Employed</th>\n",
       "      <th>Unemployed</th>\n",
       "      <th>Unemployment_Rate</th>\n",
       "      <th>BROOKLYN</th>\n",
       "      <th>MANHATTAN</th>\n",
       "      <th>QUEENS</th>\n",
       "      <th>STATEN ISLAND</th>\n",
       "    </tr>\n",
       "  </thead>\n",
       "  <tbody>\n",
       "    <tr>\n",
       "      <th>595</th>\n",
       "      <td>BRONX</td>\n",
       "      <td>2176</td>\n",
       "      <td>604100</td>\n",
       "      <td>562400</td>\n",
       "      <td>41700</td>\n",
       "      <td>6.9</td>\n",
       "      <td>0</td>\n",
       "      <td>0</td>\n",
       "      <td>0</td>\n",
       "      <td>0</td>\n",
       "    </tr>\n",
       "    <tr>\n",
       "      <th>260</th>\n",
       "      <td>BRONX</td>\n",
       "      <td>1656</td>\n",
       "      <td>628900</td>\n",
       "      <td>592300</td>\n",
       "      <td>36600</td>\n",
       "      <td>5.8</td>\n",
       "      <td>0</td>\n",
       "      <td>0</td>\n",
       "      <td>0</td>\n",
       "      <td>0</td>\n",
       "    </tr>\n",
       "    <tr>\n",
       "      <th>156</th>\n",
       "      <td>BROOKLYN</td>\n",
       "      <td>3071</td>\n",
       "      <td>1208300</td>\n",
       "      <td>1139700</td>\n",
       "      <td>68600</td>\n",
       "      <td>5.7</td>\n",
       "      <td>1</td>\n",
       "      <td>0</td>\n",
       "      <td>0</td>\n",
       "      <td>0</td>\n",
       "    </tr>\n",
       "    <tr>\n",
       "      <th>395</th>\n",
       "      <td>BRONX</td>\n",
       "      <td>1848</td>\n",
       "      <td>624900</td>\n",
       "      <td>589300</td>\n",
       "      <td>35500</td>\n",
       "      <td>5.7</td>\n",
       "      <td>0</td>\n",
       "      <td>0</td>\n",
       "      <td>0</td>\n",
       "      <td>0</td>\n",
       "    </tr>\n",
       "    <tr>\n",
       "      <th>563</th>\n",
       "      <td>QUEENS</td>\n",
       "      <td>2098</td>\n",
       "      <td>1135300</td>\n",
       "      <td>1078400</td>\n",
       "      <td>57000</td>\n",
       "      <td>5.0</td>\n",
       "      <td>0</td>\n",
       "      <td>0</td>\n",
       "      <td>1</td>\n",
       "      <td>0</td>\n",
       "    </tr>\n",
       "  </tbody>\n",
       "</table>\n",
       "</div>"
      ],
      "text/plain": [
       "      BORO_NM  N_crimes  Labor_Force  Employed  Unemployed  Unemployment_Rate  \\\n",
       "595     BRONX      2176       604100    562400       41700                6.9   \n",
       "260     BRONX      1656       628900    592300       36600                5.8   \n",
       "156  BROOKLYN      3071      1208300   1139700       68600                5.7   \n",
       "395     BRONX      1848       624900    589300       35500                5.7   \n",
       "563    QUEENS      2098      1135300   1078400       57000                5.0   \n",
       "\n",
       "     BROOKLYN  MANHATTAN  QUEENS  STATEN ISLAND  \n",
       "595         0          0       0              0  \n",
       "260         0          0       0              0  \n",
       "156         1          0       0              0  \n",
       "395         0          0       0              0  \n",
       "563         0          0       1              0  "
      ]
     },
     "execution_count": 73,
     "metadata": {},
     "output_type": "execute_result"
    }
   ],
   "source": [
    "# Create dummy variables for the 'BORO_NM' column\n",
    "boro_dummies_valid = pd.get_dummies(Valid_data['BORO_NM'], drop_first=True)\n",
    "\n",
    "# Concatenate the dummy variables with the original DataFrame\n",
    "Valid_data_dummies = pd.concat([Valid_data, boro_dummies_valid], axis=1)\n",
    "Valid_data_dummies.head()"
   ]
  },
  {
   "cell_type": "code",
   "execution_count": 74,
   "id": "c0f8b49a",
   "metadata": {},
   "outputs": [
    {
     "data": {
      "text/html": [
       "<div>\n",
       "<style scoped>\n",
       "    .dataframe tbody tr th:only-of-type {\n",
       "        vertical-align: middle;\n",
       "    }\n",
       "\n",
       "    .dataframe tbody tr th {\n",
       "        vertical-align: top;\n",
       "    }\n",
       "\n",
       "    .dataframe thead th {\n",
       "        text-align: right;\n",
       "    }\n",
       "</style>\n",
       "<table border=\"1\" class=\"dataframe\">\n",
       "  <thead>\n",
       "    <tr style=\"text-align: right;\">\n",
       "      <th></th>\n",
       "      <th>Labor_Force</th>\n",
       "      <th>Employed</th>\n",
       "      <th>Unemployed</th>\n",
       "      <th>Unemployment_Rate</th>\n",
       "      <th>BROOKLYN</th>\n",
       "      <th>MANHATTAN</th>\n",
       "      <th>QUEENS</th>\n",
       "      <th>STATEN ISLAND</th>\n",
       "    </tr>\n",
       "  </thead>\n",
       "  <tbody>\n",
       "    <tr>\n",
       "      <th>87</th>\n",
       "      <td>908800</td>\n",
       "      <td>854100</td>\n",
       "      <td>54700</td>\n",
       "      <td>6.0</td>\n",
       "      <td>0</td>\n",
       "      <td>1</td>\n",
       "      <td>0</td>\n",
       "      <td>0</td>\n",
       "    </tr>\n",
       "    <tr>\n",
       "      <th>386</th>\n",
       "      <td>1252300</td>\n",
       "      <td>1202200</td>\n",
       "      <td>50100</td>\n",
       "      <td>4.0</td>\n",
       "      <td>1</td>\n",
       "      <td>0</td>\n",
       "      <td>0</td>\n",
       "      <td>0</td>\n",
       "    </tr>\n",
       "    <tr>\n",
       "      <th>80</th>\n",
       "      <td>600000</td>\n",
       "      <td>543300</td>\n",
       "      <td>56700</td>\n",
       "      <td>9.4</td>\n",
       "      <td>0</td>\n",
       "      <td>0</td>\n",
       "      <td>0</td>\n",
       "      <td>0</td>\n",
       "    </tr>\n",
       "    <tr>\n",
       "      <th>542</th>\n",
       "      <td>916500</td>\n",
       "      <td>860200</td>\n",
       "      <td>56300</td>\n",
       "      <td>6.1</td>\n",
       "      <td>0</td>\n",
       "      <td>1</td>\n",
       "      <td>0</td>\n",
       "      <td>0</td>\n",
       "    </tr>\n",
       "    <tr>\n",
       "      <th>565</th>\n",
       "      <td>599300</td>\n",
       "      <td>555400</td>\n",
       "      <td>44000</td>\n",
       "      <td>7.3</td>\n",
       "      <td>0</td>\n",
       "      <td>0</td>\n",
       "      <td>0</td>\n",
       "      <td>0</td>\n",
       "    </tr>\n",
       "  </tbody>\n",
       "</table>\n",
       "</div>"
      ],
      "text/plain": [
       "     Labor_Force  Employed  Unemployed  Unemployment_Rate  BROOKLYN  \\\n",
       "87        908800    854100       54700                6.0         0   \n",
       "386      1252300   1202200       50100                4.0         1   \n",
       "80        600000    543300       56700                9.4         0   \n",
       "542       916500    860200       56300                6.1         0   \n",
       "565       599300    555400       44000                7.3         0   \n",
       "\n",
       "     MANHATTAN  QUEENS  STATEN ISLAND  \n",
       "87           1       0              0  \n",
       "386          0       0              0  \n",
       "80           0       0              0  \n",
       "542          1       0              0  \n",
       "565          0       0              0  "
      ]
     },
     "execution_count": 74,
     "metadata": {},
     "output_type": "execute_result"
    }
   ],
   "source": [
    "# Create dummy variables for the 'BORO_NM' column\n",
    "boro_dummies_test = pd.get_dummies(Test_data['BORO_NM'], drop_first=True)\n",
    "\n",
    "# Concatenate the dummy variables with the original DataFrame\n",
    "Test_data_dummies = pd.concat([Test_data, boro_dummies_test], axis=1)\n",
    "Test_data_dummies.iloc[:,2:].head()"
   ]
  },
  {
   "cell_type": "code",
   "execution_count": 75,
   "id": "8a649bce",
   "metadata": {},
   "outputs": [
    {
     "name": "stdout",
     "output_type": "stream",
     "text": [
      "Optimal alpha for Lasso=4.5399929762484854e-05, best Validation R_2=0.8924918170828328\n"
     ]
    }
   ],
   "source": [
    "alphas = np.exp(np.linspace(-10,10,200))\n",
    "[alpha_optimal, best_R2, best_coefs]=Regularization_fit_alpha(2,\n",
    "                                                              Train_data_dummies.iloc[:,2:],Train_data_dummies.N_crimes,\n",
    "                                                              Valid_data_dummies.iloc[:,2:],Valid_data_dummies.N_crimes,\n",
    "                                                              alphas,Graph=False,logl=True)\n",
    "print('Optimal alpha for Lasso={0}, best Validation R_2={1}'.format(alpha_optimal,best_R2))"
   ]
  },
  {
   "cell_type": "code",
   "execution_count": 76,
   "id": "049377c2",
   "metadata": {},
   "outputs": [
    {
     "name": "stdout",
     "output_type": "stream",
     "text": [
      "The OS R-squared of Lasso is: 0.8919627340806562\n"
     ]
    },
    {
     "data": {
      "text/plain": [
       "array([-2.95950616e-03,  2.08241258e-05, -1.44183932e-03, -2.04815225e+00,\n",
       "        2.56100422e+03,  1.37436005e+03,  1.62768623e+03, -2.75195278e+03])"
      ]
     },
     "execution_count": 76,
     "metadata": {},
     "output_type": "execute_result"
    }
   ],
   "source": [
    "# Perfromance over the test set\n",
    "Lasso=linear_model.Lasso(fit_intercept=True, alpha=alpha_optimal)\n",
    "Lasso.fit(Train_data_dummies.iloc[:,2:],Train_data_dummies.N_crimes)\n",
    "\n",
    "yPred_OS=Lasso.predict(Test_data_dummies.iloc[:,2:])\n",
    "print(\"The OS R-squared of Lasso is: {0}\".format(r2_score(Test_data_dummies.N_crimes,yPred_OS)))\n",
    "Lasso.coef_"
   ]
  },
  {
   "cell_type": "markdown",
   "id": "cf17d2f9",
   "metadata": {},
   "source": [
    "Interpretation:\n",
    "\n",
    "- Optimal Alpha: \n",
    "Optimal alpha value using Lasso regression that maximizes the validation R-squared, which is around 0.8926. This suggests that the Lasso model with this alpha value is able to explain a large portion of the variability in the crime numbers on the validation set.\n",
    "\n",
    "- Test Performance: \n",
    "The R-squared value on the test set is approximately 0.8919, which is very close to the R-squared on the validation set. This indicates good generalization of the Lasso model to unseen data.\n",
    "\n",
    "- Coefficients: \n",
    "The Lasso regression has resulted in some coefficients being shrunk towards zero, which means those variables contribute less to the model's predictions. \n",
    "\n",
    "The output suggests that variables like 'Labor_Force' have coefficients close to zero, indicating a smaller or negligible effect on the number of crimes after regularization."
   ]
  },
  {
   "cell_type": "markdown",
   "id": "1adcf37e",
   "metadata": {},
   "source": [
    "##### Decide whether to use the Lasso model or the original OLS model:\n",
    "\n",
    "1. R-squared and Adjusted R-squared: \n",
    "Both the Lasso and the original OLS models have similar R-squared values, which are quite high. This means both models explain a significant portion of the variance in the number of crimes. However, the R-squared alone does not account for model complexity.\n",
    "\n",
    "\n",
    "2. Multicollinearity: \n",
    "The note in the OLS output indicates potential multicollinearity (\"the smallest eigenvalue is close to 0\"). This is a problem Lasso helps to address by shrinking some coefficients towards zero, thereby potentially removing collinear predictors.\n",
    "\n",
    "3. Coefficient Significance:\n",
    "In the OLS model, some predictors are not statistically significant (e.g., Labor_Force, Unemployed, and Unemployment_Rate have high p-values), meaning they might not contribute meaningful information to the model. Lasso has likely removed or reduced the impact of these variables.\n",
    "\n",
    "4. Model Validation: You should validate both models on a hold-out test set or use cross-validation to assess their performance. The model that performs better on unseen data is usually preferred.\n",
    "\n",
    "5. Interpretability: If interpretability is important for your study, the OLS model provides direct insight into the effect size of each predictor, assuming there's no multicollinearity. However, if Lasso has selected variables, it provides a model that might be more robust to multicollinearity but possibly harder to interpret due to the shrinkage of coefficients.\n",
    "\n",
    "Given these points,  based on the provided results, the Lasso model appears to be the better choice. It deals effectively with multicollinearity, maintains a high R-squared value, and likely provides a more parsimonious model compared to the original OLS model."
   ]
  },
  {
   "cell_type": "markdown",
   "id": "d3655573",
   "metadata": {},
   "source": [
    "### Lasso model \n",
    "\n",
    "- Dropping the regressors with coefficients that are very small (near zero) as indicated by the Lasso model\n",
    "\n",
    "- Labor_Force: -2.95950616e-03 (very close to zero)\n",
    "- Employed: 2.08241258e-05 (very close to zero)\n",
    "- Unemployed: -1.44183932e-03 (very close to zero)\n",
    "- Unemployment_Rate: -2.04815225e+00\n",
    "- BROOKLYN: 2.56100422e+03\n",
    "- MANHATTAN: 1.37436005e+03\n",
    "- QUEENS: 1.62768623e+03\n",
    "- STATEN_ISLAND: -2.75195278e+03\n",
    "\n",
    "Decision: \n",
    "Drop: 'Labor_Force', 'Employed', and 'Unemployed' have coefficients very close to zero, suggesting that they have little to no influence on the prediction of crime numbers after the Lasso regularization process."
   ]
  },
  {
   "cell_type": "code",
   "execution_count": 77,
   "id": "12e1be9b",
   "metadata": {},
   "outputs": [
    {
     "name": "stdout",
     "output_type": "stream",
     "text": [
      "                            OLS Regression Results                            \n",
      "==============================================================================\n",
      "Dep. Variable:               N_crimes   R-squared:                       0.886\n",
      "Model:                            OLS   Adj. R-squared:                  0.885\n",
      "Method:                 Least Squares   F-statistic:                     923.3\n",
      "Date:                Thu, 07 Dec 2023   Prob (F-statistic):          2.60e-277\n",
      "Time:                        23:17:23   Log-Likelihood:                -4241.1\n",
      "No. Observations:                 600   AIC:                             8494.\n",
      "Df Residuals:                     594   BIC:                             8521.\n",
      "Df Model:                           5                                         \n",
      "Covariance Type:            nonrobust                                         \n",
      "===============================================================================================\n",
      "                                  coef    std err          t      P>|t|      [0.025      0.975]\n",
      "-----------------------------------------------------------------------------------------------\n",
      "Intercept                    1803.6395     41.734     43.217      0.000    1721.675    1885.604\n",
      "C(BORO_NM)[T.BROOKLYN]        741.3226     37.651     19.689      0.000     667.378     815.268\n",
      "C(BORO_NM)[T.MANHATTAN]       473.8511     38.941     12.169      0.000     397.373     550.329\n",
      "C(BORO_NM)[T.QUEENS]           -8.0525     38.304     -0.210      0.834     -83.280      67.175\n",
      "C(BORO_NM)[T.STATEN ISLAND] -1544.9752     38.040    -40.615      0.000   -1619.684   -1470.266\n",
      "Unemployment_Rate              -1.9437      3.593     -0.541      0.589      -8.999       5.112\n",
      "==============================================================================\n",
      "Omnibus:                       44.026   Durbin-Watson:                   0.870\n",
      "Prob(Omnibus):                  0.000   Jarque-Bera (JB):               90.112\n",
      "Skew:                           0.443   Prob(JB):                     2.71e-20\n",
      "Kurtosis:                       4.680   Cond. No.                         47.1\n",
      "==============================================================================\n",
      "\n",
      "Notes:\n",
      "[1] Standard Errors assume that the covariance matrix of the errors is correctly specified.\n"
     ]
    }
   ],
   "source": [
    "lm = smf.ols(formula= 'N_crimes ~ Unemployment_Rate + C(BORO_NM)', data = Combined_data).fit()\n",
    "print(lm.summary())"
   ]
  },
  {
   "cell_type": "markdown",
   "id": "f3396690",
   "metadata": {},
   "source": [
    "Original OLS Model\n",
    "- R-squared: 0.892\n",
    "- Adjusted R-squared: 0.891\n",
    "- Condition Number: 7.34e+07, Indicates potential multicollinearity (smallest eigenvalue is 1.6e-29).\n",
    "\n",
    "Post-Lasso OLS Model\n",
    "- R-squared: 0.886\n",
    "- Adjusted R-squared: 0.885\n",
    "- Condition Number: 47.1, Better condition number, indicating reduced multicollinearity.\n",
    "\n",
    "Interpretation:\n",
    "- The R-squared values are very similar between the two models, indicating that both models explain a high proportion of the variance in 'N_crimes'. The slight decrease in R-squared for the Post-Lasso model is not substantial, suggesting that the removal of 'Labor_Force', 'Employed', and 'Unemployed' did not significantly reduce the model's explanatory power.\n",
    "\n",
    "- The Adjusted R-squared also decreased slightly in the Post-Lasso model, but this is expected when variables are removed from a model. The fact that it remains high suggests the model is still robust.\n",
    "\n",
    "- The condition number is improved in the Post-Lasso model. A lower condition number indicates less multicollinearity, suggesting that the Post-Lasso model is more stable and the coefficient estimates are more reliable.\n",
    "\n",
    "\n",
    "Conclusion:\n",
    "- The Post-Lasso model is preferred because it is simpler (fewer variables), has dealt with multicollinearity, and has maintained a high level of explanatory power (as indicated by the R-squared values).\n",
    "\n",
    "- This model should be more generalizable to new data because it is based on fewer predictors, and Lasso regularization helps to prevent overfitting.\n",
    "\n",
    "- The coefficients in the Post-Lasso model are likely to be more reliable, as they are less affected by multicollinearity, making the model more interpretable.\n",
    "\n",
    "In summary, the Post-Lasso OLS model is a better choice for further analysis and forecasting due to its stability, reliability, and simplicity, without sacrificing much explanatory power."
   ]
  },
  {
   "cell_type": "code",
   "execution_count": null,
   "id": "60fbcd14",
   "metadata": {},
   "outputs": [],
   "source": []
  }
 ],
 "metadata": {
  "kernelspec": {
   "display_name": "Python 3 (ipykernel)",
   "language": "python",
   "name": "python3"
  },
  "language_info": {
   "codemirror_mode": {
    "name": "ipython",
    "version": 3
   },
   "file_extension": ".py",
   "mimetype": "text/x-python",
   "name": "python",
   "nbconvert_exporter": "python",
   "pygments_lexer": "ipython3",
   "version": "3.9.12"
  }
 },
 "nbformat": 4,
 "nbformat_minor": 5
}
